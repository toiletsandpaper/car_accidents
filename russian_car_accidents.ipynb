{
  "cells": [
    {
      "attachments": {},
      "cell_type": "markdown",
      "metadata": {
        "id": "WxS2v3YiEVWa"
      },
      "source": [
        "# В данной работе будет исследоваться:\n",
        "1. Зависимость количества ДТП от ям\\неровностей на дороге\n",
        "2. ...\n"
      ]
    },
    {
      "attachments": {},
      "cell_type": "markdown",
      "metadata": {},
      "source": [
        "## Installing dependecies, importing some of them and setting global variables"
      ]
    },
    {
      "cell_type": "code",
      "execution_count": null,
      "metadata": {
        "colab": {
          "base_uri": "https://localhost:8080/"
        },
        "id": "3-9hC4jSESml",
        "outputId": "247c233b-a5d6-4119-e8a7-8f99f5e40711"
      },
      "outputs": [],
      "source": [
        "%pip install -qU setuptools pandas numpy plotly rich tqdm geopandas geojson bs4 requests ipywidgets jupyterlab_widgets pydantic"
      ]
    },
    {
      "cell_type": "code",
      "execution_count": null,
      "metadata": {
        "id": "YqmMh5YiIosm"
      },
      "outputs": [],
      "source": [
        "import pickle\n",
        "from rich import print\n",
        "from tqdm.notebook import tqdm\n",
        "from pathlib import Path\n",
        "# from google.colab import output\n",
        "# output.enable_custom_widget_manager()\n",
        "\n",
        "data_accidents_source_url = 'https://dtp-stat.ru/opendata'"
      ]
    },
    {
      "attachments": {},
      "cell_type": "markdown",
      "metadata": {},
      "source": [
        "## Downloading data\n",
        "If you are already have data in `./data` folder - skip this section"
      ]
    },
    {
      "attachments": {},
      "cell_type": "markdown",
      "metadata": {},
      "source": [
        "### Download HTML table and save links to list\n",
        "source link was added in import section:\n",
        "```python\n",
        "data_accidents_source_usr = 'https://dtp-stat.ru/opendata'\n",
        "```"
      ]
    },
    {
      "cell_type": "code",
      "execution_count": null,
      "metadata": {
        "colab": {
          "base_uri": "https://localhost:8080/",
          "height": 1000
        },
        "id": "9sQjIO9sGT87",
        "outputId": "dee84d2c-0b2e-4a40-b944-e38e2f3e98ba"
      },
      "outputs": [],
      "source": [
        "from bs4 import BeautifulSoup\n",
        "import urllib.request\n",
        "\n",
        "html_page = urllib.request.urlopen(data_accidents_source_url)\n",
        "soup = BeautifulSoup(html_page, \"html.parser\")\n",
        "download_links = []\n",
        "for link in soup.findAll('a'):\n",
        "    link_href = link.get('href')\n",
        "    download_links.append(link_href) if '.geojson' in link_href else None\n",
        "print(download_links)"
      ]
    },
    {
      "attachments": {},
      "cell_type": "markdown",
      "metadata": {},
      "source": [
        "### Download every file and store it `./data/*.geojson` file\n",
        "NOTE: `geojson_files` will be changed in next cell"
      ]
    },
    {
      "cell_type": "code",
      "execution_count": null,
      "metadata": {
        "colab": {
          "base_uri": "https://localhost:8080/"
        },
        "id": "bmIat1PMHjlM",
        "outputId": "e87fcedc-f965-42da-96e1-3576a618e332"
      },
      "outputs": [],
      "source": [
        "import requests\n",
        "from pathlib import Path\n",
        "\n",
        "geojson_files = []\n",
        "Path.mkdir(Path('data'), exist_ok=True)\n",
        "\n",
        "for file_link in tqdm(download_links):\n",
        "    file_data = requests.get(file_link).content\n",
        "    with open(file_link.replace('https://cms.dtp-stat.ru/media/opendata/', 'data/'), 'wb+') as file:\n",
        "        geojson_files.append(file.name)\n",
        "        file.write(file_data)\n"
      ]
    },
    {
      "attachments": {},
      "cell_type": "markdown",
      "metadata": {},
      "source": [
        "## Loading data from file and convert it to `CarAccident` class"
      ]
    },
    {
      "attachments": {},
      "cell_type": "markdown",
      "metadata": {},
      "source": [
        "### Load data from file and store it `geojson_objects` list"
      ]
    },
    {
      "cell_type": "code",
      "execution_count": null,
      "metadata": {},
      "outputs": [],
      "source": [
        "import json\n",
        "import geojson \n",
        "\n",
        "# for those who already have the data downloaded, so you can skip the previous cell\n",
        "geojson_files = [str(file) for file in Path.cwd().glob('data/*.geojson')]\n",
        "geojson_objects = []\n",
        "\n",
        "for file in tqdm(geojson_files):\n",
        "    with open(file, 'r', encoding='utf-8') as f:\n",
        "            data = json.loads(f.read())\n",
        "            geojson_objects.append(geojson.FeatureCollection(data['features']))\n",
        "            #print(data['features'][0]['properties'])\n",
        "print(geojson_objects[0].features[0]['properties'])"
      ]
    },
    {
      "attachments": {},
      "cell_type": "markdown",
      "metadata": {},
      "source": [
        "### Create a dataclasses for better data analysis\n",
        "NOTE that dataclasses are inherits from `pydantic.BaseModel`"
      ]
    },
    {
      "cell_type": "code",
      "execution_count": null,
      "metadata": {},
      "outputs": [],
      "source": [
        "from pydantic import BaseModel\n",
        "\n",
        "class Participant(BaseModel):\n",
        "    role: str | None\n",
        "    gender: str | None\n",
        "    violations: list | None\n",
        "    health_status: str | None\n",
        "    years_of_driving_experience: int | None\n",
        "\n",
        "class Vehicle(BaseModel):\n",
        "    year: int | None\n",
        "    brand: str | None\n",
        "    color: str | None\n",
        "    category: str | None\n",
        "    participants: list[Participant] | None\n",
        "\n",
        "class CarAccident(BaseModel):\n",
        "    id: int | None\n",
        "    tags: list | None\n",
        "    light: str | None\n",
        "    point: dict | None\n",
        "    nearby: list | None\n",
        "    region: str | None\n",
        "    scheme: str | None\n",
        "    address: str | None\n",
        "    weather: list | None \n",
        "    category: str | None\n",
        "    datetime: str | None\n",
        "    severity: str | None\n",
        "    vehicles: list[Vehicle] | None \n",
        "    dead_count: int | None\n",
        "    participants: list[Participant] | None\n",
        "    injured_count: int | None\n",
        "    parent_region: str | None \n",
        "    road_conditions: list | None\n",
        "    participants_count: int | None\n",
        "    participant_categories: list | None"
      ]
    },
    {
      "cell_type": "code",
      "execution_count": null,
      "metadata": {},
      "outputs": [],
      "source": [
        "# load properties from geojson_objects to CarAccident objects\n",
        "car_accidents = []\n",
        "for geojson_object in tqdm(geojson_objects):\n",
        "    for feature in geojson_object['features']:\n",
        "        car_accident = CarAccident(**feature['properties'])\n",
        "        car_accidents.append(car_accident)\n",
        "\n",
        "print(car_accidents[0])"
      ]
    },
    {
      "cell_type": "code",
      "execution_count": null,
      "metadata": {},
      "outputs": [],
      "source": [
        "# create a set variable for every list of CarAccident objects\n",
        "tags_set = set()\n",
        "light_set = set()\n",
        "nearby_set = set()\n",
        "region_set = set()\n",
        "scheme_set = set()\n",
        "address_set = set()\n",
        "weather_set = set()\n",
        "category_set = set()\n",
        "severity_set = set()\n",
        "dead_count_set = set()\n",
        "injured_count_set = set()\n",
        "parent_region_set = set()\n",
        "road_conditions_set = set()\n",
        "participants_count_set = set()\n",
        "participant_categories_set = set()\n",
        "\n",
        "participant_role_set = set()\n",
        "participant_gender_set = set()\n",
        "participant_violations_set = set()\n",
        "participant_health_status_set = set()\n",
        "participant_years_of_driving_experience_set = set()\n",
        "\n",
        "vehicle_year_set = set()\n",
        "vehicle_brand_set = set()\n",
        "vehicle_color_set = set()  # xD\n",
        "vehicle_category_set = set()\n",
        "\n",
        "for accident in tqdm(car_accidents):\n",
        "    tags_set.update(accident.tags)\n",
        "    light_set.update([accident.light])\n",
        "    nearby_set.update(accident.nearby)\n",
        "    region_set.update([accident.region])\n",
        "    scheme_set.update([accident.scheme])\n",
        "    address_set.update([accident.address])\n",
        "    weather_set.update(accident.weather)\n",
        "    category_set.update([accident.category])\n",
        "    severity_set.update([accident.severity])\n",
        "    dead_count_set.update([accident.dead_count])\n",
        "    injured_count_set.update([accident.injured_count])\n",
        "    parent_region_set.update([accident.parent_region])\n",
        "    road_conditions_set.update(accident.road_conditions)\n",
        "    participants_count_set.update([accident.participants_count])\n",
        "    participant_categories_set.update(accident.participant_categories)\n",
        "    [participant_violations_set.update(participant.violations) for vehicle in accident.vehicles for participant in vehicle.participants]\n",
        "    participant_role_set.update(participant.role for vehicle in accident.vehicles for participant in vehicle.participants)\n",
        "    participant_gender_set.update(participant.gender for vehicle in accident.vehicles for participant in vehicle.participants)\n",
        "    participant_health_status_set.update(participant.health_status for vehicle in accident.vehicles for participant in vehicle.participants)\n",
        "    vehicle_year_set.update(str(vehicle.year) for vehicle in accident.vehicles)\n",
        "    vehicle_brand_set.update(vehicle.brand for vehicle in accident.vehicles)\n",
        "    vehicle_color_set.update(vehicle.color for vehicle in accident.vehicles)\n",
        "    vehicle_category_set.update(vehicle.category for vehicle in accident.vehicles)"
      ]
    },
    {
      "cell_type": "code",
      "execution_count": null,
      "metadata": {},
      "outputs": [],
      "source": [
        "# print(f'Tags: {tags_set}')\n",
        "# print(f'Weather: {weather_set}')\n",
        "# print(f'Participant categories: {participant_categories_set}')\n",
        "# print(f'Road conditions: {road_conditions_set}')\n",
        "# print(f'Participant roles: {participant_violations_set}')\n",
        "# print(f'Vehicle colors: {vehicle_color_set}')\n",
        "\n",
        "print(f'tags_set = {tags_set}')\n",
        "print(f'light_set = {light_set}')\n",
        "print(f'nearby_set = {nearby_set}')\n",
        "print(f'region_set = {region_set}')\n",
        "print(f'scheme_set = {scheme_set}')\n",
        "print(f'address_set = {address_set}')\n",
        "print(f'weather_set = {weather_set}')\n",
        "print(f'category_set = {category_set}')\n",
        "print(f'severity_set = {severity_set}')\n",
        "print(f'dead_count_set = {dead_count_set}')\n",
        "print(f'injured_count_set = {injured_count_set}')\n",
        "print(f'parent_region_set = {parent_region_set}')\n",
        "print(f'road_conditions_set = {road_conditions_set}')\n",
        "print(f'participants_count_set = {participants_count_set}')\n",
        "print(f'participant_categories_set = {participant_categories_set}')\n",
        "\n",
        "print(f'participant_role_set = {participant_role_set}')\n",
        "print(f'participant_gender_set = {participant_gender_set}')\n",
        "print(f'participant_violations_set = {participant_violations_set}')\n",
        "print(f'participant_health_status_set = {participant_health_status_set}')\n",
        "print(f'participant_years_of_driving_experience_set = {participant_years_of_driving_experience_set}')\n",
        "\n",
        "print(f'vehicle_year_set = {vehicle_year_set}')\n",
        "print(f'vehicle_brand_set = {vehicle_brand_set}')\n",
        "print(f'vehicle_color_set = {vehicle_color_set}')\n",
        "print(f'vehicle_category_set = {vehicle_category_set}')"
      ]
    }
  ],
  "metadata": {
    "colab": {
      "provenance": []
    },
    "kernelspec": {
      "display_name": "Python 3",
      "language": "python",
      "name": "python3"
    },
    "language_info": {
      "codemirror_mode": {
        "name": "ipython",
        "version": 3
      },
      "file_extension": ".py",
      "mimetype": "text/x-python",
      "name": "python",
      "nbconvert_exporter": "python",
      "pygments_lexer": "ipython3",
      "version": "3.10.6 (main, Nov 14 2022, 16:10:14) [GCC 11.3.0]"
    },
    "vscode": {
      "interpreter": {
        "hash": "31f2aee4e71d21fbe5cf8b01ff0e069b9275f58929596ceb00d14d90e3e16cd6"
      }
    },
    "widgets": {
      "application/vnd.jupyter.widget-state+json": {
        "0a9898d192694bfdb4b22f9f6fc407fa": {
          "model_module": "@jupyter-widgets/controls",
          "model_module_version": "1.5.0",
          "model_name": "HTMLModel",
          "state": {
            "_dom_classes": [],
            "_model_module": "@jupyter-widgets/controls",
            "_model_module_version": "1.5.0",
            "_model_name": "HTMLModel",
            "_view_count": null,
            "_view_module": "@jupyter-widgets/controls",
            "_view_module_version": "1.5.0",
            "_view_name": "HTMLView",
            "description": "",
            "description_tooltip": null,
            "layout": "IPY_MODEL_cba74f5ea320490ebf6ec7c799b4633b",
            "placeholder": "​",
            "style": "IPY_MODEL_b6fb0a4bb4de41a9adbc094105eaee29",
            "value": " 26/85 [01:44&lt;04:34,  4.65s/it]"
          }
        },
        "1cf610b702fc42908e7dbe87108b8e8e": {
          "model_module": "@jupyter-widgets/controls",
          "model_module_version": "1.5.0",
          "model_name": "DescriptionStyleModel",
          "state": {
            "_model_module": "@jupyter-widgets/controls",
            "_model_module_version": "1.5.0",
            "_model_name": "DescriptionStyleModel",
            "_view_count": null,
            "_view_module": "@jupyter-widgets/base",
            "_view_module_version": "1.2.0",
            "_view_name": "StyleView",
            "description_width": ""
          }
        },
        "1de7579f111b49e593f611c2428b6678": {
          "model_module": "@jupyter-widgets/controls",
          "model_module_version": "1.5.0",
          "model_name": "ProgressStyleModel",
          "state": {
            "_model_module": "@jupyter-widgets/controls",
            "_model_module_version": "1.5.0",
            "_model_name": "ProgressStyleModel",
            "_view_count": null,
            "_view_module": "@jupyter-widgets/base",
            "_view_module_version": "1.2.0",
            "_view_name": "StyleView",
            "bar_color": null,
            "description_width": ""
          }
        },
        "252afef2a9b7441aac756e81778a88f3": {
          "model_module": "@jupyter-widgets/base",
          "model_module_version": "1.2.0",
          "model_name": "LayoutModel",
          "state": {
            "_model_module": "@jupyter-widgets/base",
            "_model_module_version": "1.2.0",
            "_model_name": "LayoutModel",
            "_view_count": null,
            "_view_module": "@jupyter-widgets/base",
            "_view_module_version": "1.2.0",
            "_view_name": "LayoutView",
            "align_content": null,
            "align_items": null,
            "align_self": null,
            "border": null,
            "bottom": null,
            "display": null,
            "flex": null,
            "flex_flow": null,
            "grid_area": null,
            "grid_auto_columns": null,
            "grid_auto_flow": null,
            "grid_auto_rows": null,
            "grid_column": null,
            "grid_gap": null,
            "grid_row": null,
            "grid_template_areas": null,
            "grid_template_columns": null,
            "grid_template_rows": null,
            "height": null,
            "justify_content": null,
            "justify_items": null,
            "left": null,
            "margin": null,
            "max_height": null,
            "max_width": null,
            "min_height": null,
            "min_width": null,
            "object_fit": null,
            "object_position": null,
            "order": null,
            "overflow": null,
            "overflow_x": null,
            "overflow_y": null,
            "padding": null,
            "right": null,
            "top": null,
            "visibility": null,
            "width": null
          }
        },
        "3dfa66102da649dab81775c8025597fa": {
          "model_module": "@jupyter-widgets/base",
          "model_module_version": "1.2.0",
          "model_name": "LayoutModel",
          "state": {
            "_model_module": "@jupyter-widgets/base",
            "_model_module_version": "1.2.0",
            "_model_name": "LayoutModel",
            "_view_count": null,
            "_view_module": "@jupyter-widgets/base",
            "_view_module_version": "1.2.0",
            "_view_name": "LayoutView",
            "align_content": null,
            "align_items": null,
            "align_self": null,
            "border": null,
            "bottom": null,
            "display": null,
            "flex": null,
            "flex_flow": null,
            "grid_area": null,
            "grid_auto_columns": null,
            "grid_auto_flow": null,
            "grid_auto_rows": null,
            "grid_column": null,
            "grid_gap": null,
            "grid_row": null,
            "grid_template_areas": null,
            "grid_template_columns": null,
            "grid_template_rows": null,
            "height": null,
            "justify_content": null,
            "justify_items": null,
            "left": null,
            "margin": null,
            "max_height": null,
            "max_width": null,
            "min_height": null,
            "min_width": null,
            "object_fit": null,
            "object_position": null,
            "order": null,
            "overflow": null,
            "overflow_x": null,
            "overflow_y": null,
            "padding": null,
            "right": null,
            "top": null,
            "visibility": null,
            "width": null
          }
        },
        "7e180fbc824848abad153638094a9953": {
          "model_module": "@jupyter-widgets/controls",
          "model_module_version": "1.5.0",
          "model_name": "HTMLModel",
          "state": {
            "_dom_classes": [],
            "_model_module": "@jupyter-widgets/controls",
            "_model_module_version": "1.5.0",
            "_model_name": "HTMLModel",
            "_view_count": null,
            "_view_module": "@jupyter-widgets/controls",
            "_view_module_version": "1.5.0",
            "_view_name": "HTMLView",
            "description": "",
            "description_tooltip": null,
            "layout": "IPY_MODEL_b33e9169e8ae4e52ab0d7b5c959703fa",
            "placeholder": "​",
            "style": "IPY_MODEL_1cf610b702fc42908e7dbe87108b8e8e",
            "value": " 31%"
          }
        },
        "b33e9169e8ae4e52ab0d7b5c959703fa": {
          "model_module": "@jupyter-widgets/base",
          "model_module_version": "1.2.0",
          "model_name": "LayoutModel",
          "state": {
            "_model_module": "@jupyter-widgets/base",
            "_model_module_version": "1.2.0",
            "_model_name": "LayoutModel",
            "_view_count": null,
            "_view_module": "@jupyter-widgets/base",
            "_view_module_version": "1.2.0",
            "_view_name": "LayoutView",
            "align_content": null,
            "align_items": null,
            "align_self": null,
            "border": null,
            "bottom": null,
            "display": null,
            "flex": null,
            "flex_flow": null,
            "grid_area": null,
            "grid_auto_columns": null,
            "grid_auto_flow": null,
            "grid_auto_rows": null,
            "grid_column": null,
            "grid_gap": null,
            "grid_row": null,
            "grid_template_areas": null,
            "grid_template_columns": null,
            "grid_template_rows": null,
            "height": null,
            "justify_content": null,
            "justify_items": null,
            "left": null,
            "margin": null,
            "max_height": null,
            "max_width": null,
            "min_height": null,
            "min_width": null,
            "object_fit": null,
            "object_position": null,
            "order": null,
            "overflow": null,
            "overflow_x": null,
            "overflow_y": null,
            "padding": null,
            "right": null,
            "top": null,
            "visibility": null,
            "width": null
          }
        },
        "b6fb0a4bb4de41a9adbc094105eaee29": {
          "model_module": "@jupyter-widgets/controls",
          "model_module_version": "1.5.0",
          "model_name": "DescriptionStyleModel",
          "state": {
            "_model_module": "@jupyter-widgets/controls",
            "_model_module_version": "1.5.0",
            "_model_name": "DescriptionStyleModel",
            "_view_count": null,
            "_view_module": "@jupyter-widgets/base",
            "_view_module_version": "1.2.0",
            "_view_name": "StyleView",
            "description_width": ""
          }
        },
        "ca0b4e7f71fe4d7b937a70607e173c78": {
          "model_module": "@jupyter-widgets/controls",
          "model_module_version": "1.5.0",
          "model_name": "HBoxModel",
          "state": {
            "_dom_classes": [],
            "_model_module": "@jupyter-widgets/controls",
            "_model_module_version": "1.5.0",
            "_model_name": "HBoxModel",
            "_view_count": null,
            "_view_module": "@jupyter-widgets/controls",
            "_view_module_version": "1.5.0",
            "_view_name": "HBoxView",
            "box_style": "",
            "children": [
              "IPY_MODEL_7e180fbc824848abad153638094a9953",
              "IPY_MODEL_f7a8040ba3394edcac054576deb475fd",
              "IPY_MODEL_0a9898d192694bfdb4b22f9f6fc407fa"
            ],
            "layout": "IPY_MODEL_3dfa66102da649dab81775c8025597fa"
          }
        },
        "cba74f5ea320490ebf6ec7c799b4633b": {
          "model_module": "@jupyter-widgets/base",
          "model_module_version": "1.2.0",
          "model_name": "LayoutModel",
          "state": {
            "_model_module": "@jupyter-widgets/base",
            "_model_module_version": "1.2.0",
            "_model_name": "LayoutModel",
            "_view_count": null,
            "_view_module": "@jupyter-widgets/base",
            "_view_module_version": "1.2.0",
            "_view_name": "LayoutView",
            "align_content": null,
            "align_items": null,
            "align_self": null,
            "border": null,
            "bottom": null,
            "display": null,
            "flex": null,
            "flex_flow": null,
            "grid_area": null,
            "grid_auto_columns": null,
            "grid_auto_flow": null,
            "grid_auto_rows": null,
            "grid_column": null,
            "grid_gap": null,
            "grid_row": null,
            "grid_template_areas": null,
            "grid_template_columns": null,
            "grid_template_rows": null,
            "height": null,
            "justify_content": null,
            "justify_items": null,
            "left": null,
            "margin": null,
            "max_height": null,
            "max_width": null,
            "min_height": null,
            "min_width": null,
            "object_fit": null,
            "object_position": null,
            "order": null,
            "overflow": null,
            "overflow_x": null,
            "overflow_y": null,
            "padding": null,
            "right": null,
            "top": null,
            "visibility": null,
            "width": null
          }
        },
        "f7a8040ba3394edcac054576deb475fd": {
          "model_module": "@jupyter-widgets/controls",
          "model_module_version": "1.5.0",
          "model_name": "FloatProgressModel",
          "state": {
            "_dom_classes": [],
            "_model_module": "@jupyter-widgets/controls",
            "_model_module_version": "1.5.0",
            "_model_name": "FloatProgressModel",
            "_view_count": null,
            "_view_module": "@jupyter-widgets/controls",
            "_view_module_version": "1.5.0",
            "_view_name": "ProgressView",
            "bar_style": "danger",
            "description": "",
            "description_tooltip": null,
            "layout": "IPY_MODEL_252afef2a9b7441aac756e81778a88f3",
            "max": 85,
            "min": 0,
            "orientation": "horizontal",
            "style": "IPY_MODEL_1de7579f111b49e593f611c2428b6678",
            "value": 26
          }
        }
      }
    }
  },
  "nbformat": 4,
  "nbformat_minor": 0
}
