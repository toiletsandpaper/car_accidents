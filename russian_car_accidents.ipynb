{
  "cells": [
    {
      "attachments": {},
      "cell_type": "markdown",
      "metadata": {
        "id": "WxS2v3YiEVWa"
      },
      "source": [
        "# В данной работе будет исследоваться:\n",
        "1. Зависимость количества ДТП от ям\\неровностей на дороге\n",
        "2. ...\n"
      ]
    },
    {
      "attachments": {},
      "cell_type": "markdown",
      "metadata": {},
      "source": [
        "## Installing dependecies, importing some of them and setting global variables"
      ]
    },
    {
      "cell_type": "code",
      "execution_count": 134,
      "metadata": {
        "colab": {
          "base_uri": "https://localhost:8080/"
        },
        "id": "3-9hC4jSESml",
        "outputId": "247c233b-a5d6-4119-e8a7-8f99f5e40711"
      },
      "outputs": [
        {
          "name": "stdout",
          "output_type": "stream",
          "text": [
            "Found existing installation: numba 0.56.4\n",
            "Uninstalling numba-0.56.4:\n",
            "  Successfully uninstalled numba-0.56.4\n",
            "Note: you may need to restart the kernel to use updated packages.\n",
            "Note: you may need to restart the kernel to use updated packages.\n",
            "fatal: destination path 'Russia_geoJSON' already exists and is not an empty directory.\n"
          ]
        }
      ],
      "source": [
        "%pip install -qU pip setuptools pandas numpy plotly rich tqdm geopandas geojson bs4 requests ipywidgets==7.7.1 jupyterlab_widgets pydantic jellyfish shapely chardet\n",
        "!git clone https://github.com/simp37/Russia_geoJSON"
      ]
    },
    {
      "cell_type": "code",
      "execution_count": 3,
      "metadata": {
        "id": "YqmMh5YiIosm"
      },
      "outputs": [],
      "source": [
        "import pickle\n",
        "from rich import print\n",
        "from tqdm.notebook import tqdm\n",
        "from pathlib import Path\n",
        "# from google.colab import output\n",
        "# output.enable_custom_widget_manager()\n",
        "\n",
        "data_accidents_source_url = 'https://dtp-stat.ru/opendata'"
      ]
    },
    {
      "attachments": {},
      "cell_type": "markdown",
      "metadata": {},
      "source": [
        "## Downloading data\n",
        "If you are already have data in `./data` folder - skip this section"
      ]
    },
    {
      "attachments": {},
      "cell_type": "markdown",
      "metadata": {},
      "source": [
        "### Download HTML table and save links to list\n",
        "source link was added in import section:\n",
        "```python\n",
        "data_accidents_source_usr = 'https://dtp-stat.ru/opendata'\n",
        "```"
      ]
    },
    {
      "cell_type": "code",
      "execution_count": 5,
      "metadata": {
        "colab": {
          "base_uri": "https://localhost:8080/",
          "height": 1000
        },
        "id": "9sQjIO9sGT87",
        "outputId": "dee84d2c-0b2e-4a40-b944-e38e2f3e98ba"
      },
      "outputs": [
        {
          "data": {
            "text/html": [
              "<pre style=\"white-space:pre;overflow-x:auto;line-height:normal;font-family:Menlo,'DejaVu Sans Mono',consolas,'Courier New',monospace\"><span style=\"font-weight: bold\">[</span>\n",
              "    <span style=\"color: #008000; text-decoration-color: #008000\">'https://cms.dtp-stat.ru/media/opendata/altaiskii-krai.geojson'</span>,\n",
              "    <span style=\"color: #008000; text-decoration-color: #008000\">'https://cms.dtp-stat.ru/media/opendata/amurskaia-oblast.geojson'</span>,\n",
              "    <span style=\"color: #008000; text-decoration-color: #008000\">'https://cms.dtp-stat.ru/media/opendata/arkhangelskaia-oblast.geojson'</span>,\n",
              "    <span style=\"color: #008000; text-decoration-color: #008000\">'https://cms.dtp-stat.ru/media/opendata/astrakhanskaia-oblast.geojson'</span>,\n",
              "    <span style=\"color: #008000; text-decoration-color: #008000\">'https://cms.dtp-stat.ru/media/opendata/belgorodskaia-oblast.geojson'</span>,\n",
              "    <span style=\"color: #008000; text-decoration-color: #008000\">'https://cms.dtp-stat.ru/media/opendata/brianskaia-oblast.geojson'</span>,\n",
              "    <span style=\"color: #008000; text-decoration-color: #008000\">'https://cms.dtp-stat.ru/media/opendata/vladimirskaia-oblast.geojson'</span>,\n",
              "    <span style=\"color: #008000; text-decoration-color: #008000\">'https://cms.dtp-stat.ru/media/opendata/volgogradskaia-oblast.geojson'</span>,\n",
              "    <span style=\"color: #008000; text-decoration-color: #008000\">'https://cms.dtp-stat.ru/media/opendata/vologodskaia-oblast.geojson'</span>,\n",
              "    <span style=\"color: #008000; text-decoration-color: #008000\">'https://cms.dtp-stat.ru/media/opendata/voronezhskaia-oblast.geojson'</span>,\n",
              "    <span style=\"color: #008000; text-decoration-color: #008000\">'https://cms.dtp-stat.ru/media/opendata/evreiskaia-avtonomnaia-oblast.geojson'</span>,\n",
              "    <span style=\"color: #008000; text-decoration-color: #008000\">'https://cms.dtp-stat.ru/media/opendata/zabaikalskii-krai.geojson'</span>,\n",
              "    <span style=\"color: #008000; text-decoration-color: #008000\">'https://cms.dtp-stat.ru/media/opendata/ivanovskaia-oblast.geojson'</span>,\n",
              "    <span style=\"color: #008000; text-decoration-color: #008000\">'https://cms.dtp-stat.ru/media/opendata/irkutskaia-oblast.geojson'</span>,\n",
              "    <span style=\"color: #008000; text-decoration-color: #008000\">'https://cms.dtp-stat.ru/media/opendata/kabardino-balkarskaia-respublika.geojson'</span>,\n",
              "    <span style=\"color: #008000; text-decoration-color: #008000\">'https://cms.dtp-stat.ru/media/opendata/kaliningradskaia-oblast.geojson'</span>,\n",
              "    <span style=\"color: #008000; text-decoration-color: #008000\">'https://cms.dtp-stat.ru/media/opendata/kaluzhskaia-oblast.geojson'</span>,\n",
              "    <span style=\"color: #008000; text-decoration-color: #008000\">'https://cms.dtp-stat.ru/media/opendata/kamchatskii-krai.geojson'</span>,\n",
              "    <span style=\"color: #008000; text-decoration-color: #008000\">'https://cms.dtp-stat.ru/media/opendata/karachaevo-cherkesskaia-respublika.geojson'</span>,\n",
              "    <span style=\"color: #008000; text-decoration-color: #008000\">'https://cms.dtp-stat.ru/media/opendata/kemerovskaia-oblast-kuzbass.geojson'</span>,\n",
              "    <span style=\"color: #008000; text-decoration-color: #008000\">'https://cms.dtp-stat.ru/media/opendata/kirovskaia-oblast.geojson'</span>,\n",
              "    <span style=\"color: #008000; text-decoration-color: #008000\">'https://cms.dtp-stat.ru/media/opendata/kostromskaia-oblast.geojson'</span>,\n",
              "    <span style=\"color: #008000; text-decoration-color: #008000\">'https://cms.dtp-stat.ru/media/opendata/krasnodarskii-krai.geojson'</span>,\n",
              "    <span style=\"color: #008000; text-decoration-color: #008000\">'https://cms.dtp-stat.ru/media/opendata/krasnoiarskii-krai.geojson'</span>,\n",
              "    <span style=\"color: #008000; text-decoration-color: #008000\">'https://cms.dtp-stat.ru/media/opendata/kurganskaia-oblast.geojson'</span>,\n",
              "    <span style=\"color: #008000; text-decoration-color: #008000\">'https://cms.dtp-stat.ru/media/opendata/kurskaia-oblast.geojson'</span>,\n",
              "    <span style=\"color: #008000; text-decoration-color: #008000\">'https://cms.dtp-stat.ru/media/opendata/leningradskaia-oblast.geojson'</span>,\n",
              "    <span style=\"color: #008000; text-decoration-color: #008000\">'https://cms.dtp-stat.ru/media/opendata/lipetskaia-oblast.geojson'</span>,\n",
              "    <span style=\"color: #008000; text-decoration-color: #008000\">'https://cms.dtp-stat.ru/media/opendata/magadanskaia-oblast.geojson'</span>,\n",
              "    <span style=\"color: #008000; text-decoration-color: #008000\">'https://cms.dtp-stat.ru/media/opendata/moskva.geojson'</span>,\n",
              "    <span style=\"color: #008000; text-decoration-color: #008000\">'https://cms.dtp-stat.ru/media/opendata/moskovskaia-oblast.geojson'</span>,\n",
              "    <span style=\"color: #008000; text-decoration-color: #008000\">'https://cms.dtp-stat.ru/media/opendata/murmanskaia-oblast.geojson'</span>,\n",
              "    <span style=\"color: #008000; text-decoration-color: #008000\">'https://cms.dtp-stat.ru/media/opendata/nenetskii-avtonomnyi-okrug.geojson'</span>,\n",
              "    <span style=\"color: #008000; text-decoration-color: #008000\">'https://cms.dtp-stat.ru/media/opendata/nizhegorodskaia-oblast.geojson'</span>,\n",
              "    <span style=\"color: #008000; text-decoration-color: #008000\">'https://cms.dtp-stat.ru/media/opendata/novgorodskaia-oblast.geojson'</span>,\n",
              "    <span style=\"color: #008000; text-decoration-color: #008000\">'https://cms.dtp-stat.ru/media/opendata/novosibirskaia-oblast.geojson'</span>,\n",
              "    <span style=\"color: #008000; text-decoration-color: #008000\">'https://cms.dtp-stat.ru/media/opendata/omskaia-oblast.geojson'</span>,\n",
              "    <span style=\"color: #008000; text-decoration-color: #008000\">'https://cms.dtp-stat.ru/media/opendata/orenburgskaia-oblast.geojson'</span>,\n",
              "    <span style=\"color: #008000; text-decoration-color: #008000\">'https://cms.dtp-stat.ru/media/opendata/orlovskaia-oblast.geojson'</span>,\n",
              "    <span style=\"color: #008000; text-decoration-color: #008000\">'https://cms.dtp-stat.ru/media/opendata/penzenskaia-oblast.geojson'</span>,\n",
              "    <span style=\"color: #008000; text-decoration-color: #008000\">'https://cms.dtp-stat.ru/media/opendata/permskii-krai.geojson'</span>,\n",
              "    <span style=\"color: #008000; text-decoration-color: #008000\">'https://cms.dtp-stat.ru/media/opendata/primorskii-krai.geojson'</span>,\n",
              "    <span style=\"color: #008000; text-decoration-color: #008000\">'https://cms.dtp-stat.ru/media/opendata/pskovskaia-oblast.geojson'</span>,\n",
              "    <span style=\"color: #008000; text-decoration-color: #008000\">'https://cms.dtp-stat.ru/media/opendata/respublika-adygeia-adygeia.geojson'</span>,\n",
              "    <span style=\"color: #008000; text-decoration-color: #008000\">'https://cms.dtp-stat.ru/media/opendata/respublika-altai.geojson'</span>,\n",
              "    <span style=\"color: #008000; text-decoration-color: #008000\">'https://cms.dtp-stat.ru/media/opendata/respublika-bashkortostan.geojson'</span>,\n",
              "    <span style=\"color: #008000; text-decoration-color: #008000\">'https://cms.dtp-stat.ru/media/opendata/respublika-buriatiia.geojson'</span>,\n",
              "    <span style=\"color: #008000; text-decoration-color: #008000\">'https://cms.dtp-stat.ru/media/opendata/respublika-dagestan.geojson'</span>,\n",
              "    <span style=\"color: #008000; text-decoration-color: #008000\">'https://cms.dtp-stat.ru/media/opendata/respublika-ingushetiia.geojson'</span>,\n",
              "    <span style=\"color: #008000; text-decoration-color: #008000\">'https://cms.dtp-stat.ru/media/opendata/respublika-kalmykiia.geojson'</span>,\n",
              "    <span style=\"color: #008000; text-decoration-color: #008000\">'https://cms.dtp-stat.ru/media/opendata/respublika-kareliia.geojson'</span>,\n",
              "    <span style=\"color: #008000; text-decoration-color: #008000\">'https://cms.dtp-stat.ru/media/opendata/respublika-komi.geojson'</span>,\n",
              "    <span style=\"color: #008000; text-decoration-color: #008000\">'https://cms.dtp-stat.ru/media/opendata/respublika-krym.geojson'</span>,\n",
              "    <span style=\"color: #008000; text-decoration-color: #008000\">'https://cms.dtp-stat.ru/media/opendata/respublika-marii-el.geojson'</span>,\n",
              "    <span style=\"color: #008000; text-decoration-color: #008000\">'https://cms.dtp-stat.ru/media/opendata/respublika-mordoviia.geojson'</span>,\n",
              "    <span style=\"color: #008000; text-decoration-color: #008000\">'https://cms.dtp-stat.ru/media/opendata/respublika-sakha-iakutiia.geojson'</span>,\n",
              "    <span style=\"color: #008000; text-decoration-color: #008000\">'https://cms.dtp-stat.ru/media/opendata/respublika-severnaia-osetiia-alaniia.geojson'</span>,\n",
              "    <span style=\"color: #008000; text-decoration-color: #008000\">'https://cms.dtp-stat.ru/media/opendata/respublika-tatarstan-tatarstan.geojson'</span>,\n",
              "    <span style=\"color: #008000; text-decoration-color: #008000\">'https://cms.dtp-stat.ru/media/opendata/respublika-tyva.geojson'</span>,\n",
              "    <span style=\"color: #008000; text-decoration-color: #008000\">'https://cms.dtp-stat.ru/media/opendata/respublika-khakasiia.geojson'</span>,\n",
              "    <span style=\"color: #008000; text-decoration-color: #008000\">'https://cms.dtp-stat.ru/media/opendata/rostovskaia-oblast.geojson'</span>,\n",
              "    <span style=\"color: #008000; text-decoration-color: #008000\">'https://cms.dtp-stat.ru/media/opendata/riazanskaia-oblast.geojson'</span>,\n",
              "    <span style=\"color: #008000; text-decoration-color: #008000\">'https://cms.dtp-stat.ru/media/opendata/samarskaia-oblast.geojson'</span>,\n",
              "    <span style=\"color: #008000; text-decoration-color: #008000\">'https://cms.dtp-stat.ru/media/opendata/sankt-peterburg.geojson'</span>,\n",
              "    <span style=\"color: #008000; text-decoration-color: #008000\">'https://cms.dtp-stat.ru/media/opendata/saratovskaia-oblast.geojson'</span>,\n",
              "    <span style=\"color: #008000; text-decoration-color: #008000\">'https://cms.dtp-stat.ru/media/opendata/sakhalinskaia-oblast.geojson'</span>,\n",
              "    <span style=\"color: #008000; text-decoration-color: #008000\">'https://cms.dtp-stat.ru/media/opendata/sverdlovskaia-oblast.geojson'</span>,\n",
              "    <span style=\"color: #008000; text-decoration-color: #008000\">'https://cms.dtp-stat.ru/media/opendata/sevastopol.geojson'</span>,\n",
              "    <span style=\"color: #008000; text-decoration-color: #008000\">'https://cms.dtp-stat.ru/media/opendata/smolenskaia-oblast.geojson'</span>,\n",
              "    <span style=\"color: #008000; text-decoration-color: #008000\">'https://cms.dtp-stat.ru/media/opendata/stavropolskii-krai.geojson'</span>,\n",
              "    <span style=\"color: #008000; text-decoration-color: #008000\">'https://cms.dtp-stat.ru/media/opendata/tambovskaia-oblast.geojson'</span>,\n",
              "    <span style=\"color: #008000; text-decoration-color: #008000\">'https://cms.dtp-stat.ru/media/opendata/tverskaia-oblast.geojson'</span>,\n",
              "    <span style=\"color: #008000; text-decoration-color: #008000\">'https://cms.dtp-stat.ru/media/opendata/tomskaia-oblast.geojson'</span>,\n",
              "    <span style=\"color: #008000; text-decoration-color: #008000\">'https://cms.dtp-stat.ru/media/opendata/tulskaia-oblast.geojson'</span>,\n",
              "    <span style=\"color: #008000; text-decoration-color: #008000\">'https://cms.dtp-stat.ru/media/opendata/tiumenskaia-oblast.geojson'</span>,\n",
              "    <span style=\"color: #008000; text-decoration-color: #008000\">'https://cms.dtp-stat.ru/media/opendata/udmurtskaia-respublika.geojson'</span>,\n",
              "    <span style=\"color: #008000; text-decoration-color: #008000\">'https://cms.dtp-stat.ru/media/opendata/ulianovskaia-oblast.geojson'</span>,\n",
              "    <span style=\"color: #008000; text-decoration-color: #008000\">'https://cms.dtp-stat.ru/media/opendata/khabarovskii-krai.geojson'</span>,\n",
              "    <span style=\"color: #008000; text-decoration-color: #008000\">'https://cms.dtp-stat.ru/media/opendata/khanty-mansiiskii-avtonomnyi-okrug-iugra.geojson'</span>,\n",
              "    <span style=\"color: #008000; text-decoration-color: #008000\">'https://cms.dtp-stat.ru/media/opendata/cheliabinskaia-oblast.geojson'</span>,\n",
              "    <span style=\"color: #008000; text-decoration-color: #008000\">'https://cms.dtp-stat.ru/media/opendata/chechenskaia-respublika.geojson'</span>,\n",
              "    <span style=\"color: #008000; text-decoration-color: #008000\">'https://cms.dtp-stat.ru/media/opendata/chuvashskaia-respublika-chuvashiia.geojson'</span>,\n",
              "    <span style=\"color: #008000; text-decoration-color: #008000\">'https://cms.dtp-stat.ru/media/opendata/chukotskii-avtonomnyi-okrug.geojson'</span>,\n",
              "    <span style=\"color: #008000; text-decoration-color: #008000\">'https://cms.dtp-stat.ru/media/opendata/iamalo-nenetskii-avtonomnyi-okrug.geojson'</span>,\n",
              "    <span style=\"color: #008000; text-decoration-color: #008000\">'https://cms.dtp-stat.ru/media/opendata/iaroslavskaia-oblast.geojson'</span>\n",
              "<span style=\"font-weight: bold\">]</span>\n",
              "</pre>\n"
            ],
            "text/plain": [
              "\u001b[1m[\u001b[0m\n",
              "    \u001b[32m'https://cms.dtp-stat.ru/media/opendata/altaiskii-krai.geojson'\u001b[0m,\n",
              "    \u001b[32m'https://cms.dtp-stat.ru/media/opendata/amurskaia-oblast.geojson'\u001b[0m,\n",
              "    \u001b[32m'https://cms.dtp-stat.ru/media/opendata/arkhangelskaia-oblast.geojson'\u001b[0m,\n",
              "    \u001b[32m'https://cms.dtp-stat.ru/media/opendata/astrakhanskaia-oblast.geojson'\u001b[0m,\n",
              "    \u001b[32m'https://cms.dtp-stat.ru/media/opendata/belgorodskaia-oblast.geojson'\u001b[0m,\n",
              "    \u001b[32m'https://cms.dtp-stat.ru/media/opendata/brianskaia-oblast.geojson'\u001b[0m,\n",
              "    \u001b[32m'https://cms.dtp-stat.ru/media/opendata/vladimirskaia-oblast.geojson'\u001b[0m,\n",
              "    \u001b[32m'https://cms.dtp-stat.ru/media/opendata/volgogradskaia-oblast.geojson'\u001b[0m,\n",
              "    \u001b[32m'https://cms.dtp-stat.ru/media/opendata/vologodskaia-oblast.geojson'\u001b[0m,\n",
              "    \u001b[32m'https://cms.dtp-stat.ru/media/opendata/voronezhskaia-oblast.geojson'\u001b[0m,\n",
              "    \u001b[32m'https://cms.dtp-stat.ru/media/opendata/evreiskaia-avtonomnaia-oblast.geojson'\u001b[0m,\n",
              "    \u001b[32m'https://cms.dtp-stat.ru/media/opendata/zabaikalskii-krai.geojson'\u001b[0m,\n",
              "    \u001b[32m'https://cms.dtp-stat.ru/media/opendata/ivanovskaia-oblast.geojson'\u001b[0m,\n",
              "    \u001b[32m'https://cms.dtp-stat.ru/media/opendata/irkutskaia-oblast.geojson'\u001b[0m,\n",
              "    \u001b[32m'https://cms.dtp-stat.ru/media/opendata/kabardino-balkarskaia-respublika.geojson'\u001b[0m,\n",
              "    \u001b[32m'https://cms.dtp-stat.ru/media/opendata/kaliningradskaia-oblast.geojson'\u001b[0m,\n",
              "    \u001b[32m'https://cms.dtp-stat.ru/media/opendata/kaluzhskaia-oblast.geojson'\u001b[0m,\n",
              "    \u001b[32m'https://cms.dtp-stat.ru/media/opendata/kamchatskii-krai.geojson'\u001b[0m,\n",
              "    \u001b[32m'https://cms.dtp-stat.ru/media/opendata/karachaevo-cherkesskaia-respublika.geojson'\u001b[0m,\n",
              "    \u001b[32m'https://cms.dtp-stat.ru/media/opendata/kemerovskaia-oblast-kuzbass.geojson'\u001b[0m,\n",
              "    \u001b[32m'https://cms.dtp-stat.ru/media/opendata/kirovskaia-oblast.geojson'\u001b[0m,\n",
              "    \u001b[32m'https://cms.dtp-stat.ru/media/opendata/kostromskaia-oblast.geojson'\u001b[0m,\n",
              "    \u001b[32m'https://cms.dtp-stat.ru/media/opendata/krasnodarskii-krai.geojson'\u001b[0m,\n",
              "    \u001b[32m'https://cms.dtp-stat.ru/media/opendata/krasnoiarskii-krai.geojson'\u001b[0m,\n",
              "    \u001b[32m'https://cms.dtp-stat.ru/media/opendata/kurganskaia-oblast.geojson'\u001b[0m,\n",
              "    \u001b[32m'https://cms.dtp-stat.ru/media/opendata/kurskaia-oblast.geojson'\u001b[0m,\n",
              "    \u001b[32m'https://cms.dtp-stat.ru/media/opendata/leningradskaia-oblast.geojson'\u001b[0m,\n",
              "    \u001b[32m'https://cms.dtp-stat.ru/media/opendata/lipetskaia-oblast.geojson'\u001b[0m,\n",
              "    \u001b[32m'https://cms.dtp-stat.ru/media/opendata/magadanskaia-oblast.geojson'\u001b[0m,\n",
              "    \u001b[32m'https://cms.dtp-stat.ru/media/opendata/moskva.geojson'\u001b[0m,\n",
              "    \u001b[32m'https://cms.dtp-stat.ru/media/opendata/moskovskaia-oblast.geojson'\u001b[0m,\n",
              "    \u001b[32m'https://cms.dtp-stat.ru/media/opendata/murmanskaia-oblast.geojson'\u001b[0m,\n",
              "    \u001b[32m'https://cms.dtp-stat.ru/media/opendata/nenetskii-avtonomnyi-okrug.geojson'\u001b[0m,\n",
              "    \u001b[32m'https://cms.dtp-stat.ru/media/opendata/nizhegorodskaia-oblast.geojson'\u001b[0m,\n",
              "    \u001b[32m'https://cms.dtp-stat.ru/media/opendata/novgorodskaia-oblast.geojson'\u001b[0m,\n",
              "    \u001b[32m'https://cms.dtp-stat.ru/media/opendata/novosibirskaia-oblast.geojson'\u001b[0m,\n",
              "    \u001b[32m'https://cms.dtp-stat.ru/media/opendata/omskaia-oblast.geojson'\u001b[0m,\n",
              "    \u001b[32m'https://cms.dtp-stat.ru/media/opendata/orenburgskaia-oblast.geojson'\u001b[0m,\n",
              "    \u001b[32m'https://cms.dtp-stat.ru/media/opendata/orlovskaia-oblast.geojson'\u001b[0m,\n",
              "    \u001b[32m'https://cms.dtp-stat.ru/media/opendata/penzenskaia-oblast.geojson'\u001b[0m,\n",
              "    \u001b[32m'https://cms.dtp-stat.ru/media/opendata/permskii-krai.geojson'\u001b[0m,\n",
              "    \u001b[32m'https://cms.dtp-stat.ru/media/opendata/primorskii-krai.geojson'\u001b[0m,\n",
              "    \u001b[32m'https://cms.dtp-stat.ru/media/opendata/pskovskaia-oblast.geojson'\u001b[0m,\n",
              "    \u001b[32m'https://cms.dtp-stat.ru/media/opendata/respublika-adygeia-adygeia.geojson'\u001b[0m,\n",
              "    \u001b[32m'https://cms.dtp-stat.ru/media/opendata/respublika-altai.geojson'\u001b[0m,\n",
              "    \u001b[32m'https://cms.dtp-stat.ru/media/opendata/respublika-bashkortostan.geojson'\u001b[0m,\n",
              "    \u001b[32m'https://cms.dtp-stat.ru/media/opendata/respublika-buriatiia.geojson'\u001b[0m,\n",
              "    \u001b[32m'https://cms.dtp-stat.ru/media/opendata/respublika-dagestan.geojson'\u001b[0m,\n",
              "    \u001b[32m'https://cms.dtp-stat.ru/media/opendata/respublika-ingushetiia.geojson'\u001b[0m,\n",
              "    \u001b[32m'https://cms.dtp-stat.ru/media/opendata/respublika-kalmykiia.geojson'\u001b[0m,\n",
              "    \u001b[32m'https://cms.dtp-stat.ru/media/opendata/respublika-kareliia.geojson'\u001b[0m,\n",
              "    \u001b[32m'https://cms.dtp-stat.ru/media/opendata/respublika-komi.geojson'\u001b[0m,\n",
              "    \u001b[32m'https://cms.dtp-stat.ru/media/opendata/respublika-krym.geojson'\u001b[0m,\n",
              "    \u001b[32m'https://cms.dtp-stat.ru/media/opendata/respublika-marii-el.geojson'\u001b[0m,\n",
              "    \u001b[32m'https://cms.dtp-stat.ru/media/opendata/respublika-mordoviia.geojson'\u001b[0m,\n",
              "    \u001b[32m'https://cms.dtp-stat.ru/media/opendata/respublika-sakha-iakutiia.geojson'\u001b[0m,\n",
              "    \u001b[32m'https://cms.dtp-stat.ru/media/opendata/respublika-severnaia-osetiia-alaniia.geojson'\u001b[0m,\n",
              "    \u001b[32m'https://cms.dtp-stat.ru/media/opendata/respublika-tatarstan-tatarstan.geojson'\u001b[0m,\n",
              "    \u001b[32m'https://cms.dtp-stat.ru/media/opendata/respublika-tyva.geojson'\u001b[0m,\n",
              "    \u001b[32m'https://cms.dtp-stat.ru/media/opendata/respublika-khakasiia.geojson'\u001b[0m,\n",
              "    \u001b[32m'https://cms.dtp-stat.ru/media/opendata/rostovskaia-oblast.geojson'\u001b[0m,\n",
              "    \u001b[32m'https://cms.dtp-stat.ru/media/opendata/riazanskaia-oblast.geojson'\u001b[0m,\n",
              "    \u001b[32m'https://cms.dtp-stat.ru/media/opendata/samarskaia-oblast.geojson'\u001b[0m,\n",
              "    \u001b[32m'https://cms.dtp-stat.ru/media/opendata/sankt-peterburg.geojson'\u001b[0m,\n",
              "    \u001b[32m'https://cms.dtp-stat.ru/media/opendata/saratovskaia-oblast.geojson'\u001b[0m,\n",
              "    \u001b[32m'https://cms.dtp-stat.ru/media/opendata/sakhalinskaia-oblast.geojson'\u001b[0m,\n",
              "    \u001b[32m'https://cms.dtp-stat.ru/media/opendata/sverdlovskaia-oblast.geojson'\u001b[0m,\n",
              "    \u001b[32m'https://cms.dtp-stat.ru/media/opendata/sevastopol.geojson'\u001b[0m,\n",
              "    \u001b[32m'https://cms.dtp-stat.ru/media/opendata/smolenskaia-oblast.geojson'\u001b[0m,\n",
              "    \u001b[32m'https://cms.dtp-stat.ru/media/opendata/stavropolskii-krai.geojson'\u001b[0m,\n",
              "    \u001b[32m'https://cms.dtp-stat.ru/media/opendata/tambovskaia-oblast.geojson'\u001b[0m,\n",
              "    \u001b[32m'https://cms.dtp-stat.ru/media/opendata/tverskaia-oblast.geojson'\u001b[0m,\n",
              "    \u001b[32m'https://cms.dtp-stat.ru/media/opendata/tomskaia-oblast.geojson'\u001b[0m,\n",
              "    \u001b[32m'https://cms.dtp-stat.ru/media/opendata/tulskaia-oblast.geojson'\u001b[0m,\n",
              "    \u001b[32m'https://cms.dtp-stat.ru/media/opendata/tiumenskaia-oblast.geojson'\u001b[0m,\n",
              "    \u001b[32m'https://cms.dtp-stat.ru/media/opendata/udmurtskaia-respublika.geojson'\u001b[0m,\n",
              "    \u001b[32m'https://cms.dtp-stat.ru/media/opendata/ulianovskaia-oblast.geojson'\u001b[0m,\n",
              "    \u001b[32m'https://cms.dtp-stat.ru/media/opendata/khabarovskii-krai.geojson'\u001b[0m,\n",
              "    \u001b[32m'https://cms.dtp-stat.ru/media/opendata/khanty-mansiiskii-avtonomnyi-okrug-iugra.geojson'\u001b[0m,\n",
              "    \u001b[32m'https://cms.dtp-stat.ru/media/opendata/cheliabinskaia-oblast.geojson'\u001b[0m,\n",
              "    \u001b[32m'https://cms.dtp-stat.ru/media/opendata/chechenskaia-respublika.geojson'\u001b[0m,\n",
              "    \u001b[32m'https://cms.dtp-stat.ru/media/opendata/chuvashskaia-respublika-chuvashiia.geojson'\u001b[0m,\n",
              "    \u001b[32m'https://cms.dtp-stat.ru/media/opendata/chukotskii-avtonomnyi-okrug.geojson'\u001b[0m,\n",
              "    \u001b[32m'https://cms.dtp-stat.ru/media/opendata/iamalo-nenetskii-avtonomnyi-okrug.geojson'\u001b[0m,\n",
              "    \u001b[32m'https://cms.dtp-stat.ru/media/opendata/iaroslavskaia-oblast.geojson'\u001b[0m\n",
              "\u001b[1m]\u001b[0m\n"
            ]
          },
          "metadata": {},
          "output_type": "display_data"
        }
      ],
      "source": [
        "from bs4 import BeautifulSoup\n",
        "import urllib.request\n",
        "\n",
        "html_page = urllib.request.urlopen(data_accidents_source_url)\n",
        "soup = BeautifulSoup(html_page, \"html.parser\")\n",
        "download_links = []\n",
        "for link in soup.findAll('a'):\n",
        "    link_href = link.get('href')\n",
        "    download_links.append(link_href) if '.geojson' in link_href else None\n",
        "print(download_links)"
      ]
    },
    {
      "cell_type": "code",
      "execution_count": 33,
      "metadata": {},
      "outputs": [
        {
          "data": {
            "text/html": [
              "<pre style=\"white-space:pre;overflow-x:auto;line-height:normal;font-family:Menlo,'DejaVu Sans Mono',consolas,'Courier New',monospace\"><span style=\"font-weight: bold\">{</span>\n",
              "    <span style=\"color: #008000; text-decoration-color: #008000\">'altaiskii-krai'</span>: <span style=\"color: #008000; text-decoration-color: #008000\">'Altayskiy_kray'</span>,\n",
              "    <span style=\"color: #008000; text-decoration-color: #008000\">'amurskaia-oblast'</span>: <span style=\"color: #008000; text-decoration-color: #008000\">'Amurskaya'</span>,\n",
              "    <span style=\"color: #008000; text-decoration-color: #008000\">'arkhangelskaia-oblast'</span>: <span style=\"color: #008000; text-decoration-color: #008000\">'Arkhangel_skaya'</span>,\n",
              "    <span style=\"color: #008000; text-decoration-color: #008000\">'astrakhanskaia-oblast'</span>: <span style=\"color: #008000; text-decoration-color: #008000\">'Astrakhanskaya'</span>,\n",
              "    <span style=\"color: #008000; text-decoration-color: #008000\">'belgorodskaia-oblast'</span>: <span style=\"color: #008000; text-decoration-color: #008000\">'Belgorodskaya'</span>,\n",
              "    <span style=\"color: #008000; text-decoration-color: #008000\">'brianskaia-oblast'</span>: <span style=\"color: #008000; text-decoration-color: #008000\">'Bryanskaya'</span>,\n",
              "    <span style=\"color: #008000; text-decoration-color: #008000\">'vladimirskaia-oblast'</span>: <span style=\"color: #008000; text-decoration-color: #008000\">'Vladimirskaya'</span>,\n",
              "    <span style=\"color: #008000; text-decoration-color: #008000\">'volgogradskaia-oblast'</span>: <span style=\"color: #008000; text-decoration-color: #008000\">'Volgogradskaya'</span>,\n",
              "    <span style=\"color: #008000; text-decoration-color: #008000\">'vologodskaia-oblast'</span>: <span style=\"color: #008000; text-decoration-color: #008000\">'Vologodskaya'</span>,\n",
              "    <span style=\"color: #008000; text-decoration-color: #008000\">'voronezhskaia-oblast'</span>: <span style=\"color: #008000; text-decoration-color: #008000\">'Voronezhskaya'</span>,\n",
              "    <span style=\"color: #008000; text-decoration-color: #008000\">'evreiskaia-avtonomnaia-oblast'</span>: <span style=\"color: #008000; text-decoration-color: #008000\">'Saratovskaya'</span>,\n",
              "    <span style=\"color: #008000; text-decoration-color: #008000\">'zabaikalskii-krai'</span>: <span style=\"color: #008000; text-decoration-color: #008000\">'Zabaykal-skiy_kray'</span>,\n",
              "    <span style=\"color: #008000; text-decoration-color: #008000\">'ivanovskaia-oblast'</span>: <span style=\"color: #008000; text-decoration-color: #008000\">'Ivanovskaya'</span>,\n",
              "    <span style=\"color: #008000; text-decoration-color: #008000\">'irkutskaia-oblast'</span>: <span style=\"color: #008000; text-decoration-color: #008000\">'Irkutskaya'</span>,\n",
              "    <span style=\"color: #008000; text-decoration-color: #008000\">'kabardino-balkarskaia-respublika'</span>: <span style=\"color: #008000; text-decoration-color: #008000\">'Kabardino-Balkarskaya'</span>,\n",
              "    <span style=\"color: #008000; text-decoration-color: #008000\">'kaliningradskaia-oblast'</span>: <span style=\"color: #008000; text-decoration-color: #008000\">'Kaliningradskaya'</span>,\n",
              "    <span style=\"color: #008000; text-decoration-color: #008000\">'kaluzhskaia-oblast'</span>: <span style=\"color: #008000; text-decoration-color: #008000\">'Kaluzhskaya'</span>,\n",
              "    <span style=\"color: #008000; text-decoration-color: #008000\">'kamchatskii-krai'</span>: <span style=\"color: #008000; text-decoration-color: #008000\">'kamchatskaya'</span>,\n",
              "    <span style=\"color: #008000; text-decoration-color: #008000\">'karachaevo-cherkesskaia-respublika'</span>: <span style=\"color: #008000; text-decoration-color: #008000\">'Karachayevo-Cherkesskaya'</span>,\n",
              "    <span style=\"color: #008000; text-decoration-color: #008000\">'kemerovskaia-oblast-kuzbass'</span>: <span style=\"color: #008000; text-decoration-color: #008000\">'kermerovskaya'</span>,\n",
              "    <span style=\"color: #008000; text-decoration-color: #008000\">'kirovskaia-oblast'</span>: <span style=\"color: #008000; text-decoration-color: #008000\">'Kirovskaya'</span>,\n",
              "    <span style=\"color: #008000; text-decoration-color: #008000\">'kostromskaia-oblast'</span>: <span style=\"color: #008000; text-decoration-color: #008000\">'Kostromskaya'</span>,\n",
              "    <span style=\"color: #008000; text-decoration-color: #008000\">'krasnodarskii-krai'</span>: <span style=\"color: #008000; text-decoration-color: #008000\">'Krasnodarskiy-kray'</span>,\n",
              "    <span style=\"color: #008000; text-decoration-color: #008000\">'krasnoiarskii-krai'</span>: <span style=\"color: #008000; text-decoration-color: #008000\">'Krasnodarskiy-kray'</span>,\n",
              "    <span style=\"color: #008000; text-decoration-color: #008000\">'kurganskaia-oblast'</span>: <span style=\"color: #008000; text-decoration-color: #008000\">'Kurganskaya'</span>,\n",
              "    <span style=\"color: #008000; text-decoration-color: #008000\">'kurskaia-oblast'</span>: <span style=\"color: #008000; text-decoration-color: #008000\">'Kurskaya'</span>,\n",
              "    <span style=\"color: #008000; text-decoration-color: #008000\">'leningradskaia-oblast'</span>: <span style=\"color: #008000; text-decoration-color: #008000\">'Leningradskaya'</span>,\n",
              "    <span style=\"color: #008000; text-decoration-color: #008000\">'lipetskaia-oblast'</span>: <span style=\"color: #008000; text-decoration-color: #008000\">'Lipetskaya'</span>,\n",
              "    <span style=\"color: #008000; text-decoration-color: #008000\">'magadanskaia-oblast'</span>: <span style=\"color: #008000; text-decoration-color: #008000\">'Magadanskaya'</span>,\n",
              "    <span style=\"color: #008000; text-decoration-color: #008000\">'moskva'</span>: <span style=\"color: #008000; text-decoration-color: #008000\">'Moskva'</span>,\n",
              "    <span style=\"color: #008000; text-decoration-color: #008000\">'moskovskaia-oblast'</span>: <span style=\"color: #008000; text-decoration-color: #008000\">'Moskovskaya'</span>,\n",
              "    <span style=\"color: #008000; text-decoration-color: #008000\">'murmanskaia-oblast'</span>: <span style=\"color: #008000; text-decoration-color: #008000\">'Murmanskaya'</span>,\n",
              "    <span style=\"color: #008000; text-decoration-color: #008000\">'nenetskii-avtonomnyi-okrug'</span>: <span style=\"color: #008000; text-decoration-color: #008000\">'Nenetskiy'</span>,\n",
              "    <span style=\"color: #008000; text-decoration-color: #008000\">'nizhegorodskaia-oblast'</span>: <span style=\"color: #008000; text-decoration-color: #008000\">'Nizhegorodskaya'</span>,\n",
              "    <span style=\"color: #008000; text-decoration-color: #008000\">'novgorodskaia-oblast'</span>: <span style=\"color: #008000; text-decoration-color: #008000\">'Novgorodskaya'</span>,\n",
              "    <span style=\"color: #008000; text-decoration-color: #008000\">'novosibirskaia-oblast'</span>: <span style=\"color: #008000; text-decoration-color: #008000\">'Novosibirskaya'</span>,\n",
              "    <span style=\"color: #008000; text-decoration-color: #008000\">'omskaia-oblast'</span>: <span style=\"color: #008000; text-decoration-color: #008000\">'Omskaya'</span>,\n",
              "    <span style=\"color: #008000; text-decoration-color: #008000\">'orenburgskaia-oblast'</span>: <span style=\"color: #008000; text-decoration-color: #008000\">'Orenburgskaya'</span>,\n",
              "    <span style=\"color: #008000; text-decoration-color: #008000\">'orlovskaia-oblast'</span>: <span style=\"color: #008000; text-decoration-color: #008000\">'Orlovskaya'</span>,\n",
              "    <span style=\"color: #008000; text-decoration-color: #008000\">'penzenskaia-oblast'</span>: <span style=\"color: #008000; text-decoration-color: #008000\">'Penzenskaya'</span>,\n",
              "    <span style=\"color: #008000; text-decoration-color: #008000\">'permskii-krai'</span>: <span style=\"color: #008000; text-decoration-color: #008000\">'Primorskiy_kray'</span>,\n",
              "    <span style=\"color: #008000; text-decoration-color: #008000\">'primorskii-krai'</span>: <span style=\"color: #008000; text-decoration-color: #008000\">'Primorskiy_kray'</span>,\n",
              "    <span style=\"color: #008000; text-decoration-color: #008000\">'pskovskaia-oblast'</span>: <span style=\"color: #008000; text-decoration-color: #008000\">'Pskovskaya'</span>,\n",
              "    <span style=\"color: #008000; text-decoration-color: #008000\">'respublika-adygeia-adygeia'</span>: <span style=\"color: #008000; text-decoration-color: #008000\">'Adygeya'</span>,\n",
              "    <span style=\"color: #008000; text-decoration-color: #008000\">'respublika-altai'</span>: <span style=\"color: #008000; text-decoration-color: #008000\">'Altay'</span>,\n",
              "    <span style=\"color: #008000; text-decoration-color: #008000\">'respublika-bashkortostan'</span>: <span style=\"color: #008000; text-decoration-color: #008000\">'Bashkortostan'</span>,\n",
              "    <span style=\"color: #008000; text-decoration-color: #008000\">'respublika-buriatiia'</span>: <span style=\"color: #008000; text-decoration-color: #008000\">'Buryatiya'</span>,\n",
              "    <span style=\"color: #008000; text-decoration-color: #008000\">'respublika-dagestan'</span>: <span style=\"color: #008000; text-decoration-color: #008000\">'Dagestan'</span>,\n",
              "    <span style=\"color: #008000; text-decoration-color: #008000\">'respublika-ingushetiia'</span>: <span style=\"color: #008000; text-decoration-color: #008000\">'Ingushskaya'</span>,\n",
              "    <span style=\"color: #008000; text-decoration-color: #008000\">'respublika-kalmykiia'</span>: <span style=\"color: #008000; text-decoration-color: #008000\">'Kalmykiya'</span>,\n",
              "    <span style=\"color: #008000; text-decoration-color: #008000\">'respublika-kareliia'</span>: <span style=\"color: #008000; text-decoration-color: #008000\">'Kareliya'</span>,\n",
              "    <span style=\"color: #008000; text-decoration-color: #008000\">'respublika-komi'</span>: <span style=\"color: #008000; text-decoration-color: #008000\">'Komi'</span>,\n",
              "    <span style=\"color: #008000; text-decoration-color: #008000\">'respublika-marii-el'</span>: <span style=\"color: #008000; text-decoration-color: #008000\">'Mariy_El'</span>,\n",
              "    <span style=\"color: #008000; text-decoration-color: #008000\">'respublika-mordoviia'</span>: <span style=\"color: #008000; text-decoration-color: #008000\">'Mordoviya'</span>,\n",
              "    <span style=\"color: #008000; text-decoration-color: #008000\">'respublika-sakha-iakutiia'</span>: <span style=\"color: #008000; text-decoration-color: #008000\">'Sakha_Yakutiya'</span>,\n",
              "    <span style=\"color: #008000; text-decoration-color: #008000\">'respublika-severnaia-osetiia-alaniia'</span>: <span style=\"color: #008000; text-decoration-color: #008000\">'Severnaya_Osetiya_Alaniya'</span>,\n",
              "    <span style=\"color: #008000; text-decoration-color: #008000\">'respublika-tatarstan-tatarstan'</span>: <span style=\"color: #008000; text-decoration-color: #008000\">'Tatarstan'</span>,\n",
              "    <span style=\"color: #008000; text-decoration-color: #008000\">'respublika-tyva'</span>: <span style=\"color: #008000; text-decoration-color: #008000\">'Tyva'</span>,\n",
              "    <span style=\"color: #008000; text-decoration-color: #008000\">'respublika-khakasiia'</span>: <span style=\"color: #008000; text-decoration-color: #008000\">'Khakasiya'</span>,\n",
              "    <span style=\"color: #008000; text-decoration-color: #008000\">'rostovskaia-oblast'</span>: <span style=\"color: #008000; text-decoration-color: #008000\">'Rostovskaya'</span>,\n",
              "    <span style=\"color: #008000; text-decoration-color: #008000\">'riazanskaia-oblast'</span>: <span style=\"color: #008000; text-decoration-color: #008000\">'Ryazanskaya'</span>,\n",
              "    <span style=\"color: #008000; text-decoration-color: #008000\">'samarskaia-oblast'</span>: <span style=\"color: #008000; text-decoration-color: #008000\">'Samarskaya'</span>,\n",
              "    <span style=\"color: #008000; text-decoration-color: #008000\">'sankt-peterburg'</span>: <span style=\"color: #008000; text-decoration-color: #008000\">'Sankt-Peterburg'</span>,\n",
              "    <span style=\"color: #008000; text-decoration-color: #008000\">'saratovskaia-oblast'</span>: <span style=\"color: #008000; text-decoration-color: #008000\">'Saratovskaya'</span>,\n",
              "    <span style=\"color: #008000; text-decoration-color: #008000\">'sakhalinskaia-oblast'</span>: <span style=\"color: #008000; text-decoration-color: #008000\">'Sakhalinskaya'</span>,\n",
              "    <span style=\"color: #008000; text-decoration-color: #008000\">'sverdlovskaia-oblast'</span>: <span style=\"color: #008000; text-decoration-color: #008000\">'Sverdlovskaya'</span>,\n",
              "    <span style=\"color: #008000; text-decoration-color: #008000\">'smolenskaia-oblast'</span>: <span style=\"color: #008000; text-decoration-color: #008000\">'Smolenskaya'</span>,\n",
              "    <span style=\"color: #008000; text-decoration-color: #008000\">'stavropolskii-krai'</span>: <span style=\"color: #008000; text-decoration-color: #008000\">'Stavropol-skiy_kray'</span>,\n",
              "    <span style=\"color: #008000; text-decoration-color: #008000\">'tambovskaia-oblast'</span>: <span style=\"color: #008000; text-decoration-color: #008000\">'Tambovskaya'</span>,\n",
              "    <span style=\"color: #008000; text-decoration-color: #008000\">'tverskaia-oblast'</span>: <span style=\"color: #008000; text-decoration-color: #008000\">'Tverskaya'</span>,\n",
              "    <span style=\"color: #008000; text-decoration-color: #008000\">'tomskaia-oblast'</span>: <span style=\"color: #008000; text-decoration-color: #008000\">'Tomskaya'</span>,\n",
              "    <span style=\"color: #008000; text-decoration-color: #008000\">'tulskaia-oblast'</span>: <span style=\"color: #008000; text-decoration-color: #008000\">'Tul-skaya'</span>,\n",
              "    <span style=\"color: #008000; text-decoration-color: #008000\">'tiumenskaia-oblast'</span>: <span style=\"color: #008000; text-decoration-color: #008000\">'Tyumenskaya'</span>,\n",
              "    <span style=\"color: #008000; text-decoration-color: #008000\">'udmurtskaia-respublika'</span>: <span style=\"color: #008000; text-decoration-color: #008000\">'Udmurtskaya'</span>,\n",
              "    <span style=\"color: #008000; text-decoration-color: #008000\">'ulianovskaia-oblast'</span>: <span style=\"color: #008000; text-decoration-color: #008000\">'Ul-yanovskaya'</span>,\n",
              "    <span style=\"color: #008000; text-decoration-color: #008000\">'khabarovskii-krai'</span>: <span style=\"color: #008000; text-decoration-color: #008000\">'Khabarovskiy-kray'</span>,\n",
              "    <span style=\"color: #008000; text-decoration-color: #008000\">'khanty-mansiiskii-avtonomnyi-okrug-iugra'</span>: <span style=\"color: #008000; text-decoration-color: #008000\">'Khanty-Mansiyskiy'</span>,\n",
              "    <span style=\"color: #008000; text-decoration-color: #008000\">'cheliabinskaia-oblast'</span>: <span style=\"color: #008000; text-decoration-color: #008000\">'Chelyabinskaya'</span>,\n",
              "    <span style=\"color: #008000; text-decoration-color: #008000\">'chechenskaia-respublika'</span>: <span style=\"color: #008000; text-decoration-color: #008000\">'Chechenskaya'</span>,\n",
              "    <span style=\"color: #008000; text-decoration-color: #008000\">'chuvashskaia-respublika-chuvashiia'</span>: <span style=\"color: #008000; text-decoration-color: #008000\">'Chuvashskaya'</span>,\n",
              "    <span style=\"color: #008000; text-decoration-color: #008000\">'chukotskii-avtonomnyi-okrug'</span>: <span style=\"color: #008000; text-decoration-color: #008000\">'Chukotskiy'</span>,\n",
              "    <span style=\"color: #008000; text-decoration-color: #008000\">'iamalo-nenetskii-avtonomnyi-okrug'</span>: <span style=\"color: #008000; text-decoration-color: #008000\">'Yamalo-Nenetskiy'</span>,\n",
              "    <span style=\"color: #008000; text-decoration-color: #008000\">'iaroslavskaia-oblast'</span>: <span style=\"color: #008000; text-decoration-color: #008000\">'Yaroslavskaya'</span>\n",
              "<span style=\"font-weight: bold\">}</span>\n",
              "</pre>\n"
            ],
            "text/plain": [
              "\u001b[1m{\u001b[0m\n",
              "    \u001b[32m'altaiskii-krai'\u001b[0m: \u001b[32m'Altayskiy_kray'\u001b[0m,\n",
              "    \u001b[32m'amurskaia-oblast'\u001b[0m: \u001b[32m'Amurskaya'\u001b[0m,\n",
              "    \u001b[32m'arkhangelskaia-oblast'\u001b[0m: \u001b[32m'Arkhangel_skaya'\u001b[0m,\n",
              "    \u001b[32m'astrakhanskaia-oblast'\u001b[0m: \u001b[32m'Astrakhanskaya'\u001b[0m,\n",
              "    \u001b[32m'belgorodskaia-oblast'\u001b[0m: \u001b[32m'Belgorodskaya'\u001b[0m,\n",
              "    \u001b[32m'brianskaia-oblast'\u001b[0m: \u001b[32m'Bryanskaya'\u001b[0m,\n",
              "    \u001b[32m'vladimirskaia-oblast'\u001b[0m: \u001b[32m'Vladimirskaya'\u001b[0m,\n",
              "    \u001b[32m'volgogradskaia-oblast'\u001b[0m: \u001b[32m'Volgogradskaya'\u001b[0m,\n",
              "    \u001b[32m'vologodskaia-oblast'\u001b[0m: \u001b[32m'Vologodskaya'\u001b[0m,\n",
              "    \u001b[32m'voronezhskaia-oblast'\u001b[0m: \u001b[32m'Voronezhskaya'\u001b[0m,\n",
              "    \u001b[32m'evreiskaia-avtonomnaia-oblast'\u001b[0m: \u001b[32m'Saratovskaya'\u001b[0m,\n",
              "    \u001b[32m'zabaikalskii-krai'\u001b[0m: \u001b[32m'Zabaykal-skiy_kray'\u001b[0m,\n",
              "    \u001b[32m'ivanovskaia-oblast'\u001b[0m: \u001b[32m'Ivanovskaya'\u001b[0m,\n",
              "    \u001b[32m'irkutskaia-oblast'\u001b[0m: \u001b[32m'Irkutskaya'\u001b[0m,\n",
              "    \u001b[32m'kabardino-balkarskaia-respublika'\u001b[0m: \u001b[32m'Kabardino-Balkarskaya'\u001b[0m,\n",
              "    \u001b[32m'kaliningradskaia-oblast'\u001b[0m: \u001b[32m'Kaliningradskaya'\u001b[0m,\n",
              "    \u001b[32m'kaluzhskaia-oblast'\u001b[0m: \u001b[32m'Kaluzhskaya'\u001b[0m,\n",
              "    \u001b[32m'kamchatskii-krai'\u001b[0m: \u001b[32m'kamchatskaya'\u001b[0m,\n",
              "    \u001b[32m'karachaevo-cherkesskaia-respublika'\u001b[0m: \u001b[32m'Karachayevo-Cherkesskaya'\u001b[0m,\n",
              "    \u001b[32m'kemerovskaia-oblast-kuzbass'\u001b[0m: \u001b[32m'kermerovskaya'\u001b[0m,\n",
              "    \u001b[32m'kirovskaia-oblast'\u001b[0m: \u001b[32m'Kirovskaya'\u001b[0m,\n",
              "    \u001b[32m'kostromskaia-oblast'\u001b[0m: \u001b[32m'Kostromskaya'\u001b[0m,\n",
              "    \u001b[32m'krasnodarskii-krai'\u001b[0m: \u001b[32m'Krasnodarskiy-kray'\u001b[0m,\n",
              "    \u001b[32m'krasnoiarskii-krai'\u001b[0m: \u001b[32m'Krasnodarskiy-kray'\u001b[0m,\n",
              "    \u001b[32m'kurganskaia-oblast'\u001b[0m: \u001b[32m'Kurganskaya'\u001b[0m,\n",
              "    \u001b[32m'kurskaia-oblast'\u001b[0m: \u001b[32m'Kurskaya'\u001b[0m,\n",
              "    \u001b[32m'leningradskaia-oblast'\u001b[0m: \u001b[32m'Leningradskaya'\u001b[0m,\n",
              "    \u001b[32m'lipetskaia-oblast'\u001b[0m: \u001b[32m'Lipetskaya'\u001b[0m,\n",
              "    \u001b[32m'magadanskaia-oblast'\u001b[0m: \u001b[32m'Magadanskaya'\u001b[0m,\n",
              "    \u001b[32m'moskva'\u001b[0m: \u001b[32m'Moskva'\u001b[0m,\n",
              "    \u001b[32m'moskovskaia-oblast'\u001b[0m: \u001b[32m'Moskovskaya'\u001b[0m,\n",
              "    \u001b[32m'murmanskaia-oblast'\u001b[0m: \u001b[32m'Murmanskaya'\u001b[0m,\n",
              "    \u001b[32m'nenetskii-avtonomnyi-okrug'\u001b[0m: \u001b[32m'Nenetskiy'\u001b[0m,\n",
              "    \u001b[32m'nizhegorodskaia-oblast'\u001b[0m: \u001b[32m'Nizhegorodskaya'\u001b[0m,\n",
              "    \u001b[32m'novgorodskaia-oblast'\u001b[0m: \u001b[32m'Novgorodskaya'\u001b[0m,\n",
              "    \u001b[32m'novosibirskaia-oblast'\u001b[0m: \u001b[32m'Novosibirskaya'\u001b[0m,\n",
              "    \u001b[32m'omskaia-oblast'\u001b[0m: \u001b[32m'Omskaya'\u001b[0m,\n",
              "    \u001b[32m'orenburgskaia-oblast'\u001b[0m: \u001b[32m'Orenburgskaya'\u001b[0m,\n",
              "    \u001b[32m'orlovskaia-oblast'\u001b[0m: \u001b[32m'Orlovskaya'\u001b[0m,\n",
              "    \u001b[32m'penzenskaia-oblast'\u001b[0m: \u001b[32m'Penzenskaya'\u001b[0m,\n",
              "    \u001b[32m'permskii-krai'\u001b[0m: \u001b[32m'Primorskiy_kray'\u001b[0m,\n",
              "    \u001b[32m'primorskii-krai'\u001b[0m: \u001b[32m'Primorskiy_kray'\u001b[0m,\n",
              "    \u001b[32m'pskovskaia-oblast'\u001b[0m: \u001b[32m'Pskovskaya'\u001b[0m,\n",
              "    \u001b[32m'respublika-adygeia-adygeia'\u001b[0m: \u001b[32m'Adygeya'\u001b[0m,\n",
              "    \u001b[32m'respublika-altai'\u001b[0m: \u001b[32m'Altay'\u001b[0m,\n",
              "    \u001b[32m'respublika-bashkortostan'\u001b[0m: \u001b[32m'Bashkortostan'\u001b[0m,\n",
              "    \u001b[32m'respublika-buriatiia'\u001b[0m: \u001b[32m'Buryatiya'\u001b[0m,\n",
              "    \u001b[32m'respublika-dagestan'\u001b[0m: \u001b[32m'Dagestan'\u001b[0m,\n",
              "    \u001b[32m'respublika-ingushetiia'\u001b[0m: \u001b[32m'Ingushskaya'\u001b[0m,\n",
              "    \u001b[32m'respublika-kalmykiia'\u001b[0m: \u001b[32m'Kalmykiya'\u001b[0m,\n",
              "    \u001b[32m'respublika-kareliia'\u001b[0m: \u001b[32m'Kareliya'\u001b[0m,\n",
              "    \u001b[32m'respublika-komi'\u001b[0m: \u001b[32m'Komi'\u001b[0m,\n",
              "    \u001b[32m'respublika-marii-el'\u001b[0m: \u001b[32m'Mariy_El'\u001b[0m,\n",
              "    \u001b[32m'respublika-mordoviia'\u001b[0m: \u001b[32m'Mordoviya'\u001b[0m,\n",
              "    \u001b[32m'respublika-sakha-iakutiia'\u001b[0m: \u001b[32m'Sakha_Yakutiya'\u001b[0m,\n",
              "    \u001b[32m'respublika-severnaia-osetiia-alaniia'\u001b[0m: \u001b[32m'Severnaya_Osetiya_Alaniya'\u001b[0m,\n",
              "    \u001b[32m'respublika-tatarstan-tatarstan'\u001b[0m: \u001b[32m'Tatarstan'\u001b[0m,\n",
              "    \u001b[32m'respublika-tyva'\u001b[0m: \u001b[32m'Tyva'\u001b[0m,\n",
              "    \u001b[32m'respublika-khakasiia'\u001b[0m: \u001b[32m'Khakasiya'\u001b[0m,\n",
              "    \u001b[32m'rostovskaia-oblast'\u001b[0m: \u001b[32m'Rostovskaya'\u001b[0m,\n",
              "    \u001b[32m'riazanskaia-oblast'\u001b[0m: \u001b[32m'Ryazanskaya'\u001b[0m,\n",
              "    \u001b[32m'samarskaia-oblast'\u001b[0m: \u001b[32m'Samarskaya'\u001b[0m,\n",
              "    \u001b[32m'sankt-peterburg'\u001b[0m: \u001b[32m'Sankt-Peterburg'\u001b[0m,\n",
              "    \u001b[32m'saratovskaia-oblast'\u001b[0m: \u001b[32m'Saratovskaya'\u001b[0m,\n",
              "    \u001b[32m'sakhalinskaia-oblast'\u001b[0m: \u001b[32m'Sakhalinskaya'\u001b[0m,\n",
              "    \u001b[32m'sverdlovskaia-oblast'\u001b[0m: \u001b[32m'Sverdlovskaya'\u001b[0m,\n",
              "    \u001b[32m'smolenskaia-oblast'\u001b[0m: \u001b[32m'Smolenskaya'\u001b[0m,\n",
              "    \u001b[32m'stavropolskii-krai'\u001b[0m: \u001b[32m'Stavropol-skiy_kray'\u001b[0m,\n",
              "    \u001b[32m'tambovskaia-oblast'\u001b[0m: \u001b[32m'Tambovskaya'\u001b[0m,\n",
              "    \u001b[32m'tverskaia-oblast'\u001b[0m: \u001b[32m'Tverskaya'\u001b[0m,\n",
              "    \u001b[32m'tomskaia-oblast'\u001b[0m: \u001b[32m'Tomskaya'\u001b[0m,\n",
              "    \u001b[32m'tulskaia-oblast'\u001b[0m: \u001b[32m'Tul-skaya'\u001b[0m,\n",
              "    \u001b[32m'tiumenskaia-oblast'\u001b[0m: \u001b[32m'Tyumenskaya'\u001b[0m,\n",
              "    \u001b[32m'udmurtskaia-respublika'\u001b[0m: \u001b[32m'Udmurtskaya'\u001b[0m,\n",
              "    \u001b[32m'ulianovskaia-oblast'\u001b[0m: \u001b[32m'Ul-yanovskaya'\u001b[0m,\n",
              "    \u001b[32m'khabarovskii-krai'\u001b[0m: \u001b[32m'Khabarovskiy-kray'\u001b[0m,\n",
              "    \u001b[32m'khanty-mansiiskii-avtonomnyi-okrug-iugra'\u001b[0m: \u001b[32m'Khanty-Mansiyskiy'\u001b[0m,\n",
              "    \u001b[32m'cheliabinskaia-oblast'\u001b[0m: \u001b[32m'Chelyabinskaya'\u001b[0m,\n",
              "    \u001b[32m'chechenskaia-respublika'\u001b[0m: \u001b[32m'Chechenskaya'\u001b[0m,\n",
              "    \u001b[32m'chuvashskaia-respublika-chuvashiia'\u001b[0m: \u001b[32m'Chuvashskaya'\u001b[0m,\n",
              "    \u001b[32m'chukotskii-avtonomnyi-okrug'\u001b[0m: \u001b[32m'Chukotskiy'\u001b[0m,\n",
              "    \u001b[32m'iamalo-nenetskii-avtonomnyi-okrug'\u001b[0m: \u001b[32m'Yamalo-Nenetskiy'\u001b[0m,\n",
              "    \u001b[32m'iaroslavskaia-oblast'\u001b[0m: \u001b[32m'Yaroslavskaya'\u001b[0m\n",
              "\u001b[1m}\u001b[0m\n"
            ]
          },
          "metadata": {},
          "output_type": "display_data"
        }
      ],
      "source": [
        "regions = [link.replace('https://cms.dtp-stat.ru/media/opendata/', '').replace('.geojson', '') for link in download_links]\n",
        "#print(regions)\n",
        "\n",
        "\n",
        "russia_regions = [str(region.name).replace('.geojson', '') for region in Path('Russia_geoJSON/').glob('*.geojson')]\n",
        "\n",
        "import difflib\n",
        "import jellyfish\n",
        "eq_regions = {}\n",
        "for region in regions:\n",
        "    _region = region.replace('-oblast', '').replace('respublika-', '')\n",
        "    if _region in ['krym', 'sevastopol']:\n",
        "        continue\n",
        "    score = 100\n",
        "    for russia_region in russia_regions:\n",
        "        if jellyfish.levenshtein_distance(_region, russia_region.lower()) < score:\n",
        "            score = jellyfish.levenshtein_distance(_region, russia_region.lower())\n",
        "            eq_regions[region] = russia_region\n",
        "print(eq_regions)\n"
      ]
    },
    {
      "attachments": {},
      "cell_type": "markdown",
      "metadata": {},
      "source": [
        "### Download every file and store it `./data/*.geojson` file\n",
        "NOTE: `geojson_files` will be changed in next cell"
      ]
    },
    {
      "cell_type": "code",
      "execution_count": 6,
      "metadata": {
        "colab": {
          "base_uri": "https://localhost:8080/"
        },
        "id": "bmIat1PMHjlM",
        "outputId": "e87fcedc-f965-42da-96e1-3576a618e332"
      },
      "outputs": [
        {
          "data": {
            "application/vnd.jupyter.widget-view+json": {
              "model_id": "ff9e996d25064852b7a1b22ebc14f87d",
              "version_major": 2,
              "version_minor": 0
            },
            "text/plain": [
              "  0%|          | 0/85 [00:00<?, ?it/s]"
            ]
          },
          "metadata": {},
          "output_type": "display_data"
        }
      ],
      "source": [
        "import requests\n",
        "from pathlib import Path\n",
        "\n",
        "geojson_files = []\n",
        "Path.mkdir(Path('data'), exist_ok=True)\n",
        "\n",
        "for file_link in tqdm(download_links):\n",
        "    file_data = requests.get(file_link).content\n",
        "    with open(file_link.replace('https://cms.dtp-stat.ru/media/opendata/', 'data/'), 'wb+') as file:\n",
        "        geojson_files.append(file.name)\n",
        "        file.write(file_data)\n"
      ]
    },
    {
      "attachments": {},
      "cell_type": "markdown",
      "metadata": {},
      "source": [
        "## Loading data from file and convert it to `CarAccident` class"
      ]
    },
    {
      "attachments": {},
      "cell_type": "markdown",
      "metadata": {},
      "source": [
        "### Load data from file and store it `geojson_objects` list"
      ]
    },
    {
      "cell_type": "code",
      "execution_count": 136,
      "metadata": {},
      "outputs": [
        {
          "data": {
            "application/vnd.jupyter.widget-view+json": {
              "model_id": "4e080dadafa14dbdb78302be34d98be3",
              "version_major": 2,
              "version_minor": 0
            },
            "text/plain": [
              "  0%|          | 0/85 [00:00<?, ?it/s]"
            ]
          },
          "metadata": {},
          "output_type": "display_data"
        },
        {
          "data": {
            "application/vnd.jupyter.widget-view+json": {
              "model_id": "c642aeeecdc241e3a39d9d4d36c38527",
              "version_major": 2,
              "version_minor": 0
            },
            "text/plain": [
              "  0%|          | 0/28643 [00:00<?, ?it/s]"
            ]
          },
          "metadata": {},
          "output_type": "display_data"
        },
        {
          "data": {
            "application/vnd.jupyter.widget-view+json": {
              "model_id": "27bb4ca2259d4e649c563c19d0284ab3",
              "version_major": 2,
              "version_minor": 0
            },
            "text/plain": [
              "  0%|          | 0/8444 [00:00<?, ?it/s]"
            ]
          },
          "metadata": {},
          "output_type": "display_data"
        },
        {
          "data": {
            "application/vnd.jupyter.widget-view+json": {
              "model_id": "0b1f0b0235de45d78ee0722bde8f8724",
              "version_major": 2,
              "version_minor": 0
            },
            "text/plain": [
              "  0%|          | 0/20880 [00:00<?, ?it/s]"
            ]
          },
          "metadata": {},
          "output_type": "display_data"
        },
        {
          "data": {
            "application/vnd.jupyter.widget-view+json": {
              "model_id": "c0e130ccf98a416289ecd6652a52957c",
              "version_major": 2,
              "version_minor": 0
            },
            "text/plain": [
              "  0%|          | 0/30759 [00:00<?, ?it/s]"
            ]
          },
          "metadata": {},
          "output_type": "display_data"
        },
        {
          "data": {
            "application/vnd.jupyter.widget-view+json": {
              "model_id": "5e11208083984dc68fd6ba4abdf081ea",
              "version_major": 2,
              "version_minor": 0
            },
            "text/plain": [
              "  0%|          | 0/5319 [00:00<?, ?it/s]"
            ]
          },
          "metadata": {},
          "output_type": "display_data"
        },
        {
          "data": {
            "application/vnd.jupyter.widget-view+json": {
              "model_id": "5db2271f7dba4f689b79ee9beedc8b83",
              "version_major": 2,
              "version_minor": 0
            },
            "text/plain": [
              "  0%|          | 0/18841 [00:00<?, ?it/s]"
            ]
          },
          "metadata": {},
          "output_type": "display_data"
        },
        {
          "data": {
            "application/vnd.jupyter.widget-view+json": {
              "model_id": "d5fd760576434f0f85c3db9f66aba8c5",
              "version_major": 2,
              "version_minor": 0
            },
            "text/plain": [
              "  0%|          | 0/19706 [00:00<?, ?it/s]"
            ]
          },
          "metadata": {},
          "output_type": "display_data"
        },
        {
          "data": {
            "application/vnd.jupyter.widget-view+json": {
              "model_id": "04200ae962b44b979b92610832222a40",
              "version_major": 2,
              "version_minor": 0
            },
            "text/plain": [
              "  0%|          | 0/16900 [00:00<?, ?it/s]"
            ]
          },
          "metadata": {},
          "output_type": "display_data"
        },
        {
          "data": {
            "application/vnd.jupyter.widget-view+json": {
              "model_id": "b59f9fcffbb5474a8485cf63cec016bc",
              "version_major": 2,
              "version_minor": 0
            },
            "text/plain": [
              "  0%|          | 0/1919 [00:00<?, ?it/s]"
            ]
          },
          "metadata": {},
          "output_type": "display_data"
        },
        {
          "data": {
            "application/vnd.jupyter.widget-view+json": {
              "model_id": "80948fd3a7fc4f1aa377c5da51c4cb89",
              "version_major": 2,
              "version_minor": 0
            },
            "text/plain": [
              "  0%|          | 0/22563 [00:00<?, ?it/s]"
            ]
          },
          "metadata": {},
          "output_type": "display_data"
        },
        {
          "data": {
            "application/vnd.jupyter.widget-view+json": {
              "model_id": "d0b03402f7dc44368a50d659474aff9b",
              "version_major": 2,
              "version_minor": 0
            },
            "text/plain": [
              "  0%|          | 0/8154 [00:00<?, ?it/s]"
            ]
          },
          "metadata": {},
          "output_type": "display_data"
        },
        {
          "data": {
            "application/vnd.jupyter.widget-view+json": {
              "model_id": "11798adb2a14466fac2cb9356ddc823e",
              "version_major": 2,
              "version_minor": 0
            },
            "text/plain": [
              "  0%|          | 0/23081 [00:00<?, ?it/s]"
            ]
          },
          "metadata": {},
          "output_type": "display_data"
        },
        {
          "data": {
            "application/vnd.jupyter.widget-view+json": {
              "model_id": "ae35c7a05e2a4b60b949c496b33df732",
              "version_major": 2,
              "version_minor": 0
            },
            "text/plain": [
              "  0%|          | 0/12436 [00:00<?, ?it/s]"
            ]
          },
          "metadata": {},
          "output_type": "display_data"
        },
        {
          "data": {
            "application/vnd.jupyter.widget-view+json": {
              "model_id": "abd34c991ef24e30b1a0ebc0a9547c76",
              "version_major": 2,
              "version_minor": 0
            },
            "text/plain": [
              "  0%|          | 0/3965 [00:00<?, ?it/s]"
            ]
          },
          "metadata": {},
          "output_type": "display_data"
        },
        {
          "data": {
            "application/vnd.jupyter.widget-view+json": {
              "model_id": "cc25982841064bc58cf7f712748dd0ff",
              "version_major": 2,
              "version_minor": 0
            },
            "text/plain": [
              "  0%|          | 0/2156 [00:00<?, ?it/s]"
            ]
          },
          "metadata": {},
          "output_type": "display_data"
        },
        {
          "data": {
            "application/vnd.jupyter.widget-view+json": {
              "model_id": "dc5f8dc05b7e482f9c3df2a676640161",
              "version_major": 2,
              "version_minor": 0
            },
            "text/plain": [
              "  0%|          | 0/10517 [00:00<?, ?it/s]"
            ]
          },
          "metadata": {},
          "output_type": "display_data"
        },
        {
          "data": {
            "application/vnd.jupyter.widget-view+json": {
              "model_id": "148f499aef7a4f9abc741151b43a1991",
              "version_major": 2,
              "version_minor": 0
            },
            "text/plain": [
              "  0%|          | 0/3711 [00:00<?, ?it/s]"
            ]
          },
          "metadata": {},
          "output_type": "display_data"
        },
        {
          "data": {
            "application/vnd.jupyter.widget-view+json": {
              "model_id": "e86070d1a567409f96c19d5493dc3b74",
              "version_major": 2,
              "version_minor": 0
            },
            "text/plain": [
              "  0%|          | 0/10640 [00:00<?, ?it/s]"
            ]
          },
          "metadata": {},
          "output_type": "display_data"
        },
        {
          "data": {
            "application/vnd.jupyter.widget-view+json": {
              "model_id": "3913162a50d942738fbf095d87f306a4",
              "version_major": 2,
              "version_minor": 0
            },
            "text/plain": [
              "  0%|          | 0/21857 [00:00<?, ?it/s]"
            ]
          },
          "metadata": {},
          "output_type": "display_data"
        },
        {
          "data": {
            "application/vnd.jupyter.widget-view+json": {
              "model_id": "5d89652d101d4b139950067607b85ede",
              "version_major": 2,
              "version_minor": 0
            },
            "text/plain": [
              "  0%|          | 0/5006 [00:00<?, ?it/s]"
            ]
          },
          "metadata": {},
          "output_type": "display_data"
        },
        {
          "data": {
            "application/vnd.jupyter.widget-view+json": {
              "model_id": "760e93e29c97430bb772943069e9d014",
              "version_major": 2,
              "version_minor": 0
            },
            "text/plain": [
              "  0%|          | 0/3547 [00:00<?, ?it/s]"
            ]
          },
          "metadata": {},
          "output_type": "display_data"
        },
        {
          "data": {
            "application/vnd.jupyter.widget-view+json": {
              "model_id": "5bc485ec2f8b45878fcebdfca7feddb8",
              "version_major": 2,
              "version_minor": 0
            },
            "text/plain": [
              "  0%|          | 0/1598 [00:00<?, ?it/s]"
            ]
          },
          "metadata": {},
          "output_type": "display_data"
        },
        {
          "data": {
            "application/vnd.jupyter.widget-view+json": {
              "model_id": "add34c234b934dbc8670b0456d0f10bd",
              "version_major": 2,
              "version_minor": 0
            },
            "text/plain": [
              "  0%|          | 0/9911 [00:00<?, ?it/s]"
            ]
          },
          "metadata": {},
          "output_type": "display_data"
        },
        {
          "data": {
            "application/vnd.jupyter.widget-view+json": {
              "model_id": "c76395a05062418da209a53269b9ca13",
              "version_major": 2,
              "version_minor": 0
            },
            "text/plain": [
              "  0%|          | 0/4826 [00:00<?, ?it/s]"
            ]
          },
          "metadata": {},
          "output_type": "display_data"
        },
        {
          "data": {
            "application/vnd.jupyter.widget-view+json": {
              "model_id": "adc2f61018e44da5860bee9e339bec79",
              "version_major": 2,
              "version_minor": 0
            },
            "text/plain": [
              "  0%|          | 0/11770 [00:00<?, ?it/s]"
            ]
          },
          "metadata": {},
          "output_type": "display_data"
        },
        {
          "data": {
            "application/vnd.jupyter.widget-view+json": {
              "model_id": "de45d06a9a9a4d32a0203bc5d42616b1",
              "version_major": 2,
              "version_minor": 0
            },
            "text/plain": [
              "  0%|          | 0/13675 [00:00<?, ?it/s]"
            ]
          },
          "metadata": {},
          "output_type": "display_data"
        },
        {
          "data": {
            "application/vnd.jupyter.widget-view+json": {
              "model_id": "1b0f66b6f7f044aa8abdf5bfc24c3676",
              "version_major": 2,
              "version_minor": 0
            },
            "text/plain": [
              "  0%|          | 0/9664 [00:00<?, ?it/s]"
            ]
          },
          "metadata": {},
          "output_type": "display_data"
        },
        {
          "data": {
            "application/vnd.jupyter.widget-view+json": {
              "model_id": "3a0ce9f14b0c4627b55b202a0e6fb5e4",
              "version_major": 2,
              "version_minor": 0
            },
            "text/plain": [
              "  0%|          | 0/10344 [00:00<?, ?it/s]"
            ]
          },
          "metadata": {},
          "output_type": "display_data"
        },
        {
          "data": {
            "application/vnd.jupyter.widget-view+json": {
              "model_id": "9b03c54d192d4458840edd86df997540",
              "version_major": 2,
              "version_minor": 0
            },
            "text/plain": [
              "  0%|          | 0/8996 [00:00<?, ?it/s]"
            ]
          },
          "metadata": {},
          "output_type": "display_data"
        },
        {
          "data": {
            "application/vnd.jupyter.widget-view+json": {
              "model_id": "ffcf5e6113174f0785f673b406f47536",
              "version_major": 2,
              "version_minor": 0
            },
            "text/plain": [
              "  0%|          | 0/251 [00:00<?, ?it/s]"
            ]
          },
          "metadata": {},
          "output_type": "display_data"
        },
        {
          "data": {
            "application/vnd.jupyter.widget-view+json": {
              "model_id": "cc05a2b40027450e8c8f509d6cdb33d1",
              "version_major": 2,
              "version_minor": 0
            },
            "text/plain": [
              "  0%|          | 0/4069 [00:00<?, ?it/s]"
            ]
          },
          "metadata": {},
          "output_type": "display_data"
        },
        {
          "data": {
            "application/vnd.jupyter.widget-view+json": {
              "model_id": "e247689fef844e368181595b200af4f9",
              "version_major": 2,
              "version_minor": 0
            },
            "text/plain": [
              "  0%|          | 0/1761 [00:00<?, ?it/s]"
            ]
          },
          "metadata": {},
          "output_type": "display_data"
        },
        {
          "data": {
            "application/vnd.jupyter.widget-view+json": {
              "model_id": "38c23157fa7c408282d11cca572cc86b",
              "version_major": 2,
              "version_minor": 0
            },
            "text/plain": [
              "  0%|          | 0/3908 [00:00<?, ?it/s]"
            ]
          },
          "metadata": {},
          "output_type": "display_data"
        },
        {
          "data": {
            "application/vnd.jupyter.widget-view+json": {
              "model_id": "fce1f4eea8a44cd39fb415e4aabb8597",
              "version_major": 2,
              "version_minor": 0
            },
            "text/plain": [
              "  0%|          | 0/28053 [00:00<?, ?it/s]"
            ]
          },
          "metadata": {},
          "output_type": "display_data"
        },
        {
          "data": {
            "application/vnd.jupyter.widget-view+json": {
              "model_id": "6e7b812489964e99911a7125491ac228",
              "version_major": 2,
              "version_minor": 0
            },
            "text/plain": [
              "  0%|          | 0/33130 [00:00<?, ?it/s]"
            ]
          },
          "metadata": {},
          "output_type": "display_data"
        },
        {
          "data": {
            "application/vnd.jupyter.widget-view+json": {
              "model_id": "ee9d98d29a0f4054a76afcd4fccc85f2",
              "version_major": 2,
              "version_minor": 0
            },
            "text/plain": [
              "  0%|          | 0/7491 [00:00<?, ?it/s]"
            ]
          },
          "metadata": {},
          "output_type": "display_data"
        },
        {
          "data": {
            "application/vnd.jupyter.widget-view+json": {
              "model_id": "286d9b48eed64cd38a6cf5f02c524347",
              "version_major": 2,
              "version_minor": 0
            },
            "text/plain": [
              "  0%|          | 0/24305 [00:00<?, ?it/s]"
            ]
          },
          "metadata": {},
          "output_type": "display_data"
        },
        {
          "data": {
            "application/vnd.jupyter.widget-view+json": {
              "model_id": "db5d4aaa30964f84822eb3c095c9d62c",
              "version_major": 2,
              "version_minor": 0
            },
            "text/plain": [
              "  0%|          | 0/14289 [00:00<?, ?it/s]"
            ]
          },
          "metadata": {},
          "output_type": "display_data"
        },
        {
          "data": {
            "application/vnd.jupyter.widget-view+json": {
              "model_id": "32a67fd429724cdf8841b61524763924",
              "version_major": 2,
              "version_minor": 0
            },
            "text/plain": [
              "  0%|          | 0/8049 [00:00<?, ?it/s]"
            ]
          },
          "metadata": {},
          "output_type": "display_data"
        },
        {
          "data": {
            "application/vnd.jupyter.widget-view+json": {
              "model_id": "dcc996d501f640ce9da07aee53f34a55",
              "version_major": 2,
              "version_minor": 0
            },
            "text/plain": [
              "  0%|          | 0/14283 [00:00<?, ?it/s]"
            ]
          },
          "metadata": {},
          "output_type": "display_data"
        },
        {
          "data": {
            "application/vnd.jupyter.widget-view+json": {
              "model_id": "318e2cb4ce1d42cb91d081a531b078a6",
              "version_major": 2,
              "version_minor": 0
            },
            "text/plain": [
              "  0%|          | 0/70475 [00:00<?, ?it/s]"
            ]
          },
          "metadata": {},
          "output_type": "display_data"
        },
        {
          "data": {
            "application/vnd.jupyter.widget-view+json": {
              "model_id": "435723d05e6c4f1f8c965cdb36deefb0",
              "version_major": 2,
              "version_minor": 0
            },
            "text/plain": [
              "  0%|          | 0/6292 [00:00<?, ?it/s]"
            ]
          },
          "metadata": {},
          "output_type": "display_data"
        },
        {
          "data": {
            "application/vnd.jupyter.widget-view+json": {
              "model_id": "15fc6c9bf15c4d2188376a78a4761f4a",
              "version_major": 2,
              "version_minor": 0
            },
            "text/plain": [
              "  0%|          | 0/6943 [00:00<?, ?it/s]"
            ]
          },
          "metadata": {},
          "output_type": "display_data"
        },
        {
          "data": {
            "application/vnd.jupyter.widget-view+json": {
              "model_id": "a8c76af3a78d46478a85cbfdfcec97c6",
              "version_major": 2,
              "version_minor": 0
            },
            "text/plain": [
              "  0%|          | 0/7936 [00:00<?, ?it/s]"
            ]
          },
          "metadata": {},
          "output_type": "display_data"
        },
        {
          "data": {
            "application/vnd.jupyter.widget-view+json": {
              "model_id": "34d4cb6d0e434820a6710411eb3a743d",
              "version_major": 2,
              "version_minor": 0
            },
            "text/plain": [
              "  0%|          | 0/10128 [00:00<?, ?it/s]"
            ]
          },
          "metadata": {},
          "output_type": "display_data"
        },
        {
          "data": {
            "application/vnd.jupyter.widget-view+json": {
              "model_id": "09c71c3c4eb445e79fb79964ab8eb5dc",
              "version_major": 2,
              "version_minor": 0
            },
            "text/plain": [
              "  0%|          | 0/9154 [00:00<?, ?it/s]"
            ]
          },
          "metadata": {},
          "output_type": "display_data"
        },
        {
          "data": {
            "application/vnd.jupyter.widget-view+json": {
              "model_id": "d4d2fd88c96a465091efc94d83c20596",
              "version_major": 2,
              "version_minor": 0
            },
            "text/plain": [
              "  0%|          | 0/195 [00:00<?, ?it/s]"
            ]
          },
          "metadata": {},
          "output_type": "display_data"
        },
        {
          "data": {
            "application/vnd.jupyter.widget-view+json": {
              "model_id": "b15fa2cd445540218c4037d3b81b8d2f",
              "version_major": 2,
              "version_minor": 0
            },
            "text/plain": [
              "  0%|          | 0/40513 [00:00<?, ?it/s]"
            ]
          },
          "metadata": {},
          "output_type": "display_data"
        },
        {
          "data": {
            "application/vnd.jupyter.widget-view+json": {
              "model_id": "581d6eba60f24f91a3d3cbd57476c522",
              "version_major": 2,
              "version_minor": 0
            },
            "text/plain": [
              "  0%|          | 0/11885 [00:00<?, ?it/s]"
            ]
          },
          "metadata": {},
          "output_type": "display_data"
        },
        {
          "data": {
            "application/vnd.jupyter.widget-view+json": {
              "model_id": "3739d9e5b18941e38e9f5e523322693c",
              "version_major": 2,
              "version_minor": 0
            },
            "text/plain": [
              "  0%|          | 0/9825 [00:00<?, ?it/s]"
            ]
          },
          "metadata": {},
          "output_type": "display_data"
        },
        {
          "data": {
            "application/vnd.jupyter.widget-view+json": {
              "model_id": "e2c0458145cb4a87bd35a7c9df5c61f1",
              "version_major": 2,
              "version_minor": 0
            },
            "text/plain": [
              "  0%|          | 0/22811 [00:00<?, ?it/s]"
            ]
          },
          "metadata": {},
          "output_type": "display_data"
        },
        {
          "data": {
            "application/vnd.jupyter.widget-view+json": {
              "model_id": "20d33aefbe774351a2ac71590bb5d409",
              "version_major": 2,
              "version_minor": 0
            },
            "text/plain": [
              "  0%|          | 0/46962 [00:00<?, ?it/s]"
            ]
          },
          "metadata": {},
          "output_type": "display_data"
        },
        {
          "data": {
            "application/vnd.jupyter.widget-view+json": {
              "model_id": "784b9c99ee804428990c6c078c0f17ff",
              "version_major": 2,
              "version_minor": 0
            },
            "text/plain": [
              "  0%|          | 0/5545 [00:00<?, ?it/s]"
            ]
          },
          "metadata": {},
          "output_type": "display_data"
        },
        {
          "data": {
            "application/vnd.jupyter.widget-view+json": {
              "model_id": "774409a7cc2a4fc6843d8f6d0cee9ee3",
              "version_major": 2,
              "version_minor": 0
            },
            "text/plain": [
              "  0%|          | 0/2527 [00:00<?, ?it/s]"
            ]
          },
          "metadata": {},
          "output_type": "display_data"
        },
        {
          "data": {
            "application/vnd.jupyter.widget-view+json": {
              "model_id": "fecefedc893c4debb36980a83664a44f",
              "version_major": 2,
              "version_minor": 0
            },
            "text/plain": [
              "  0%|          | 0/6124 [00:00<?, ?it/s]"
            ]
          },
          "metadata": {},
          "output_type": "display_data"
        },
        {
          "data": {
            "application/vnd.jupyter.widget-view+json": {
              "model_id": "0076ae336164491abeb23183dbe93932",
              "version_major": 2,
              "version_minor": 0
            },
            "text/plain": [
              "  0%|          | 0/10166 [00:00<?, ?it/s]"
            ]
          },
          "metadata": {},
          "output_type": "display_data"
        },
        {
          "data": {
            "application/vnd.jupyter.widget-view+json": {
              "model_id": "f5ddcd79a5bf42ae9cba5b55566ed324",
              "version_major": 2,
              "version_minor": 0
            },
            "text/plain": [
              "  0%|          | 0/13198 [00:00<?, ?it/s]"
            ]
          },
          "metadata": {},
          "output_type": "display_data"
        },
        {
          "data": {
            "application/vnd.jupyter.widget-view+json": {
              "model_id": "396fdd480cea4f61b0096a5c9f5df30b",
              "version_major": 2,
              "version_minor": 0
            },
            "text/plain": [
              "  0%|          | 0/5184 [00:00<?, ?it/s]"
            ]
          },
          "metadata": {},
          "output_type": "display_data"
        },
        {
          "data": {
            "application/vnd.jupyter.widget-view+json": {
              "model_id": "6d20e283a426498eb272c1aac59811c3",
              "version_major": 2,
              "version_minor": 0
            },
            "text/plain": [
              "  0%|          | 0/11698 [00:00<?, ?it/s]"
            ]
          },
          "metadata": {},
          "output_type": "display_data"
        },
        {
          "data": {
            "application/vnd.jupyter.widget-view+json": {
              "model_id": "55ad6f0f548045b78eeb217259397351",
              "version_major": 2,
              "version_minor": 0
            },
            "text/plain": [
              "  0%|          | 0/22101 [00:00<?, ?it/s]"
            ]
          },
          "metadata": {},
          "output_type": "display_data"
        },
        {
          "data": {
            "application/vnd.jupyter.widget-view+json": {
              "model_id": "e3d7b0ea4e344f5ab263dcf43407be20",
              "version_major": 2,
              "version_minor": 0
            },
            "text/plain": [
              "  0%|          | 0/7741 [00:00<?, ?it/s]"
            ]
          },
          "metadata": {},
          "output_type": "display_data"
        },
        {
          "data": {
            "application/vnd.jupyter.widget-view+json": {
              "model_id": "3787b7c69aea4e098db9ed56004fe933",
              "version_major": 2,
              "version_minor": 0
            },
            "text/plain": [
              "  0%|          | 0/16771 [00:00<?, ?it/s]"
            ]
          },
          "metadata": {},
          "output_type": "display_data"
        },
        {
          "data": {
            "application/vnd.jupyter.widget-view+json": {
              "model_id": "9e8870066cc34913a433ba8a6d036cc6",
              "version_major": 2,
              "version_minor": 0
            },
            "text/plain": [
              "  0%|          | 0/9531 [00:00<?, ?it/s]"
            ]
          },
          "metadata": {},
          "output_type": "display_data"
        },
        {
          "data": {
            "application/vnd.jupyter.widget-view+json": {
              "model_id": "f3189c293c364ee1885ea2e933dac243",
              "version_major": 2,
              "version_minor": 0
            },
            "text/plain": [
              "  0%|          | 0/12163 [00:00<?, ?it/s]"
            ]
          },
          "metadata": {},
          "output_type": "display_data"
        },
        {
          "data": {
            "application/vnd.jupyter.widget-view+json": {
              "model_id": "66c8ba44059148f293778eaf7d1497d3",
              "version_major": 2,
              "version_minor": 0
            },
            "text/plain": [
              "  0%|          | 0/13019 [00:00<?, ?it/s]"
            ]
          },
          "metadata": {},
          "output_type": "display_data"
        },
        {
          "data": {
            "application/vnd.jupyter.widget-view+json": {
              "model_id": "3b7d7e8ff6174406922442f2bdb44889",
              "version_major": 2,
              "version_minor": 0
            },
            "text/plain": [
              "  0%|          | 0/6392 [00:00<?, ?it/s]"
            ]
          },
          "metadata": {},
          "output_type": "display_data"
        },
        {
          "data": {
            "application/vnd.jupyter.widget-view+json": {
              "model_id": "4c45eb799d704882b51171ddd5a2743c",
              "version_major": 2,
              "version_minor": 0
            },
            "text/plain": [
              "  0%|          | 0/34859 [00:00<?, ?it/s]"
            ]
          },
          "metadata": {},
          "output_type": "display_data"
        },
        {
          "data": {
            "application/vnd.jupyter.widget-view+json": {
              "model_id": "dd8aed95e7be40a0a3817e2e81df75a2",
              "version_major": 2,
              "version_minor": 0
            },
            "text/plain": [
              "  0%|          | 0/6025 [00:00<?, ?it/s]"
            ]
          },
          "metadata": {},
          "output_type": "display_data"
        },
        {
          "data": {
            "application/vnd.jupyter.widget-view+json": {
              "model_id": "f488623b26ba417a8d79e8e2f6e168a6",
              "version_major": 2,
              "version_minor": 0
            },
            "text/plain": [
              "  0%|          | 0/22199 [00:00<?, ?it/s]"
            ]
          },
          "metadata": {},
          "output_type": "display_data"
        },
        {
          "data": {
            "application/vnd.jupyter.widget-view+json": {
              "model_id": "903a2cb58cf049878ebd236ce0efee54",
              "version_major": 2,
              "version_minor": 0
            },
            "text/plain": [
              "  0%|          | 0/14154 [00:00<?, ?it/s]"
            ]
          },
          "metadata": {},
          "output_type": "display_data"
        },
        {
          "data": {
            "application/vnd.jupyter.widget-view+json": {
              "model_id": "0e05dc578c4c49e8a7d475e04717820b",
              "version_major": 2,
              "version_minor": 0
            },
            "text/plain": [
              "  0%|          | 0/8508 [00:00<?, ?it/s]"
            ]
          },
          "metadata": {},
          "output_type": "display_data"
        },
        {
          "data": {
            "application/vnd.jupyter.widget-view+json": {
              "model_id": "b2cf368289e74520b385e0c457f8e60b",
              "version_major": 2,
              "version_minor": 0
            },
            "text/plain": [
              "  0%|          | 0/51226 [00:00<?, ?it/s]"
            ]
          },
          "metadata": {},
          "output_type": "display_data"
        },
        {
          "data": {
            "application/vnd.jupyter.widget-view+json": {
              "model_id": "270148eb426c4851861432cd2cb9ced2",
              "version_major": 2,
              "version_minor": 0
            },
            "text/plain": [
              "  0%|          | 0/28062 [00:00<?, ?it/s]"
            ]
          },
          "metadata": {},
          "output_type": "display_data"
        },
        {
          "data": {
            "application/vnd.jupyter.widget-view+json": {
              "model_id": "148a64813040493e88c4917d78750f70",
              "version_major": 2,
              "version_minor": 0
            },
            "text/plain": [
              "  0%|          | 0/24059 [00:00<?, ?it/s]"
            ]
          },
          "metadata": {},
          "output_type": "display_data"
        },
        {
          "data": {
            "application/vnd.jupyter.widget-view+json": {
              "model_id": "9e6dbec4fe9040fea76cf156b4151758",
              "version_major": 2,
              "version_minor": 0
            },
            "text/plain": [
              "  0%|          | 0/3913 [00:00<?, ?it/s]"
            ]
          },
          "metadata": {},
          "output_type": "display_data"
        },
        {
          "data": {
            "application/vnd.jupyter.widget-view+json": {
              "model_id": "4095837d5b344c5493960047abea6d65",
              "version_major": 2,
              "version_minor": 0
            },
            "text/plain": [
              "  0%|          | 0/15721 [00:00<?, ?it/s]"
            ]
          },
          "metadata": {},
          "output_type": "display_data"
        },
        {
          "data": {
            "application/vnd.jupyter.widget-view+json": {
              "model_id": "04bb1347519d445a862a33bd5b20d657",
              "version_major": 2,
              "version_minor": 0
            },
            "text/plain": [
              "  0%|          | 0/46323 [00:00<?, ?it/s]"
            ]
          },
          "metadata": {},
          "output_type": "display_data"
        },
        {
          "data": {
            "application/vnd.jupyter.widget-view+json": {
              "model_id": "78d3a30cfc354d058451e960addd0e35",
              "version_major": 2,
              "version_minor": 0
            },
            "text/plain": [
              "  0%|          | 0/23410 [00:00<?, ?it/s]"
            ]
          },
          "metadata": {},
          "output_type": "display_data"
        },
        {
          "data": {
            "application/vnd.jupyter.widget-view+json": {
              "model_id": "1201993968314d019c305dbd78290d64",
              "version_major": 2,
              "version_minor": 0
            },
            "text/plain": [
              "  0%|          | 0/14292 [00:00<?, ?it/s]"
            ]
          },
          "metadata": {},
          "output_type": "display_data"
        },
        {
          "data": {
            "application/vnd.jupyter.widget-view+json": {
              "model_id": "84a195b3246349d8b2ed968477a617ee",
              "version_major": 2,
              "version_minor": 0
            },
            "text/plain": [
              "  0%|          | 0/14143 [00:00<?, ?it/s]"
            ]
          },
          "metadata": {},
          "output_type": "display_data"
        },
        {
          "data": {
            "application/vnd.jupyter.widget-view+json": {
              "model_id": "1eb0ab13bdfa4935bbe3c491793128ab",
              "version_major": 2,
              "version_minor": 0
            },
            "text/plain": [
              "  0%|          | 0/6770 [00:00<?, ?it/s]"
            ]
          },
          "metadata": {},
          "output_type": "display_data"
        },
        {
          "data": {
            "application/vnd.jupyter.widget-view+json": {
              "model_id": "6c51758d0eff4ced827ecbaccc2986b6",
              "version_major": 2,
              "version_minor": 0
            },
            "text/plain": [
              "  0%|          | 0/24133 [00:00<?, ?it/s]"
            ]
          },
          "metadata": {},
          "output_type": "display_data"
        },
        {
          "data": {
            "application/vnd.jupyter.widget-view+json": {
              "model_id": "be17f6b9d8aa45b4a20a6b709572e1e8",
              "version_major": 2,
              "version_minor": 0
            },
            "text/plain": [
              "  0%|          | 0/22301 [00:00<?, ?it/s]"
            ]
          },
          "metadata": {},
          "output_type": "display_data"
        }
      ],
      "source": [
        "import json\n",
        "import geojson\n",
        "from shapely.geometry import shape, Point\n",
        "import chardet\n",
        "\n",
        "# for those who already have the data downloaded, so you can skip the previous cell\n",
        "geojson_files = [str(file) for file in Path.cwd().glob('data/*.geojson')]\n",
        "Path.mkdir(Path('data/fixed'), exist_ok=True)\n",
        "geojson_objects = []\n",
        "\n",
        "for file in tqdm(geojson_files):\n",
        "    with open(file, 'r', encoding='utf-8') as f:\n",
        "            try:\n",
        "                region_name = eq_regions[Path(file).name.replace('.geojson', '')]\n",
        "            except KeyError:\n",
        "                continue\n",
        "            # TODO: change all shape-files encoding to utf-8 and remove chardet\n",
        "            with open(f'Russia_geoJSON/{region_name}.geojson', \n",
        "                      'r', \n",
        "                      encoding=chardet.detect(open(f'Russia_geoJSON/{region_name}.geojson', 'rb').read(1500))['encoding']) as poly_file:\n",
        "                shape_data = shape(json.loads(poly_file.read())['geometry'])\n",
        "                data = json.loads(f.read())\n",
        "                _data = list(data['features'])\n",
        "                for feature in tqdm(data['features']):\n",
        "                    try:\n",
        "                        if not shape_data.contains(Point(feature['geometry']['coordinates'])):\n",
        "                            _data.remove(feature)\n",
        "                    except Exception as e:\n",
        "                        _data.remove(feature)\n",
        "                with open(f'data/fixed/{region_name}.geojson', 'w+') as dump_data:\n",
        "                    data['features'] = _data\n",
        "                    data_to_dump = json.dumps(data, ensure_aexitscii=False).encode('utf8')\n",
        "                    dump_data.write(data_to_dump.decode())\n",
        "            geojson_objects.append(geojson.FeatureCollection(data['features']))\n"
      ]
    },
    {
      "cell_type": "code",
      "execution_count": 112,
      "metadata": {},
      "outputs": [
        {
          "data": {
            "text/html": [
              "<pre style=\"white-space:pre;overflow-x:auto;line-height:normal;font-family:Menlo,'DejaVu Sans Mono',consolas,'Courier New',monospace\"><span style=\"font-weight: bold\">{</span>\n",
              "    <span style=\"color: #008000; text-decoration-color: #008000\">'type'</span>: <span style=\"color: #008000; text-decoration-color: #008000\">'Feature'</span>,\n",
              "    <span style=\"color: #008000; text-decoration-color: #008000\">'geometry'</span>: <span style=\"font-weight: bold\">{</span><span style=\"color: #008000; text-decoration-color: #008000\">'type'</span>: <span style=\"color: #008000; text-decoration-color: #008000\">'Point'</span>, <span style=\"color: #008000; text-decoration-color: #008000\">'coordinates'</span>: <span style=\"font-weight: bold\">[</span><span style=\"color: #008080; text-decoration-color: #008080; font-weight: bold\">39.6889</span>, <span style=\"color: #008080; text-decoration-color: #008080; font-weight: bold\">47.2081</span><span style=\"font-weight: bold\">]}</span>,\n",
              "    <span style=\"color: #008000; text-decoration-color: #008000\">'properties'</span>: <span style=\"font-weight: bold\">{</span>\n",
              "        <span style=\"color: #008000; text-decoration-color: #008000\">'id'</span>: <span style=\"color: #008080; text-decoration-color: #008080; font-weight: bold\">2433824</span>,\n",
              "        <span style=\"color: #008000; text-decoration-color: #008000\">'tags'</span>: <span style=\"font-weight: bold\">[</span><span style=\"color: #008000; text-decoration-color: #008000\">'Дорожно-транспортные происшествия'</span><span style=\"font-weight: bold\">]</span>,\n",
              "        <span style=\"color: #008000; text-decoration-color: #008000\">'light'</span>: <span style=\"color: #008000; text-decoration-color: #008000\">'Светлое время суток'</span>,\n",
              "        <span style=\"color: #008000; text-decoration-color: #008000\">'point'</span>: <span style=\"font-weight: bold\">{</span><span style=\"color: #008000; text-decoration-color: #008000\">'lat'</span>: <span style=\"color: #008080; text-decoration-color: #008080; font-weight: bold\">47.2081</span>, <span style=\"color: #008000; text-decoration-color: #008000\">'long'</span>: <span style=\"color: #008080; text-decoration-color: #008080; font-weight: bold\">39.6889</span><span style=\"font-weight: bold\">}</span>,\n",
              "        <span style=\"color: #008000; text-decoration-color: #008000\">'nearby'</span>: <span style=\"font-weight: bold\">[</span><span style=\"color: #008000; text-decoration-color: #008000\">'Многоквартирные жилые дома'</span>, <span style=\"color: #008000; text-decoration-color: #008000\">'Административные здания'</span><span style=\"font-weight: bold\">]</span>,\n",
              "        <span style=\"color: #008000; text-decoration-color: #008000\">'region'</span>: <span style=\"color: #008000; text-decoration-color: #008000\">'Ростов-на-Дону'</span>,\n",
              "        <span style=\"color: #008000; text-decoration-color: #008000\">'scheme'</span>: <span style=\"color: #008000; text-decoration-color: #008000\">'220'</span>,\n",
              "        <span style=\"color: #008000; text-decoration-color: #008000\">'address'</span>: <span style=\"color: #008000; text-decoration-color: #008000\">'г Ростов-на-Дону, ул Портовая, 76'</span>,\n",
              "        <span style=\"color: #008000; text-decoration-color: #008000\">'weather'</span>: <span style=\"font-weight: bold\">[</span><span style=\"color: #008000; text-decoration-color: #008000\">'Дождь'</span><span style=\"font-weight: bold\">]</span>,\n",
              "        <span style=\"color: #008000; text-decoration-color: #008000\">'category'</span>: <span style=\"color: #008000; text-decoration-color: #008000\">'Столкновение'</span>,\n",
              "        <span style=\"color: #008000; text-decoration-color: #008000\">'datetime'</span>: <span style=\"color: #008000; text-decoration-color: #008000\">'2019-05-25 15:20:00'</span>,\n",
              "        <span style=\"color: #008000; text-decoration-color: #008000\">'severity'</span>: <span style=\"color: #008000; text-decoration-color: #008000\">'Легкий'</span>,\n",
              "        <span style=\"color: #008000; text-decoration-color: #008000\">'vehicles'</span>: <span style=\"font-weight: bold\">[</span>\n",
              "            <span style=\"font-weight: bold\">{</span>\n",
              "                <span style=\"color: #008000; text-decoration-color: #008000\">'year'</span>: <span style=\"color: #008080; text-decoration-color: #008080; font-weight: bold\">2012</span>,\n",
              "                <span style=\"color: #008000; text-decoration-color: #008000\">'brand'</span>: <span style=\"color: #008000; text-decoration-color: #008000\">'DAEWOO'</span>,\n",
              "                <span style=\"color: #008000; text-decoration-color: #008000\">'color'</span>: <span style=\"color: #008000; text-decoration-color: #008000\">'Белый'</span>,\n",
              "                <span style=\"color: #008000; text-decoration-color: #008000\">'model'</span>: <span style=\"color: #008000; text-decoration-color: #008000\">'Nexia'</span>,\n",
              "                <span style=\"color: #008000; text-decoration-color: #008000\">'category'</span>: <span style=\"color: #008000; text-decoration-color: #008000\">'В-класс (малый) до 3,9 м'</span>,\n",
              "                <span style=\"color: #008000; text-decoration-color: #008000\">'participants'</span>: <span style=\"font-weight: bold\">[</span>\n",
              "                    <span style=\"font-weight: bold\">{</span>\n",
              "                        <span style=\"color: #008000; text-decoration-color: #008000\">'role'</span>: <span style=\"color: #008000; text-decoration-color: #008000\">'Водитель'</span>,\n",
              "                        <span style=\"color: #008000; text-decoration-color: #008000\">'gender'</span>: <span style=\"color: #008000; text-decoration-color: #008000\">'Мужской'</span>,\n",
              "                        <span style=\"color: #008000; text-decoration-color: #008000\">'violations'</span>: <span style=\"font-weight: bold\">[</span><span style=\"color: #008000; text-decoration-color: #008000\">'Несоответствие скорости конкретным условиям движения'</span><span style=\"font-weight: bold\">]</span>,\n",
              "                        <span style=\"color: #008000; text-decoration-color: #008000\">'health_status'</span>: <span style=\"color: #008000; text-decoration-color: #008000\">'Не пострадал'</span>,\n",
              "                        <span style=\"color: #008000; text-decoration-color: #008000\">'years_of_driving_experience'</span>: <span style=\"color: #008080; text-decoration-color: #008080; font-weight: bold\">4</span>\n",
              "                    <span style=\"font-weight: bold\">}</span>\n",
              "                <span style=\"font-weight: bold\">]</span>\n",
              "            <span style=\"font-weight: bold\">}</span>,\n",
              "            <span style=\"font-weight: bold\">{</span>\n",
              "                <span style=\"color: #008000; text-decoration-color: #008000\">'year'</span>: <span style=\"color: #008080; text-decoration-color: #008080; font-weight: bold\">2008</span>,\n",
              "                <span style=\"color: #008000; text-decoration-color: #008000\">'brand'</span>: <span style=\"color: #008000; text-decoration-color: #008000\">'HYUNDAI'</span>,\n",
              "                <span style=\"color: #008000; text-decoration-color: #008000\">'color'</span>: <span style=\"color: #008000; text-decoration-color: #008000\">'Серый'</span>,\n",
              "                <span style=\"color: #008000; text-decoration-color: #008000\">'model'</span>: <span style=\"color: #008000; text-decoration-color: #008000\">'Accent'</span>,\n",
              "                <span style=\"color: #008000; text-decoration-color: #008000\">'category'</span>: <span style=\"color: #008000; text-decoration-color: #008000\">'В-класс (малый) до 3,9 м'</span>,\n",
              "                <span style=\"color: #008000; text-decoration-color: #008000\">'participants'</span>: <span style=\"font-weight: bold\">[</span>\n",
              "                    <span style=\"font-weight: bold\">{</span>\n",
              "                        <span style=\"color: #008000; text-decoration-color: #008000\">'role'</span>: <span style=\"color: #008000; text-decoration-color: #008000\">'Водитель'</span>,\n",
              "                        <span style=\"color: #008000; text-decoration-color: #008000\">'gender'</span>: <span style=\"color: #008000; text-decoration-color: #008000\">'Мужской'</span>,\n",
              "                        <span style=\"color: #008000; text-decoration-color: #008000\">'violations'</span>: <span style=\"font-weight: bold\">[</span><span style=\"color: #008000; text-decoration-color: #008000\">'Несоблюдение требований ОСАГО'</span><span style=\"font-weight: bold\">]</span>,\n",
              "                        <span style=\"color: #008000; text-decoration-color: #008000\">'health_status'</span>: <span style=\"color: #008000; text-decoration-color: #008000\">'Не пострадал'</span>,\n",
              "                        <span style=\"color: #008000; text-decoration-color: #008000\">'years_of_driving_experience'</span>: <span style=\"color: #008080; text-decoration-color: #008080; font-weight: bold\">25</span>\n",
              "                    <span style=\"font-weight: bold\">}</span>,\n",
              "                    <span style=\"font-weight: bold\">{</span>\n",
              "                        <span style=\"color: #008000; text-decoration-color: #008000\">'role'</span>: <span style=\"color: #008000; text-decoration-color: #008000\">'Пассажир'</span>,\n",
              "                        <span style=\"color: #008000; text-decoration-color: #008000\">'gender'</span>: <span style=\"color: #008000; text-decoration-color: #008000\">'Женский'</span>,\n",
              "                        <span style=\"color: #008000; text-decoration-color: #008000\">'violations'</span>: <span style=\"font-weight: bold\">[]</span>,\n",
              "                        <span style=\"color: #008000; text-decoration-color: #008000\">'health_status'</span>: <span style=\"color: #008000; text-decoration-color: #008000\">'Раненый, находящийся (находившийся)  на амбулаторном лечении, либо </span>\n",
              "<span style=\"color: #008000; text-decoration-color: #008000\">которому по характеру полученных травм обозначена необходимость амбулаторного лечения (вне зависимости от его </span>\n",
              "<span style=\"color: #008000; text-decoration-color: #008000\">фактического прохождения)'</span>,\n",
              "                        <span style=\"color: #008000; text-decoration-color: #008000\">'years_of_driving_experience'</span>: <span style=\"color: #800080; text-decoration-color: #800080; font-style: italic\">None</span>\n",
              "                    <span style=\"font-weight: bold\">}</span>,\n",
              "                    <span style=\"font-weight: bold\">{</span>\n",
              "                        <span style=\"color: #008000; text-decoration-color: #008000\">'role'</span>: <span style=\"color: #008000; text-decoration-color: #008000\">'Пассажир'</span>,\n",
              "                        <span style=\"color: #008000; text-decoration-color: #008000\">'gender'</span>: <span style=\"color: #008000; text-decoration-color: #008000\">'Мужской'</span>,\n",
              "                        <span style=\"color: #008000; text-decoration-color: #008000\">'violations'</span>: <span style=\"font-weight: bold\">[]</span>,\n",
              "                        <span style=\"color: #008000; text-decoration-color: #008000\">'health_status'</span>: <span style=\"color: #008000; text-decoration-color: #008000\">'Раненый, находящийся (находившийся)  на амбулаторном лечении, либо </span>\n",
              "<span style=\"color: #008000; text-decoration-color: #008000\">которому по характеру полученных травм обозначена необходимость амбулаторного лечения (вне зависимости от его </span>\n",
              "<span style=\"color: #008000; text-decoration-color: #008000\">фактического прохождения)'</span>,\n",
              "                        <span style=\"color: #008000; text-decoration-color: #008000\">'years_of_driving_experience'</span>: <span style=\"color: #800080; text-decoration-color: #800080; font-style: italic\">None</span>\n",
              "                    <span style=\"font-weight: bold\">}</span>\n",
              "                <span style=\"font-weight: bold\">]</span>\n",
              "            <span style=\"font-weight: bold\">}</span>\n",
              "        <span style=\"font-weight: bold\">]</span>,\n",
              "        <span style=\"color: #008000; text-decoration-color: #008000\">'dead_count'</span>: <span style=\"color: #008080; text-decoration-color: #008080; font-weight: bold\">0</span>,\n",
              "        <span style=\"color: #008000; text-decoration-color: #008000\">'participants'</span>: <span style=\"font-weight: bold\">[]</span>,\n",
              "        <span style=\"color: #008000; text-decoration-color: #008000\">'injured_count'</span>: <span style=\"color: #008080; text-decoration-color: #008080; font-weight: bold\">2</span>,\n",
              "        <span style=\"color: #008000; text-decoration-color: #008000\">'parent_region'</span>: <span style=\"color: #008000; text-decoration-color: #008000\">'Ростовская область'</span>,\n",
              "        <span style=\"color: #008000; text-decoration-color: #008000\">'road_conditions'</span>: <span style=\"font-weight: bold\">[</span><span style=\"color: #008000; text-decoration-color: #008000\">'Мокрое'</span><span style=\"font-weight: bold\">]</span>,\n",
              "        <span style=\"color: #008000; text-decoration-color: #008000\">'participants_count'</span>: <span style=\"color: #008080; text-decoration-color: #008080; font-weight: bold\">4</span>,\n",
              "        <span style=\"color: #008000; text-decoration-color: #008000\">'participant_categories'</span>: <span style=\"font-weight: bold\">[</span><span style=\"color: #008000; text-decoration-color: #008000\">'Все участники'</span><span style=\"font-weight: bold\">]</span>\n",
              "    <span style=\"font-weight: bold\">}</span>\n",
              "<span style=\"font-weight: bold\">}</span>\n",
              "</pre>\n"
            ],
            "text/plain": [
              "\u001b[1m{\u001b[0m\n",
              "    \u001b[32m'type'\u001b[0m: \u001b[32m'Feature'\u001b[0m,\n",
              "    \u001b[32m'geometry'\u001b[0m: \u001b[1m{\u001b[0m\u001b[32m'type'\u001b[0m: \u001b[32m'Point'\u001b[0m, \u001b[32m'coordinates'\u001b[0m: \u001b[1m[\u001b[0m\u001b[1;36m39.6889\u001b[0m, \u001b[1;36m47.2081\u001b[0m\u001b[1m]\u001b[0m\u001b[1m}\u001b[0m,\n",
              "    \u001b[32m'properties'\u001b[0m: \u001b[1m{\u001b[0m\n",
              "        \u001b[32m'id'\u001b[0m: \u001b[1;36m2433824\u001b[0m,\n",
              "        \u001b[32m'tags'\u001b[0m: \u001b[1m[\u001b[0m\u001b[32m'Дорожно-транспортные происшествия'\u001b[0m\u001b[1m]\u001b[0m,\n",
              "        \u001b[32m'light'\u001b[0m: \u001b[32m'Светлое время суток'\u001b[0m,\n",
              "        \u001b[32m'point'\u001b[0m: \u001b[1m{\u001b[0m\u001b[32m'lat'\u001b[0m: \u001b[1;36m47.2081\u001b[0m, \u001b[32m'long'\u001b[0m: \u001b[1;36m39.6889\u001b[0m\u001b[1m}\u001b[0m,\n",
              "        \u001b[32m'nearby'\u001b[0m: \u001b[1m[\u001b[0m\u001b[32m'Многоквартирные жилые дома'\u001b[0m, \u001b[32m'Административные здания'\u001b[0m\u001b[1m]\u001b[0m,\n",
              "        \u001b[32m'region'\u001b[0m: \u001b[32m'Ростов-на-Дону'\u001b[0m,\n",
              "        \u001b[32m'scheme'\u001b[0m: \u001b[32m'220'\u001b[0m,\n",
              "        \u001b[32m'address'\u001b[0m: \u001b[32m'г Ростов-на-Дону, ул Портовая, 76'\u001b[0m,\n",
              "        \u001b[32m'weather'\u001b[0m: \u001b[1m[\u001b[0m\u001b[32m'Дождь'\u001b[0m\u001b[1m]\u001b[0m,\n",
              "        \u001b[32m'category'\u001b[0m: \u001b[32m'Столкновение'\u001b[0m,\n",
              "        \u001b[32m'datetime'\u001b[0m: \u001b[32m'2019-05-25 15:20:00'\u001b[0m,\n",
              "        \u001b[32m'severity'\u001b[0m: \u001b[32m'Легкий'\u001b[0m,\n",
              "        \u001b[32m'vehicles'\u001b[0m: \u001b[1m[\u001b[0m\n",
              "            \u001b[1m{\u001b[0m\n",
              "                \u001b[32m'year'\u001b[0m: \u001b[1;36m2012\u001b[0m,\n",
              "                \u001b[32m'brand'\u001b[0m: \u001b[32m'DAEWOO'\u001b[0m,\n",
              "                \u001b[32m'color'\u001b[0m: \u001b[32m'Белый'\u001b[0m,\n",
              "                \u001b[32m'model'\u001b[0m: \u001b[32m'Nexia'\u001b[0m,\n",
              "                \u001b[32m'category'\u001b[0m: \u001b[32m'В-класс \u001b[0m\u001b[32m(\u001b[0m\u001b[32mмалый\u001b[0m\u001b[32m)\u001b[0m\u001b[32m до 3,9 м'\u001b[0m,\n",
              "                \u001b[32m'participants'\u001b[0m: \u001b[1m[\u001b[0m\n",
              "                    \u001b[1m{\u001b[0m\n",
              "                        \u001b[32m'role'\u001b[0m: \u001b[32m'Водитель'\u001b[0m,\n",
              "                        \u001b[32m'gender'\u001b[0m: \u001b[32m'Мужской'\u001b[0m,\n",
              "                        \u001b[32m'violations'\u001b[0m: \u001b[1m[\u001b[0m\u001b[32m'Несоответствие скорости конкретным условиям движения'\u001b[0m\u001b[1m]\u001b[0m,\n",
              "                        \u001b[32m'health_status'\u001b[0m: \u001b[32m'Не пострадал'\u001b[0m,\n",
              "                        \u001b[32m'years_of_driving_experience'\u001b[0m: \u001b[1;36m4\u001b[0m\n",
              "                    \u001b[1m}\u001b[0m\n",
              "                \u001b[1m]\u001b[0m\n",
              "            \u001b[1m}\u001b[0m,\n",
              "            \u001b[1m{\u001b[0m\n",
              "                \u001b[32m'year'\u001b[0m: \u001b[1;36m2008\u001b[0m,\n",
              "                \u001b[32m'brand'\u001b[0m: \u001b[32m'HYUNDAI'\u001b[0m,\n",
              "                \u001b[32m'color'\u001b[0m: \u001b[32m'Серый'\u001b[0m,\n",
              "                \u001b[32m'model'\u001b[0m: \u001b[32m'Accent'\u001b[0m,\n",
              "                \u001b[32m'category'\u001b[0m: \u001b[32m'В-класс \u001b[0m\u001b[32m(\u001b[0m\u001b[32mмалый\u001b[0m\u001b[32m)\u001b[0m\u001b[32m до 3,9 м'\u001b[0m,\n",
              "                \u001b[32m'participants'\u001b[0m: \u001b[1m[\u001b[0m\n",
              "                    \u001b[1m{\u001b[0m\n",
              "                        \u001b[32m'role'\u001b[0m: \u001b[32m'Водитель'\u001b[0m,\n",
              "                        \u001b[32m'gender'\u001b[0m: \u001b[32m'Мужской'\u001b[0m,\n",
              "                        \u001b[32m'violations'\u001b[0m: \u001b[1m[\u001b[0m\u001b[32m'Несоблюдение требований ОСАГО'\u001b[0m\u001b[1m]\u001b[0m,\n",
              "                        \u001b[32m'health_status'\u001b[0m: \u001b[32m'Не пострадал'\u001b[0m,\n",
              "                        \u001b[32m'years_of_driving_experience'\u001b[0m: \u001b[1;36m25\u001b[0m\n",
              "                    \u001b[1m}\u001b[0m,\n",
              "                    \u001b[1m{\u001b[0m\n",
              "                        \u001b[32m'role'\u001b[0m: \u001b[32m'Пассажир'\u001b[0m,\n",
              "                        \u001b[32m'gender'\u001b[0m: \u001b[32m'Женский'\u001b[0m,\n",
              "                        \u001b[32m'violations'\u001b[0m: \u001b[1m[\u001b[0m\u001b[1m]\u001b[0m,\n",
              "                        \u001b[32m'health_status'\u001b[0m: \u001b[32m'Раненый, находящийся \u001b[0m\u001b[32m(\u001b[0m\u001b[32mнаходившийся\u001b[0m\u001b[32m)\u001b[0m\u001b[32m  на амбулаторном лечении, либо \u001b[0m\n",
              "\u001b[32mкоторому по характеру полученных травм обозначена необходимость амбулаторного лечения \u001b[0m\u001b[32m(\u001b[0m\u001b[32mвне зависимости от его \u001b[0m\n",
              "\u001b[32mфактического прохождения\u001b[0m\u001b[32m)\u001b[0m\u001b[32m'\u001b[0m,\n",
              "                        \u001b[32m'years_of_driving_experience'\u001b[0m: \u001b[3;35mNone\u001b[0m\n",
              "                    \u001b[1m}\u001b[0m,\n",
              "                    \u001b[1m{\u001b[0m\n",
              "                        \u001b[32m'role'\u001b[0m: \u001b[32m'Пассажир'\u001b[0m,\n",
              "                        \u001b[32m'gender'\u001b[0m: \u001b[32m'Мужской'\u001b[0m,\n",
              "                        \u001b[32m'violations'\u001b[0m: \u001b[1m[\u001b[0m\u001b[1m]\u001b[0m,\n",
              "                        \u001b[32m'health_status'\u001b[0m: \u001b[32m'Раненый, находящийся \u001b[0m\u001b[32m(\u001b[0m\u001b[32mнаходившийся\u001b[0m\u001b[32m)\u001b[0m\u001b[32m  на амбулаторном лечении, либо \u001b[0m\n",
              "\u001b[32mкоторому по характеру полученных травм обозначена необходимость амбулаторного лечения \u001b[0m\u001b[32m(\u001b[0m\u001b[32mвне зависимости от его \u001b[0m\n",
              "\u001b[32mфактического прохождения\u001b[0m\u001b[32m)\u001b[0m\u001b[32m'\u001b[0m,\n",
              "                        \u001b[32m'years_of_driving_experience'\u001b[0m: \u001b[3;35mNone\u001b[0m\n",
              "                    \u001b[1m}\u001b[0m\n",
              "                \u001b[1m]\u001b[0m\n",
              "            \u001b[1m}\u001b[0m\n",
              "        \u001b[1m]\u001b[0m,\n",
              "        \u001b[32m'dead_count'\u001b[0m: \u001b[1;36m0\u001b[0m,\n",
              "        \u001b[32m'participants'\u001b[0m: \u001b[1m[\u001b[0m\u001b[1m]\u001b[0m,\n",
              "        \u001b[32m'injured_count'\u001b[0m: \u001b[1;36m2\u001b[0m,\n",
              "        \u001b[32m'parent_region'\u001b[0m: \u001b[32m'Ростовская область'\u001b[0m,\n",
              "        \u001b[32m'road_conditions'\u001b[0m: \u001b[1m[\u001b[0m\u001b[32m'Мокрое'\u001b[0m\u001b[1m]\u001b[0m,\n",
              "        \u001b[32m'participants_count'\u001b[0m: \u001b[1;36m4\u001b[0m,\n",
              "        \u001b[32m'participant_categories'\u001b[0m: \u001b[1m[\u001b[0m\u001b[32m'Все участники'\u001b[0m\u001b[1m]\u001b[0m\n",
              "    \u001b[1m}\u001b[0m\n",
              "\u001b[1m}\u001b[0m\n"
            ]
          },
          "metadata": {},
          "output_type": "display_data"
        },
        {
          "data": {
            "text/html": [
              "<pre style=\"white-space:pre;overflow-x:auto;line-height:normal;font-family:Menlo,'DejaVu Sans Mono',consolas,'Courier New',monospace\"><span style=\"font-weight: bold\">{</span>\n",
              "    <span style=\"color: #008000; text-decoration-color: #008000\">'type'</span>: <span style=\"color: #008000; text-decoration-color: #008000\">'Feature'</span>,\n",
              "    <span style=\"color: #008000; text-decoration-color: #008000\">'geometry'</span>: <span style=\"font-weight: bold\">{</span><span style=\"color: #008000; text-decoration-color: #008000\">'type'</span>: <span style=\"color: #008000; text-decoration-color: #008000\">'Point'</span>, <span style=\"color: #008000; text-decoration-color: #008000\">'coordinates'</span>: <span style=\"font-weight: bold\">[</span><span style=\"color: #008080; text-decoration-color: #008080; font-weight: bold\">39.7442</span>, <span style=\"color: #008080; text-decoration-color: #008080; font-weight: bold\">47.2867</span><span style=\"font-weight: bold\">]}</span>,\n",
              "    <span style=\"color: #008000; text-decoration-color: #008000\">'properties'</span>: <span style=\"font-weight: bold\">{</span>\n",
              "        <span style=\"color: #008000; text-decoration-color: #008000\">'id'</span>: <span style=\"color: #008080; text-decoration-color: #008080; font-weight: bold\">2442272</span>,\n",
              "        <span style=\"color: #008000; text-decoration-color: #008000\">'tags'</span>: <span style=\"font-weight: bold\">[</span><span style=\"color: #008000; text-decoration-color: #008000\">'Дорожно-транспортные происшествия'</span><span style=\"font-weight: bold\">]</span>,\n",
              "        <span style=\"color: #008000; text-decoration-color: #008000\">'light'</span>: <span style=\"color: #008000; text-decoration-color: #008000\">'В темное время суток, освещение включено'</span>,\n",
              "        <span style=\"color: #008000; text-decoration-color: #008000\">'point'</span>: <span style=\"font-weight: bold\">{</span><span style=\"color: #008000; text-decoration-color: #008000\">'lat'</span>: <span style=\"color: #008080; text-decoration-color: #008080; font-weight: bold\">47.2867</span>, <span style=\"color: #008000; text-decoration-color: #008000\">'long'</span>: <span style=\"color: #008080; text-decoration-color: #008080; font-weight: bold\">39.7442</span><span style=\"font-weight: bold\">}</span>,\n",
              "        <span style=\"color: #008000; text-decoration-color: #008000\">'nearby'</span>: <span style=\"font-weight: bold\">[</span><span style=\"color: #008000; text-decoration-color: #008000\">'Многоквартирные жилые дома'</span><span style=\"font-weight: bold\">]</span>,\n",
              "        <span style=\"color: #008000; text-decoration-color: #008000\">'region'</span>: <span style=\"color: #008000; text-decoration-color: #008000\">'Ростов-на-Дону'</span>,\n",
              "        <span style=\"color: #008000; text-decoration-color: #008000\">'scheme'</span>: <span style=\"color: #008000; text-decoration-color: #008000\">'910'</span>,\n",
              "        <span style=\"color: #008000; text-decoration-color: #008000\">'address'</span>: <span style=\"color: #008000; text-decoration-color: #008000\">'г Ростов-на-Дону, ул Штахановского, 12'</span>,\n",
              "        <span style=\"color: #008000; text-decoration-color: #008000\">'weather'</span>: <span style=\"font-weight: bold\">[</span><span style=\"color: #008000; text-decoration-color: #008000\">'Пасмурно'</span><span style=\"font-weight: bold\">]</span>,\n",
              "        <span style=\"color: #008000; text-decoration-color: #008000\">'category'</span>: <span style=\"color: #008000; text-decoration-color: #008000\">'Наезд на стоящее ТС'</span>,\n",
              "        <span style=\"color: #008000; text-decoration-color: #008000\">'datetime'</span>: <span style=\"color: #008000; text-decoration-color: #008000\">'2018-05-25 20:35:00'</span>,\n",
              "        <span style=\"color: #008000; text-decoration-color: #008000\">'severity'</span>: <span style=\"color: #008000; text-decoration-color: #008000\">'Легкий'</span>,\n",
              "        <span style=\"color: #008000; text-decoration-color: #008000\">'vehicles'</span>: <span style=\"font-weight: bold\">[</span>\n",
              "            <span style=\"font-weight: bold\">{</span>\n",
              "                <span style=\"color: #008000; text-decoration-color: #008000\">'year'</span>: <span style=\"color: #008080; text-decoration-color: #008080; font-weight: bold\">1982</span>,\n",
              "                <span style=\"color: #008000; text-decoration-color: #008000\">'brand'</span>: <span style=\"color: #008000; text-decoration-color: #008000\">'VOLVO'</span>,\n",
              "                <span style=\"color: #008000; text-decoration-color: #008000\">'color'</span>: <span style=\"color: #008000; text-decoration-color: #008000\">'Белый'</span>,\n",
              "                <span style=\"color: #008000; text-decoration-color: #008000\">'model'</span>: <span style=\"color: #008000; text-decoration-color: #008000\">'Прочие модели Volvo'</span>,\n",
              "                <span style=\"color: #008000; text-decoration-color: #008000\">'category'</span>: <span style=\"color: #008000; text-decoration-color: #008000\">'Прочие одноярусные'</span>,\n",
              "                <span style=\"color: #008000; text-decoration-color: #008000\">'participants'</span>: <span style=\"font-weight: bold\">[</span>\n",
              "                    <span style=\"font-weight: bold\">{</span>\n",
              "                        <span style=\"color: #008000; text-decoration-color: #008000\">'role'</span>: <span style=\"color: #008000; text-decoration-color: #008000\">'Водитель'</span>,\n",
              "                        <span style=\"color: #008000; text-decoration-color: #008000\">'gender'</span>: <span style=\"color: #008000; text-decoration-color: #008000\">'Мужской'</span>,\n",
              "                        <span style=\"color: #008000; text-decoration-color: #008000\">'violations'</span>: <span style=\"font-weight: bold\">[]</span>,\n",
              "                        <span style=\"color: #008000; text-decoration-color: #008000\">'health_status'</span>: <span style=\"color: #008000; text-decoration-color: #008000\">'Не пострадал'</span>,\n",
              "                        <span style=\"color: #008000; text-decoration-color: #008000\">'years_of_driving_experience'</span>: <span style=\"color: #008080; text-decoration-color: #008080; font-weight: bold\">16</span>\n",
              "                    <span style=\"font-weight: bold\">}</span>\n",
              "                <span style=\"font-weight: bold\">]</span>\n",
              "            <span style=\"font-weight: bold\">}</span>,\n",
              "            <span style=\"font-weight: bold\">{</span>\n",
              "                <span style=\"color: #008000; text-decoration-color: #008000\">'year'</span>: <span style=\"color: #008080; text-decoration-color: #008080; font-weight: bold\">2005</span>,\n",
              "                <span style=\"color: #008000; text-decoration-color: #008000\">'brand'</span>: <span style=\"color: #008000; text-decoration-color: #008000\">'Прочие марки мотоциклов'</span>,\n",
              "                <span style=\"color: #008000; text-decoration-color: #008000\">'color'</span>: <span style=\"color: #008000; text-decoration-color: #008000\">'Белый'</span>,\n",
              "                <span style=\"color: #008000; text-decoration-color: #008000\">'model'</span>: <span style=\"color: #008000; text-decoration-color: #008000\">'Прочие марки мотоциклов'</span>,\n",
              "                <span style=\"color: #008000; text-decoration-color: #008000\">'category'</span>: <span style=\"color: #008000; text-decoration-color: #008000\">'Мопеды с двигателем внутреннего сгорания менее 50 см. куб.'</span>,\n",
              "                <span style=\"color: #008000; text-decoration-color: #008000\">'participants'</span>: <span style=\"font-weight: bold\">[</span>\n",
              "                    <span style=\"font-weight: bold\">{</span>\n",
              "                        <span style=\"color: #008000; text-decoration-color: #008000\">'role'</span>: <span style=\"color: #008000; text-decoration-color: #008000\">'Водитель'</span>,\n",
              "                        <span style=\"color: #008000; text-decoration-color: #008000\">'gender'</span>: <span style=\"color: #008000; text-decoration-color: #008000\">'Мужской'</span>,\n",
              "                        <span style=\"color: #008000; text-decoration-color: #008000\">'violations'</span>: <span style=\"font-weight: bold\">[</span><span style=\"color: #008000; text-decoration-color: #008000\">'Неправильный выбор дистанции'</span><span style=\"font-weight: bold\">]</span>,\n",
              "                        <span style=\"color: #008000; text-decoration-color: #008000\">'health_status'</span>: <span style=\"color: #008000; text-decoration-color: #008000\">'Раненый, находящийся (находившийся)  на амбулаторном лечении, либо </span>\n",
              "<span style=\"color: #008000; text-decoration-color: #008000\">которому по характеру полученных травм обозначена необходимость амбулаторного лечения (вне зависимости от его </span>\n",
              "<span style=\"color: #008000; text-decoration-color: #008000\">фактического прохождения)'</span>,\n",
              "                        <span style=\"color: #008000; text-decoration-color: #008000\">'years_of_driving_experience'</span>: <span style=\"color: #008080; text-decoration-color: #008080; font-weight: bold\">6</span>\n",
              "                    <span style=\"font-weight: bold\">}</span>\n",
              "                <span style=\"font-weight: bold\">]</span>\n",
              "            <span style=\"font-weight: bold\">}</span>,\n",
              "            <span style=\"font-weight: bold\">{</span>\n",
              "                <span style=\"color: #008000; text-decoration-color: #008000\">'year'</span>: <span style=\"color: #008080; text-decoration-color: #008080; font-weight: bold\">2017</span>,\n",
              "                <span style=\"color: #008000; text-decoration-color: #008000\">'brand'</span>: <span style=\"color: #008000; text-decoration-color: #008000\">'RENAULT'</span>,\n",
              "                <span style=\"color: #008000; text-decoration-color: #008000\">'color'</span>: <span style=\"color: #008000; text-decoration-color: #008000\">'Белый'</span>,\n",
              "                <span style=\"color: #008000; text-decoration-color: #008000\">'model'</span>: <span style=\"color: #008000; text-decoration-color: #008000\">'Logan'</span>,\n",
              "                <span style=\"color: #008000; text-decoration-color: #008000\">'category'</span>: <span style=\"color: #008000; text-decoration-color: #008000\">'В-класс (малый) до 3,9 м'</span>,\n",
              "                <span style=\"color: #008000; text-decoration-color: #008000\">'participants'</span>: <span style=\"font-weight: bold\">[</span>\n",
              "                    <span style=\"font-weight: bold\">{</span>\n",
              "                        <span style=\"color: #008000; text-decoration-color: #008000\">'role'</span>: <span style=\"color: #008000; text-decoration-color: #008000\">'Водитель'</span>,\n",
              "                        <span style=\"color: #008000; text-decoration-color: #008000\">'gender'</span>: <span style=\"color: #008000; text-decoration-color: #008000\">'Мужской'</span>,\n",
              "                        <span style=\"color: #008000; text-decoration-color: #008000\">'violations'</span>: <span style=\"font-weight: bold\">[]</span>,\n",
              "                        <span style=\"color: #008000; text-decoration-color: #008000\">'health_status'</span>: <span style=\"color: #008000; text-decoration-color: #008000\">'Не пострадал'</span>,\n",
              "                        <span style=\"color: #008000; text-decoration-color: #008000\">'years_of_driving_experience'</span>: <span style=\"color: #008080; text-decoration-color: #008080; font-weight: bold\">4</span>\n",
              "                    <span style=\"font-weight: bold\">}</span>\n",
              "                <span style=\"font-weight: bold\">]</span>\n",
              "            <span style=\"font-weight: bold\">}</span>\n",
              "        <span style=\"font-weight: bold\">]</span>,\n",
              "        <span style=\"color: #008000; text-decoration-color: #008000\">'dead_count'</span>: <span style=\"color: #008080; text-decoration-color: #008080; font-weight: bold\">0</span>,\n",
              "        <span style=\"color: #008000; text-decoration-color: #008000\">'participants'</span>: <span style=\"font-weight: bold\">[]</span>,\n",
              "        <span style=\"color: #008000; text-decoration-color: #008000\">'injured_count'</span>: <span style=\"color: #008080; text-decoration-color: #008080; font-weight: bold\">1</span>,\n",
              "        <span style=\"color: #008000; text-decoration-color: #008000\">'parent_region'</span>: <span style=\"color: #008000; text-decoration-color: #008000\">'Ростовская область'</span>,\n",
              "        <span style=\"color: #008000; text-decoration-color: #008000\">'road_conditions'</span>: <span style=\"font-weight: bold\">[</span>\n",
              "            <span style=\"color: #008000; text-decoration-color: #008000\">'Неисправное освещение'</span>,\n",
              "            <span style=\"color: #008000; text-decoration-color: #008000\">'Сухое'</span>,\n",
              "            <span style=\"color: #008000; text-decoration-color: #008000\">'Отсутствие, плохая различимость горизонтальной разметки проезжей части'</span>\n",
              "        <span style=\"font-weight: bold\">]</span>,\n",
              "        <span style=\"color: #008000; text-decoration-color: #008000\">'participants_count'</span>: <span style=\"color: #008080; text-decoration-color: #008080; font-weight: bold\">3</span>,\n",
              "        <span style=\"color: #008000; text-decoration-color: #008000\">'participant_categories'</span>: <span style=\"font-weight: bold\">[</span><span style=\"color: #008000; text-decoration-color: #008000\">'Мотоциклисты'</span>, <span style=\"color: #008000; text-decoration-color: #008000\">'Все участники'</span><span style=\"font-weight: bold\">]</span>\n",
              "    <span style=\"font-weight: bold\">}</span>\n",
              "<span style=\"font-weight: bold\">}</span>\n",
              "</pre>\n"
            ],
            "text/plain": [
              "\u001b[1m{\u001b[0m\n",
              "    \u001b[32m'type'\u001b[0m: \u001b[32m'Feature'\u001b[0m,\n",
              "    \u001b[32m'geometry'\u001b[0m: \u001b[1m{\u001b[0m\u001b[32m'type'\u001b[0m: \u001b[32m'Point'\u001b[0m, \u001b[32m'coordinates'\u001b[0m: \u001b[1m[\u001b[0m\u001b[1;36m39.7442\u001b[0m, \u001b[1;36m47.2867\u001b[0m\u001b[1m]\u001b[0m\u001b[1m}\u001b[0m,\n",
              "    \u001b[32m'properties'\u001b[0m: \u001b[1m{\u001b[0m\n",
              "        \u001b[32m'id'\u001b[0m: \u001b[1;36m2442272\u001b[0m,\n",
              "        \u001b[32m'tags'\u001b[0m: \u001b[1m[\u001b[0m\u001b[32m'Дорожно-транспортные происшествия'\u001b[0m\u001b[1m]\u001b[0m,\n",
              "        \u001b[32m'light'\u001b[0m: \u001b[32m'В темное время суток, освещение включено'\u001b[0m,\n",
              "        \u001b[32m'point'\u001b[0m: \u001b[1m{\u001b[0m\u001b[32m'lat'\u001b[0m: \u001b[1;36m47.2867\u001b[0m, \u001b[32m'long'\u001b[0m: \u001b[1;36m39.7442\u001b[0m\u001b[1m}\u001b[0m,\n",
              "        \u001b[32m'nearby'\u001b[0m: \u001b[1m[\u001b[0m\u001b[32m'Многоквартирные жилые дома'\u001b[0m\u001b[1m]\u001b[0m,\n",
              "        \u001b[32m'region'\u001b[0m: \u001b[32m'Ростов-на-Дону'\u001b[0m,\n",
              "        \u001b[32m'scheme'\u001b[0m: \u001b[32m'910'\u001b[0m,\n",
              "        \u001b[32m'address'\u001b[0m: \u001b[32m'г Ростов-на-Дону, ул Штахановского, 12'\u001b[0m,\n",
              "        \u001b[32m'weather'\u001b[0m: \u001b[1m[\u001b[0m\u001b[32m'Пасмурно'\u001b[0m\u001b[1m]\u001b[0m,\n",
              "        \u001b[32m'category'\u001b[0m: \u001b[32m'Наезд на стоящее ТС'\u001b[0m,\n",
              "        \u001b[32m'datetime'\u001b[0m: \u001b[32m'2018-05-25 20:35:00'\u001b[0m,\n",
              "        \u001b[32m'severity'\u001b[0m: \u001b[32m'Легкий'\u001b[0m,\n",
              "        \u001b[32m'vehicles'\u001b[0m: \u001b[1m[\u001b[0m\n",
              "            \u001b[1m{\u001b[0m\n",
              "                \u001b[32m'year'\u001b[0m: \u001b[1;36m1982\u001b[0m,\n",
              "                \u001b[32m'brand'\u001b[0m: \u001b[32m'VOLVO'\u001b[0m,\n",
              "                \u001b[32m'color'\u001b[0m: \u001b[32m'Белый'\u001b[0m,\n",
              "                \u001b[32m'model'\u001b[0m: \u001b[32m'Прочие модели Volvo'\u001b[0m,\n",
              "                \u001b[32m'category'\u001b[0m: \u001b[32m'Прочие одноярусные'\u001b[0m,\n",
              "                \u001b[32m'participants'\u001b[0m: \u001b[1m[\u001b[0m\n",
              "                    \u001b[1m{\u001b[0m\n",
              "                        \u001b[32m'role'\u001b[0m: \u001b[32m'Водитель'\u001b[0m,\n",
              "                        \u001b[32m'gender'\u001b[0m: \u001b[32m'Мужской'\u001b[0m,\n",
              "                        \u001b[32m'violations'\u001b[0m: \u001b[1m[\u001b[0m\u001b[1m]\u001b[0m,\n",
              "                        \u001b[32m'health_status'\u001b[0m: \u001b[32m'Не пострадал'\u001b[0m,\n",
              "                        \u001b[32m'years_of_driving_experience'\u001b[0m: \u001b[1;36m16\u001b[0m\n",
              "                    \u001b[1m}\u001b[0m\n",
              "                \u001b[1m]\u001b[0m\n",
              "            \u001b[1m}\u001b[0m,\n",
              "            \u001b[1m{\u001b[0m\n",
              "                \u001b[32m'year'\u001b[0m: \u001b[1;36m2005\u001b[0m,\n",
              "                \u001b[32m'brand'\u001b[0m: \u001b[32m'Прочие марки мотоциклов'\u001b[0m,\n",
              "                \u001b[32m'color'\u001b[0m: \u001b[32m'Белый'\u001b[0m,\n",
              "                \u001b[32m'model'\u001b[0m: \u001b[32m'Прочие марки мотоциклов'\u001b[0m,\n",
              "                \u001b[32m'category'\u001b[0m: \u001b[32m'Мопеды с двигателем внутреннего сгорания менее 50 см. куб.'\u001b[0m,\n",
              "                \u001b[32m'participants'\u001b[0m: \u001b[1m[\u001b[0m\n",
              "                    \u001b[1m{\u001b[0m\n",
              "                        \u001b[32m'role'\u001b[0m: \u001b[32m'Водитель'\u001b[0m,\n",
              "                        \u001b[32m'gender'\u001b[0m: \u001b[32m'Мужской'\u001b[0m,\n",
              "                        \u001b[32m'violations'\u001b[0m: \u001b[1m[\u001b[0m\u001b[32m'Неправильный выбор дистанции'\u001b[0m\u001b[1m]\u001b[0m,\n",
              "                        \u001b[32m'health_status'\u001b[0m: \u001b[32m'Раненый, находящийся \u001b[0m\u001b[32m(\u001b[0m\u001b[32mнаходившийся\u001b[0m\u001b[32m)\u001b[0m\u001b[32m  на амбулаторном лечении, либо \u001b[0m\n",
              "\u001b[32mкоторому по характеру полученных травм обозначена необходимость амбулаторного лечения \u001b[0m\u001b[32m(\u001b[0m\u001b[32mвне зависимости от его \u001b[0m\n",
              "\u001b[32mфактического прохождения\u001b[0m\u001b[32m)\u001b[0m\u001b[32m'\u001b[0m,\n",
              "                        \u001b[32m'years_of_driving_experience'\u001b[0m: \u001b[1;36m6\u001b[0m\n",
              "                    \u001b[1m}\u001b[0m\n",
              "                \u001b[1m]\u001b[0m\n",
              "            \u001b[1m}\u001b[0m,\n",
              "            \u001b[1m{\u001b[0m\n",
              "                \u001b[32m'year'\u001b[0m: \u001b[1;36m2017\u001b[0m,\n",
              "                \u001b[32m'brand'\u001b[0m: \u001b[32m'RENAULT'\u001b[0m,\n",
              "                \u001b[32m'color'\u001b[0m: \u001b[32m'Белый'\u001b[0m,\n",
              "                \u001b[32m'model'\u001b[0m: \u001b[32m'Logan'\u001b[0m,\n",
              "                \u001b[32m'category'\u001b[0m: \u001b[32m'В-класс \u001b[0m\u001b[32m(\u001b[0m\u001b[32mмалый\u001b[0m\u001b[32m)\u001b[0m\u001b[32m до 3,9 м'\u001b[0m,\n",
              "                \u001b[32m'participants'\u001b[0m: \u001b[1m[\u001b[0m\n",
              "                    \u001b[1m{\u001b[0m\n",
              "                        \u001b[32m'role'\u001b[0m: \u001b[32m'Водитель'\u001b[0m,\n",
              "                        \u001b[32m'gender'\u001b[0m: \u001b[32m'Мужской'\u001b[0m,\n",
              "                        \u001b[32m'violations'\u001b[0m: \u001b[1m[\u001b[0m\u001b[1m]\u001b[0m,\n",
              "                        \u001b[32m'health_status'\u001b[0m: \u001b[32m'Не пострадал'\u001b[0m,\n",
              "                        \u001b[32m'years_of_driving_experience'\u001b[0m: \u001b[1;36m4\u001b[0m\n",
              "                    \u001b[1m}\u001b[0m\n",
              "                \u001b[1m]\u001b[0m\n",
              "            \u001b[1m}\u001b[0m\n",
              "        \u001b[1m]\u001b[0m,\n",
              "        \u001b[32m'dead_count'\u001b[0m: \u001b[1;36m0\u001b[0m,\n",
              "        \u001b[32m'participants'\u001b[0m: \u001b[1m[\u001b[0m\u001b[1m]\u001b[0m,\n",
              "        \u001b[32m'injured_count'\u001b[0m: \u001b[1;36m1\u001b[0m,\n",
              "        \u001b[32m'parent_region'\u001b[0m: \u001b[32m'Ростовская область'\u001b[0m,\n",
              "        \u001b[32m'road_conditions'\u001b[0m: \u001b[1m[\u001b[0m\n",
              "            \u001b[32m'Неисправное освещение'\u001b[0m,\n",
              "            \u001b[32m'Сухое'\u001b[0m,\n",
              "            \u001b[32m'Отсутствие, плохая различимость горизонтальной разметки проезжей части'\u001b[0m\n",
              "        \u001b[1m]\u001b[0m,\n",
              "        \u001b[32m'participants_count'\u001b[0m: \u001b[1;36m3\u001b[0m,\n",
              "        \u001b[32m'participant_categories'\u001b[0m: \u001b[1m[\u001b[0m\u001b[32m'Мотоциклисты'\u001b[0m, \u001b[32m'Все участники'\u001b[0m\u001b[1m]\u001b[0m\n",
              "    \u001b[1m}\u001b[0m\n",
              "\u001b[1m}\u001b[0m\n"
            ]
          },
          "metadata": {},
          "output_type": "display_data"
        },
        {
          "data": {
            "text/html": [
              "<pre style=\"white-space:pre;overflow-x:auto;line-height:normal;font-family:Menlo,'DejaVu Sans Mono',consolas,'Courier New',monospace\"><span style=\"font-weight: bold\">{</span>\n",
              "    <span style=\"color: #008000; text-decoration-color: #008000\">'type'</span>: <span style=\"color: #008000; text-decoration-color: #008000\">'Feature'</span>,\n",
              "    <span style=\"color: #008000; text-decoration-color: #008000\">'geometry'</span>: <span style=\"font-weight: bold\">{</span><span style=\"color: #008000; text-decoration-color: #008000\">'type'</span>: <span style=\"color: #008000; text-decoration-color: #008000\">'Point'</span>, <span style=\"color: #008000; text-decoration-color: #008000\">'coordinates'</span>: <span style=\"font-weight: bold\">[</span><span style=\"color: #008080; text-decoration-color: #008080; font-weight: bold\">39.7442</span>, <span style=\"color: #008080; text-decoration-color: #008080; font-weight: bold\">47.2867</span><span style=\"font-weight: bold\">]}</span>,\n",
              "    <span style=\"color: #008000; text-decoration-color: #008000\">'properties'</span>: <span style=\"font-weight: bold\">{</span>\n",
              "        <span style=\"color: #008000; text-decoration-color: #008000\">'id'</span>: <span style=\"color: #008080; text-decoration-color: #008080; font-weight: bold\">2442272</span>,\n",
              "        <span style=\"color: #008000; text-decoration-color: #008000\">'tags'</span>: <span style=\"font-weight: bold\">[</span><span style=\"color: #008000; text-decoration-color: #008000\">'Дорожно-транспортные происшествия'</span><span style=\"font-weight: bold\">]</span>,\n",
              "        <span style=\"color: #008000; text-decoration-color: #008000\">'light'</span>: <span style=\"color: #008000; text-decoration-color: #008000\">'В темное время суток, освещение включено'</span>,\n",
              "        <span style=\"color: #008000; text-decoration-color: #008000\">'point'</span>: <span style=\"font-weight: bold\">{</span><span style=\"color: #008000; text-decoration-color: #008000\">'lat'</span>: <span style=\"color: #008080; text-decoration-color: #008080; font-weight: bold\">47.2867</span>, <span style=\"color: #008000; text-decoration-color: #008000\">'long'</span>: <span style=\"color: #008080; text-decoration-color: #008080; font-weight: bold\">39.7442</span><span style=\"font-weight: bold\">}</span>,\n",
              "        <span style=\"color: #008000; text-decoration-color: #008000\">'nearby'</span>: <span style=\"font-weight: bold\">[</span><span style=\"color: #008000; text-decoration-color: #008000\">'Многоквартирные жилые дома'</span><span style=\"font-weight: bold\">]</span>,\n",
              "        <span style=\"color: #008000; text-decoration-color: #008000\">'region'</span>: <span style=\"color: #008000; text-decoration-color: #008000\">'Ростов-на-Дону'</span>,\n",
              "        <span style=\"color: #008000; text-decoration-color: #008000\">'scheme'</span>: <span style=\"color: #008000; text-decoration-color: #008000\">'910'</span>,\n",
              "        <span style=\"color: #008000; text-decoration-color: #008000\">'address'</span>: <span style=\"color: #008000; text-decoration-color: #008000\">'г Ростов-на-Дону, ул Штахановского, 12'</span>,\n",
              "        <span style=\"color: #008000; text-decoration-color: #008000\">'weather'</span>: <span style=\"font-weight: bold\">[</span><span style=\"color: #008000; text-decoration-color: #008000\">'Пасмурно'</span><span style=\"font-weight: bold\">]</span>,\n",
              "        <span style=\"color: #008000; text-decoration-color: #008000\">'category'</span>: <span style=\"color: #008000; text-decoration-color: #008000\">'Наезд на стоящее ТС'</span>,\n",
              "        <span style=\"color: #008000; text-decoration-color: #008000\">'datetime'</span>: <span style=\"color: #008000; text-decoration-color: #008000\">'2018-05-25 20:35:00'</span>,\n",
              "        <span style=\"color: #008000; text-decoration-color: #008000\">'severity'</span>: <span style=\"color: #008000; text-decoration-color: #008000\">'Легкий'</span>,\n",
              "        <span style=\"color: #008000; text-decoration-color: #008000\">'vehicles'</span>: <span style=\"font-weight: bold\">[</span>\n",
              "            <span style=\"font-weight: bold\">{</span>\n",
              "                <span style=\"color: #008000; text-decoration-color: #008000\">'year'</span>: <span style=\"color: #008080; text-decoration-color: #008080; font-weight: bold\">1982</span>,\n",
              "                <span style=\"color: #008000; text-decoration-color: #008000\">'brand'</span>: <span style=\"color: #008000; text-decoration-color: #008000\">'VOLVO'</span>,\n",
              "                <span style=\"color: #008000; text-decoration-color: #008000\">'color'</span>: <span style=\"color: #008000; text-decoration-color: #008000\">'Белый'</span>,\n",
              "                <span style=\"color: #008000; text-decoration-color: #008000\">'model'</span>: <span style=\"color: #008000; text-decoration-color: #008000\">'Прочие модели Volvo'</span>,\n",
              "                <span style=\"color: #008000; text-decoration-color: #008000\">'category'</span>: <span style=\"color: #008000; text-decoration-color: #008000\">'Прочие одноярусные'</span>,\n",
              "                <span style=\"color: #008000; text-decoration-color: #008000\">'participants'</span>: <span style=\"font-weight: bold\">[</span>\n",
              "                    <span style=\"font-weight: bold\">{</span>\n",
              "                        <span style=\"color: #008000; text-decoration-color: #008000\">'role'</span>: <span style=\"color: #008000; text-decoration-color: #008000\">'Водитель'</span>,\n",
              "                        <span style=\"color: #008000; text-decoration-color: #008000\">'gender'</span>: <span style=\"color: #008000; text-decoration-color: #008000\">'Мужской'</span>,\n",
              "                        <span style=\"color: #008000; text-decoration-color: #008000\">'violations'</span>: <span style=\"font-weight: bold\">[]</span>,\n",
              "                        <span style=\"color: #008000; text-decoration-color: #008000\">'health_status'</span>: <span style=\"color: #008000; text-decoration-color: #008000\">'Не пострадал'</span>,\n",
              "                        <span style=\"color: #008000; text-decoration-color: #008000\">'years_of_driving_experience'</span>: <span style=\"color: #008080; text-decoration-color: #008080; font-weight: bold\">16</span>\n",
              "                    <span style=\"font-weight: bold\">}</span>\n",
              "                <span style=\"font-weight: bold\">]</span>\n",
              "            <span style=\"font-weight: bold\">}</span>,\n",
              "            <span style=\"font-weight: bold\">{</span>\n",
              "                <span style=\"color: #008000; text-decoration-color: #008000\">'year'</span>: <span style=\"color: #008080; text-decoration-color: #008080; font-weight: bold\">2005</span>,\n",
              "                <span style=\"color: #008000; text-decoration-color: #008000\">'brand'</span>: <span style=\"color: #008000; text-decoration-color: #008000\">'Прочие марки мотоциклов'</span>,\n",
              "                <span style=\"color: #008000; text-decoration-color: #008000\">'color'</span>: <span style=\"color: #008000; text-decoration-color: #008000\">'Белый'</span>,\n",
              "                <span style=\"color: #008000; text-decoration-color: #008000\">'model'</span>: <span style=\"color: #008000; text-decoration-color: #008000\">'Прочие марки мотоциклов'</span>,\n",
              "                <span style=\"color: #008000; text-decoration-color: #008000\">'category'</span>: <span style=\"color: #008000; text-decoration-color: #008000\">'Мопеды с двигателем внутреннего сгорания менее 50 см. куб.'</span>,\n",
              "                <span style=\"color: #008000; text-decoration-color: #008000\">'participants'</span>: <span style=\"font-weight: bold\">[</span>\n",
              "                    <span style=\"font-weight: bold\">{</span>\n",
              "                        <span style=\"color: #008000; text-decoration-color: #008000\">'role'</span>: <span style=\"color: #008000; text-decoration-color: #008000\">'Водитель'</span>,\n",
              "                        <span style=\"color: #008000; text-decoration-color: #008000\">'gender'</span>: <span style=\"color: #008000; text-decoration-color: #008000\">'Мужской'</span>,\n",
              "                        <span style=\"color: #008000; text-decoration-color: #008000\">'violations'</span>: <span style=\"font-weight: bold\">[</span><span style=\"color: #008000; text-decoration-color: #008000\">'Неправильный выбор дистанции'</span><span style=\"font-weight: bold\">]</span>,\n",
              "                        <span style=\"color: #008000; text-decoration-color: #008000\">'health_status'</span>: <span style=\"color: #008000; text-decoration-color: #008000\">'Раненый, находящийся (находившийся)  на амбулаторном лечении, либо </span>\n",
              "<span style=\"color: #008000; text-decoration-color: #008000\">которому по характеру полученных травм обозначена необходимость амбулаторного лечения (вне зависимости от его </span>\n",
              "<span style=\"color: #008000; text-decoration-color: #008000\">фактического прохождения)'</span>,\n",
              "                        <span style=\"color: #008000; text-decoration-color: #008000\">'years_of_driving_experience'</span>: <span style=\"color: #008080; text-decoration-color: #008080; font-weight: bold\">6</span>\n",
              "                    <span style=\"font-weight: bold\">}</span>\n",
              "                <span style=\"font-weight: bold\">]</span>\n",
              "            <span style=\"font-weight: bold\">}</span>,\n",
              "            <span style=\"font-weight: bold\">{</span>\n",
              "                <span style=\"color: #008000; text-decoration-color: #008000\">'year'</span>: <span style=\"color: #008080; text-decoration-color: #008080; font-weight: bold\">2017</span>,\n",
              "                <span style=\"color: #008000; text-decoration-color: #008000\">'brand'</span>: <span style=\"color: #008000; text-decoration-color: #008000\">'RENAULT'</span>,\n",
              "                <span style=\"color: #008000; text-decoration-color: #008000\">'color'</span>: <span style=\"color: #008000; text-decoration-color: #008000\">'Белый'</span>,\n",
              "                <span style=\"color: #008000; text-decoration-color: #008000\">'model'</span>: <span style=\"color: #008000; text-decoration-color: #008000\">'Logan'</span>,\n",
              "                <span style=\"color: #008000; text-decoration-color: #008000\">'category'</span>: <span style=\"color: #008000; text-decoration-color: #008000\">'В-класс (малый) до 3,9 м'</span>,\n",
              "                <span style=\"color: #008000; text-decoration-color: #008000\">'participants'</span>: <span style=\"font-weight: bold\">[</span>\n",
              "                    <span style=\"font-weight: bold\">{</span>\n",
              "                        <span style=\"color: #008000; text-decoration-color: #008000\">'role'</span>: <span style=\"color: #008000; text-decoration-color: #008000\">'Водитель'</span>,\n",
              "                        <span style=\"color: #008000; text-decoration-color: #008000\">'gender'</span>: <span style=\"color: #008000; text-decoration-color: #008000\">'Мужской'</span>,\n",
              "                        <span style=\"color: #008000; text-decoration-color: #008000\">'violations'</span>: <span style=\"font-weight: bold\">[]</span>,\n",
              "                        <span style=\"color: #008000; text-decoration-color: #008000\">'health_status'</span>: <span style=\"color: #008000; text-decoration-color: #008000\">'Не пострадал'</span>,\n",
              "                        <span style=\"color: #008000; text-decoration-color: #008000\">'years_of_driving_experience'</span>: <span style=\"color: #008080; text-decoration-color: #008080; font-weight: bold\">4</span>\n",
              "                    <span style=\"font-weight: bold\">}</span>\n",
              "                <span style=\"font-weight: bold\">]</span>\n",
              "            <span style=\"font-weight: bold\">}</span>\n",
              "        <span style=\"font-weight: bold\">]</span>,\n",
              "        <span style=\"color: #008000; text-decoration-color: #008000\">'dead_count'</span>: <span style=\"color: #008080; text-decoration-color: #008080; font-weight: bold\">0</span>,\n",
              "        <span style=\"color: #008000; text-decoration-color: #008000\">'participants'</span>: <span style=\"font-weight: bold\">[]</span>,\n",
              "        <span style=\"color: #008000; text-decoration-color: #008000\">'injured_count'</span>: <span style=\"color: #008080; text-decoration-color: #008080; font-weight: bold\">1</span>,\n",
              "        <span style=\"color: #008000; text-decoration-color: #008000\">'parent_region'</span>: <span style=\"color: #008000; text-decoration-color: #008000\">'Ростовская область'</span>,\n",
              "        <span style=\"color: #008000; text-decoration-color: #008000\">'road_conditions'</span>: <span style=\"font-weight: bold\">[</span>\n",
              "            <span style=\"color: #008000; text-decoration-color: #008000\">'Неисправное освещение'</span>,\n",
              "            <span style=\"color: #008000; text-decoration-color: #008000\">'Сухое'</span>,\n",
              "            <span style=\"color: #008000; text-decoration-color: #008000\">'Отсутствие, плохая различимость горизонтальной разметки проезжей части'</span>\n",
              "        <span style=\"font-weight: bold\">]</span>,\n",
              "        <span style=\"color: #008000; text-decoration-color: #008000\">'participants_count'</span>: <span style=\"color: #008080; text-decoration-color: #008080; font-weight: bold\">3</span>,\n",
              "        <span style=\"color: #008000; text-decoration-color: #008000\">'participant_categories'</span>: <span style=\"font-weight: bold\">[</span><span style=\"color: #008000; text-decoration-color: #008000\">'Мотоциклисты'</span>, <span style=\"color: #008000; text-decoration-color: #008000\">'Все участники'</span><span style=\"font-weight: bold\">]</span>\n",
              "    <span style=\"font-weight: bold\">}</span>\n",
              "<span style=\"font-weight: bold\">}</span>\n",
              "</pre>\n"
            ],
            "text/plain": [
              "\u001b[1m{\u001b[0m\n",
              "    \u001b[32m'type'\u001b[0m: \u001b[32m'Feature'\u001b[0m,\n",
              "    \u001b[32m'geometry'\u001b[0m: \u001b[1m{\u001b[0m\u001b[32m'type'\u001b[0m: \u001b[32m'Point'\u001b[0m, \u001b[32m'coordinates'\u001b[0m: \u001b[1m[\u001b[0m\u001b[1;36m39.7442\u001b[0m, \u001b[1;36m47.2867\u001b[0m\u001b[1m]\u001b[0m\u001b[1m}\u001b[0m,\n",
              "    \u001b[32m'properties'\u001b[0m: \u001b[1m{\u001b[0m\n",
              "        \u001b[32m'id'\u001b[0m: \u001b[1;36m2442272\u001b[0m,\n",
              "        \u001b[32m'tags'\u001b[0m: \u001b[1m[\u001b[0m\u001b[32m'Дорожно-транспортные происшествия'\u001b[0m\u001b[1m]\u001b[0m,\n",
              "        \u001b[32m'light'\u001b[0m: \u001b[32m'В темное время суток, освещение включено'\u001b[0m,\n",
              "        \u001b[32m'point'\u001b[0m: \u001b[1m{\u001b[0m\u001b[32m'lat'\u001b[0m: \u001b[1;36m47.2867\u001b[0m, \u001b[32m'long'\u001b[0m: \u001b[1;36m39.7442\u001b[0m\u001b[1m}\u001b[0m,\n",
              "        \u001b[32m'nearby'\u001b[0m: \u001b[1m[\u001b[0m\u001b[32m'Многоквартирные жилые дома'\u001b[0m\u001b[1m]\u001b[0m,\n",
              "        \u001b[32m'region'\u001b[0m: \u001b[32m'Ростов-на-Дону'\u001b[0m,\n",
              "        \u001b[32m'scheme'\u001b[0m: \u001b[32m'910'\u001b[0m,\n",
              "        \u001b[32m'address'\u001b[0m: \u001b[32m'г Ростов-на-Дону, ул Штахановского, 12'\u001b[0m,\n",
              "        \u001b[32m'weather'\u001b[0m: \u001b[1m[\u001b[0m\u001b[32m'Пасмурно'\u001b[0m\u001b[1m]\u001b[0m,\n",
              "        \u001b[32m'category'\u001b[0m: \u001b[32m'Наезд на стоящее ТС'\u001b[0m,\n",
              "        \u001b[32m'datetime'\u001b[0m: \u001b[32m'2018-05-25 20:35:00'\u001b[0m,\n",
              "        \u001b[32m'severity'\u001b[0m: \u001b[32m'Легкий'\u001b[0m,\n",
              "        \u001b[32m'vehicles'\u001b[0m: \u001b[1m[\u001b[0m\n",
              "            \u001b[1m{\u001b[0m\n",
              "                \u001b[32m'year'\u001b[0m: \u001b[1;36m1982\u001b[0m,\n",
              "                \u001b[32m'brand'\u001b[0m: \u001b[32m'VOLVO'\u001b[0m,\n",
              "                \u001b[32m'color'\u001b[0m: \u001b[32m'Белый'\u001b[0m,\n",
              "                \u001b[32m'model'\u001b[0m: \u001b[32m'Прочие модели Volvo'\u001b[0m,\n",
              "                \u001b[32m'category'\u001b[0m: \u001b[32m'Прочие одноярусные'\u001b[0m,\n",
              "                \u001b[32m'participants'\u001b[0m: \u001b[1m[\u001b[0m\n",
              "                    \u001b[1m{\u001b[0m\n",
              "                        \u001b[32m'role'\u001b[0m: \u001b[32m'Водитель'\u001b[0m,\n",
              "                        \u001b[32m'gender'\u001b[0m: \u001b[32m'Мужской'\u001b[0m,\n",
              "                        \u001b[32m'violations'\u001b[0m: \u001b[1m[\u001b[0m\u001b[1m]\u001b[0m,\n",
              "                        \u001b[32m'health_status'\u001b[0m: \u001b[32m'Не пострадал'\u001b[0m,\n",
              "                        \u001b[32m'years_of_driving_experience'\u001b[0m: \u001b[1;36m16\u001b[0m\n",
              "                    \u001b[1m}\u001b[0m\n",
              "                \u001b[1m]\u001b[0m\n",
              "            \u001b[1m}\u001b[0m,\n",
              "            \u001b[1m{\u001b[0m\n",
              "                \u001b[32m'year'\u001b[0m: \u001b[1;36m2005\u001b[0m,\n",
              "                \u001b[32m'brand'\u001b[0m: \u001b[32m'Прочие марки мотоциклов'\u001b[0m,\n",
              "                \u001b[32m'color'\u001b[0m: \u001b[32m'Белый'\u001b[0m,\n",
              "                \u001b[32m'model'\u001b[0m: \u001b[32m'Прочие марки мотоциклов'\u001b[0m,\n",
              "                \u001b[32m'category'\u001b[0m: \u001b[32m'Мопеды с двигателем внутреннего сгорания менее 50 см. куб.'\u001b[0m,\n",
              "                \u001b[32m'participants'\u001b[0m: \u001b[1m[\u001b[0m\n",
              "                    \u001b[1m{\u001b[0m\n",
              "                        \u001b[32m'role'\u001b[0m: \u001b[32m'Водитель'\u001b[0m,\n",
              "                        \u001b[32m'gender'\u001b[0m: \u001b[32m'Мужской'\u001b[0m,\n",
              "                        \u001b[32m'violations'\u001b[0m: \u001b[1m[\u001b[0m\u001b[32m'Неправильный выбор дистанции'\u001b[0m\u001b[1m]\u001b[0m,\n",
              "                        \u001b[32m'health_status'\u001b[0m: \u001b[32m'Раненый, находящийся \u001b[0m\u001b[32m(\u001b[0m\u001b[32mнаходившийся\u001b[0m\u001b[32m)\u001b[0m\u001b[32m  на амбулаторном лечении, либо \u001b[0m\n",
              "\u001b[32mкоторому по характеру полученных травм обозначена необходимость амбулаторного лечения \u001b[0m\u001b[32m(\u001b[0m\u001b[32mвне зависимости от его \u001b[0m\n",
              "\u001b[32mфактического прохождения\u001b[0m\u001b[32m)\u001b[0m\u001b[32m'\u001b[0m,\n",
              "                        \u001b[32m'years_of_driving_experience'\u001b[0m: \u001b[1;36m6\u001b[0m\n",
              "                    \u001b[1m}\u001b[0m\n",
              "                \u001b[1m]\u001b[0m\n",
              "            \u001b[1m}\u001b[0m,\n",
              "            \u001b[1m{\u001b[0m\n",
              "                \u001b[32m'year'\u001b[0m: \u001b[1;36m2017\u001b[0m,\n",
              "                \u001b[32m'brand'\u001b[0m: \u001b[32m'RENAULT'\u001b[0m,\n",
              "                \u001b[32m'color'\u001b[0m: \u001b[32m'Белый'\u001b[0m,\n",
              "                \u001b[32m'model'\u001b[0m: \u001b[32m'Logan'\u001b[0m,\n",
              "                \u001b[32m'category'\u001b[0m: \u001b[32m'В-класс \u001b[0m\u001b[32m(\u001b[0m\u001b[32mмалый\u001b[0m\u001b[32m)\u001b[0m\u001b[32m до 3,9 м'\u001b[0m,\n",
              "                \u001b[32m'participants'\u001b[0m: \u001b[1m[\u001b[0m\n",
              "                    \u001b[1m{\u001b[0m\n",
              "                        \u001b[32m'role'\u001b[0m: \u001b[32m'Водитель'\u001b[0m,\n",
              "                        \u001b[32m'gender'\u001b[0m: \u001b[32m'Мужской'\u001b[0m,\n",
              "                        \u001b[32m'violations'\u001b[0m: \u001b[1m[\u001b[0m\u001b[1m]\u001b[0m,\n",
              "                        \u001b[32m'health_status'\u001b[0m: \u001b[32m'Не пострадал'\u001b[0m,\n",
              "                        \u001b[32m'years_of_driving_experience'\u001b[0m: \u001b[1;36m4\u001b[0m\n",
              "                    \u001b[1m}\u001b[0m\n",
              "                \u001b[1m]\u001b[0m\n",
              "            \u001b[1m}\u001b[0m\n",
              "        \u001b[1m]\u001b[0m,\n",
              "        \u001b[32m'dead_count'\u001b[0m: \u001b[1;36m0\u001b[0m,\n",
              "        \u001b[32m'participants'\u001b[0m: \u001b[1m[\u001b[0m\u001b[1m]\u001b[0m,\n",
              "        \u001b[32m'injured_count'\u001b[0m: \u001b[1;36m1\u001b[0m,\n",
              "        \u001b[32m'parent_region'\u001b[0m: \u001b[32m'Ростовская область'\u001b[0m,\n",
              "        \u001b[32m'road_conditions'\u001b[0m: \u001b[1m[\u001b[0m\n",
              "            \u001b[32m'Неисправное освещение'\u001b[0m,\n",
              "            \u001b[32m'Сухое'\u001b[0m,\n",
              "            \u001b[32m'Отсутствие, плохая различимость горизонтальной разметки проезжей части'\u001b[0m\n",
              "        \u001b[1m]\u001b[0m,\n",
              "        \u001b[32m'participants_count'\u001b[0m: \u001b[1;36m3\u001b[0m,\n",
              "        \u001b[32m'participant_categories'\u001b[0m: \u001b[1m[\u001b[0m\u001b[32m'Мотоциклисты'\u001b[0m, \u001b[32m'Все участники'\u001b[0m\u001b[1m]\u001b[0m\n",
              "    \u001b[1m}\u001b[0m\n",
              "\u001b[1m}\u001b[0m\n"
            ]
          },
          "metadata": {},
          "output_type": "display_data"
        }
      ],
      "source": [
        "for i in data['features']:\n",
        "    print(data['features'][0])\n",
        "    data['features'].remove(i)\n",
        "    print(data['features'][0])\n",
        "    break\n",
        "print(data['features'][0])"
      ]
    },
    {
      "attachments": {},
      "cell_type": "markdown",
      "metadata": {},
      "source": [
        "### Create a dataclasses for better data analysis\n",
        "NOTE that dataclasses are inherits from `pydantic.BaseModel`"
      ]
    },
    {
      "cell_type": "code",
      "execution_count": 8,
      "metadata": {},
      "outputs": [],
      "source": [
        "from pydantic import BaseModel\n",
        "\n",
        "class Participant(BaseModel):\n",
        "    role: str | None\n",
        "    gender: str | None\n",
        "    violations: list | None\n",
        "    health_status: str | None\n",
        "    years_of_driving_experience: int | None\n",
        "\n",
        "class Vehicle(BaseModel):\n",
        "    year: int | None\n",
        "    brand: str | None\n",
        "    color: str | None\n",
        "    category: str | None\n",
        "    participants: list[Participant] | None\n",
        "\n",
        "class CarAccident(BaseModel):\n",
        "    id: int | None\n",
        "    tags: list | None\n",
        "    light: str | None\n",
        "    point: dict | None\n",
        "    nearby: list | None\n",
        "    region: str | None\n",
        "    scheme: str | None\n",
        "    address: str | None\n",
        "    weather: list | None \n",
        "    category: str | None\n",
        "    datetime: str | None\n",
        "    severity: str | None\n",
        "    vehicles: list[Vehicle] | None \n",
        "    dead_count: int | None\n",
        "    participants: list[Participant] | None\n",
        "    injured_count: int | None\n",
        "    parent_region: str | None \n",
        "    road_conditions: list | None\n",
        "    participants_count: int | None\n",
        "    participant_categories: list | None"
      ]
    },
    {
      "cell_type": "code",
      "execution_count": 9,
      "metadata": {},
      "outputs": [
        {
          "data": {
            "application/vnd.jupyter.widget-view+json": {
              "model_id": "bf6a7afcc638455980b226f71f8d884d",
              "version_major": 2,
              "version_minor": 0
            },
            "text/plain": [
              "  0%|          | 0/85 [00:00<?, ?it/s]"
            ]
          },
          "metadata": {},
          "output_type": "display_data"
        },
        {
          "data": {
            "text/html": [
              "<pre style=\"white-space:pre;overflow-x:auto;line-height:normal;font-family:Menlo,'DejaVu Sans Mono',consolas,'Courier New',monospace\"><span style=\"color: #800080; text-decoration-color: #800080; font-weight: bold\">CarAccident</span><span style=\"font-weight: bold\">(</span>\n",
              "    <span style=\"color: #808000; text-decoration-color: #808000\">id</span>=<span style=\"color: #008080; text-decoration-color: #008080; font-weight: bold\">2431792</span>,\n",
              "    <span style=\"color: #808000; text-decoration-color: #808000\">tags</span>=<span style=\"font-weight: bold\">[</span><span style=\"color: #008000; text-decoration-color: #008000\">'Дорожно-транспортные происшествия'</span><span style=\"font-weight: bold\">]</span>,\n",
              "    <span style=\"color: #808000; text-decoration-color: #808000\">light</span>=<span style=\"color: #008000; text-decoration-color: #008000\">'Светлое время суток'</span>,\n",
              "    <span style=\"color: #808000; text-decoration-color: #808000\">point</span>=<span style=\"font-weight: bold\">{</span><span style=\"color: #008000; text-decoration-color: #008000\">'lat'</span>: <span style=\"color: #008080; text-decoration-color: #008080; font-weight: bold\">47.2697</span>, <span style=\"color: #008000; text-decoration-color: #008000\">'long'</span>: <span style=\"color: #008080; text-decoration-color: #008080; font-weight: bold\">39.7142</span><span style=\"font-weight: bold\">}</span>,\n",
              "    <span style=\"color: #808000; text-decoration-color: #808000\">nearby</span>=<span style=\"font-weight: bold\">[</span><span style=\"color: #008000; text-decoration-color: #008000\">'Жилые дома индивидуальной застройки'</span>, <span style=\"color: #008000; text-decoration-color: #008000\">'Регулируемый перекресток'</span><span style=\"font-weight: bold\">]</span>,\n",
              "    <span style=\"color: #808000; text-decoration-color: #808000\">region</span>=<span style=\"color: #008000; text-decoration-color: #008000\">'Ростов-на-Дону'</span>,\n",
              "    <span style=\"color: #808000; text-decoration-color: #808000\">scheme</span>=<span style=\"color: #008000; text-decoration-color: #008000\">'500'</span>,\n",
              "    <span style=\"color: #808000; text-decoration-color: #808000\">address</span>=<span style=\"color: #008000; text-decoration-color: #008000\">'г Ростов-на-Дону, ул Фурмановская, 76 56'</span>,\n",
              "    <span style=\"color: #808000; text-decoration-color: #808000\">weather</span>=<span style=\"font-weight: bold\">[</span><span style=\"color: #008000; text-decoration-color: #008000\">'Ясно'</span><span style=\"font-weight: bold\">]</span>,\n",
              "    <span style=\"color: #808000; text-decoration-color: #808000\">category</span>=<span style=\"color: #008000; text-decoration-color: #008000\">'Столкновение'</span>,\n",
              "    <span style=\"color: #808000; text-decoration-color: #808000\">datetime</span>=<span style=\"color: #008000; text-decoration-color: #008000\">'2018-02-21 09:00:00'</span>,\n",
              "    <span style=\"color: #808000; text-decoration-color: #808000\">severity</span>=<span style=\"color: #008000; text-decoration-color: #008000\">'Легкий'</span>,\n",
              "    <span style=\"color: #808000; text-decoration-color: #808000\">vehicles</span>=<span style=\"font-weight: bold\">[</span>\n",
              "        <span style=\"color: #800080; text-decoration-color: #800080; font-weight: bold\">Vehicle</span><span style=\"font-weight: bold\">(</span>\n",
              "            <span style=\"color: #808000; text-decoration-color: #808000\">year</span>=<span style=\"color: #008080; text-decoration-color: #008080; font-weight: bold\">2012</span>,\n",
              "            <span style=\"color: #808000; text-decoration-color: #808000\">brand</span>=<span style=\"color: #008000; text-decoration-color: #008000\">'ВАЗ'</span>,\n",
              "            <span style=\"color: #808000; text-decoration-color: #808000\">color</span>=<span style=\"color: #008000; text-decoration-color: #008000\">'Серый'</span>,\n",
              "            <span style=\"color: #808000; text-decoration-color: #808000\">category</span>=<span style=\"color: #008000; text-decoration-color: #008000\">'В-класс (малый) до 3,9 м'</span>,\n",
              "            <span style=\"color: #808000; text-decoration-color: #808000\">participants</span>=<span style=\"font-weight: bold\">[</span>\n",
              "                <span style=\"color: #800080; text-decoration-color: #800080; font-weight: bold\">Participant</span><span style=\"font-weight: bold\">(</span>\n",
              "                    <span style=\"color: #808000; text-decoration-color: #808000\">role</span>=<span style=\"color: #008000; text-decoration-color: #008000\">'Водитель'</span>,\n",
              "                    <span style=\"color: #808000; text-decoration-color: #808000\">gender</span>=<span style=\"color: #008000; text-decoration-color: #008000\">'Мужской'</span>,\n",
              "                    <span style=\"color: #808000; text-decoration-color: #808000\">violations</span>=<span style=\"font-weight: bold\">[</span><span style=\"color: #008000; text-decoration-color: #008000\">'Несоблюдение очередности проезда перекрестков'</span><span style=\"font-weight: bold\">]</span>,\n",
              "                    <span style=\"color: #808000; text-decoration-color: #808000\">health_status</span>=<span style=\"color: #008000; text-decoration-color: #008000\">'Не пострадал'</span>,\n",
              "                    <span style=\"color: #808000; text-decoration-color: #808000\">years_of_driving_experience</span>=<span style=\"color: #008080; text-decoration-color: #008080; font-weight: bold\">5</span>\n",
              "                <span style=\"font-weight: bold\">)</span>\n",
              "            <span style=\"font-weight: bold\">]</span>\n",
              "        <span style=\"font-weight: bold\">)</span>,\n",
              "        <span style=\"color: #800080; text-decoration-color: #800080; font-weight: bold\">Vehicle</span><span style=\"font-weight: bold\">(</span>\n",
              "            <span style=\"color: #808000; text-decoration-color: #808000\">year</span>=<span style=\"color: #008080; text-decoration-color: #008080; font-weight: bold\">2012</span>,\n",
              "            <span style=\"color: #808000; text-decoration-color: #808000\">brand</span>=<span style=\"color: #008000; text-decoration-color: #008000\">'RENAULT'</span>,\n",
              "            <span style=\"color: #808000; text-decoration-color: #808000\">color</span>=<span style=\"color: #008000; text-decoration-color: #008000\">'Белый'</span>,\n",
              "            <span style=\"color: #808000; text-decoration-color: #808000\">category</span>=<span style=\"color: #008000; text-decoration-color: #008000\">'В-класс (малый) до 3,9 м'</span>,\n",
              "            <span style=\"color: #808000; text-decoration-color: #808000\">participants</span>=<span style=\"font-weight: bold\">[</span>\n",
              "                <span style=\"color: #800080; text-decoration-color: #800080; font-weight: bold\">Participant</span><span style=\"font-weight: bold\">(</span>\n",
              "                    <span style=\"color: #808000; text-decoration-color: #808000\">role</span>=<span style=\"color: #008000; text-decoration-color: #008000\">'Водитель'</span>,\n",
              "                    <span style=\"color: #808000; text-decoration-color: #808000\">gender</span>=<span style=\"color: #008000; text-decoration-color: #008000\">'Мужской'</span>,\n",
              "                    <span style=\"color: #808000; text-decoration-color: #808000\">violations</span>=<span style=\"font-weight: bold\">[]</span>,\n",
              "                    <span style=\"color: #808000; text-decoration-color: #808000\">health_status</span>=<span style=\"color: #008000; text-decoration-color: #008000\">'Раненый, находящийся (находившийся)  на амбулаторном лечении, либо которому по </span>\n",
              "<span style=\"color: #008000; text-decoration-color: #008000\">характеру полученных травм обозначена необходимость амбулаторного лечения (вне зависимости от его фактического </span>\n",
              "<span style=\"color: #008000; text-decoration-color: #008000\">прохождения)'</span>,\n",
              "                    <span style=\"color: #808000; text-decoration-color: #808000\">years_of_driving_experience</span>=<span style=\"color: #008080; text-decoration-color: #008080; font-weight: bold\">2</span>\n",
              "                <span style=\"font-weight: bold\">)</span>\n",
              "            <span style=\"font-weight: bold\">]</span>\n",
              "        <span style=\"font-weight: bold\">)</span>\n",
              "    <span style=\"font-weight: bold\">]</span>,\n",
              "    <span style=\"color: #808000; text-decoration-color: #808000\">dead_count</span>=<span style=\"color: #008080; text-decoration-color: #008080; font-weight: bold\">0</span>,\n",
              "    <span style=\"color: #808000; text-decoration-color: #808000\">participants</span>=<span style=\"font-weight: bold\">[]</span>,\n",
              "    <span style=\"color: #808000; text-decoration-color: #808000\">injured_count</span>=<span style=\"color: #008080; text-decoration-color: #008080; font-weight: bold\">1</span>,\n",
              "    <span style=\"color: #808000; text-decoration-color: #808000\">parent_region</span>=<span style=\"color: #008000; text-decoration-color: #008000\">'Ростовская область'</span>,\n",
              "    <span style=\"color: #808000; text-decoration-color: #808000\">road_conditions</span>=<span style=\"font-weight: bold\">[</span><span style=\"color: #008000; text-decoration-color: #008000\">'Сухое'</span><span style=\"font-weight: bold\">]</span>,\n",
              "    <span style=\"color: #808000; text-decoration-color: #808000\">participants_count</span>=<span style=\"color: #008080; text-decoration-color: #008080; font-weight: bold\">2</span>,\n",
              "    <span style=\"color: #808000; text-decoration-color: #808000\">participant_categories</span>=<span style=\"font-weight: bold\">[</span><span style=\"color: #008000; text-decoration-color: #008000\">'Все участники'</span><span style=\"font-weight: bold\">]</span>\n",
              "<span style=\"font-weight: bold\">)</span>\n",
              "</pre>\n"
            ],
            "text/plain": [
              "\u001b[1;35mCarAccident\u001b[0m\u001b[1m(\u001b[0m\n",
              "    \u001b[33mid\u001b[0m=\u001b[1;36m2431792\u001b[0m,\n",
              "    \u001b[33mtags\u001b[0m=\u001b[1m[\u001b[0m\u001b[32m'Дорожно-транспортные происшествия'\u001b[0m\u001b[1m]\u001b[0m,\n",
              "    \u001b[33mlight\u001b[0m=\u001b[32m'Светлое время суток'\u001b[0m,\n",
              "    \u001b[33mpoint\u001b[0m=\u001b[1m{\u001b[0m\u001b[32m'lat'\u001b[0m: \u001b[1;36m47.2697\u001b[0m, \u001b[32m'long'\u001b[0m: \u001b[1;36m39.7142\u001b[0m\u001b[1m}\u001b[0m,\n",
              "    \u001b[33mnearby\u001b[0m=\u001b[1m[\u001b[0m\u001b[32m'Жилые дома индивидуальной застройки'\u001b[0m, \u001b[32m'Регулируемый перекресток'\u001b[0m\u001b[1m]\u001b[0m,\n",
              "    \u001b[33mregion\u001b[0m=\u001b[32m'Ростов-на-Дону'\u001b[0m,\n",
              "    \u001b[33mscheme\u001b[0m=\u001b[32m'500'\u001b[0m,\n",
              "    \u001b[33maddress\u001b[0m=\u001b[32m'г Ростов-на-Дону, ул Фурмановская, 76 56'\u001b[0m,\n",
              "    \u001b[33mweather\u001b[0m=\u001b[1m[\u001b[0m\u001b[32m'Ясно'\u001b[0m\u001b[1m]\u001b[0m,\n",
              "    \u001b[33mcategory\u001b[0m=\u001b[32m'Столкновение'\u001b[0m,\n",
              "    \u001b[33mdatetime\u001b[0m=\u001b[32m'2018-02-21 09:00:00'\u001b[0m,\n",
              "    \u001b[33mseverity\u001b[0m=\u001b[32m'Легкий'\u001b[0m,\n",
              "    \u001b[33mvehicles\u001b[0m=\u001b[1m[\u001b[0m\n",
              "        \u001b[1;35mVehicle\u001b[0m\u001b[1m(\u001b[0m\n",
              "            \u001b[33myear\u001b[0m=\u001b[1;36m2012\u001b[0m,\n",
              "            \u001b[33mbrand\u001b[0m=\u001b[32m'ВАЗ'\u001b[0m,\n",
              "            \u001b[33mcolor\u001b[0m=\u001b[32m'Серый'\u001b[0m,\n",
              "            \u001b[33mcategory\u001b[0m=\u001b[32m'В-класс \u001b[0m\u001b[32m(\u001b[0m\u001b[32mмалый\u001b[0m\u001b[32m)\u001b[0m\u001b[32m до 3,9 м'\u001b[0m,\n",
              "            \u001b[33mparticipants\u001b[0m=\u001b[1m[\u001b[0m\n",
              "                \u001b[1;35mParticipant\u001b[0m\u001b[1m(\u001b[0m\n",
              "                    \u001b[33mrole\u001b[0m=\u001b[32m'Водитель'\u001b[0m,\n",
              "                    \u001b[33mgender\u001b[0m=\u001b[32m'Мужской'\u001b[0m,\n",
              "                    \u001b[33mviolations\u001b[0m=\u001b[1m[\u001b[0m\u001b[32m'Несоблюдение очередности проезда перекрестков'\u001b[0m\u001b[1m]\u001b[0m,\n",
              "                    \u001b[33mhealth_status\u001b[0m=\u001b[32m'Не пострадал'\u001b[0m,\n",
              "                    \u001b[33myears_of_driving_experience\u001b[0m=\u001b[1;36m5\u001b[0m\n",
              "                \u001b[1m)\u001b[0m\n",
              "            \u001b[1m]\u001b[0m\n",
              "        \u001b[1m)\u001b[0m,\n",
              "        \u001b[1;35mVehicle\u001b[0m\u001b[1m(\u001b[0m\n",
              "            \u001b[33myear\u001b[0m=\u001b[1;36m2012\u001b[0m,\n",
              "            \u001b[33mbrand\u001b[0m=\u001b[32m'RENAULT'\u001b[0m,\n",
              "            \u001b[33mcolor\u001b[0m=\u001b[32m'Белый'\u001b[0m,\n",
              "            \u001b[33mcategory\u001b[0m=\u001b[32m'В-класс \u001b[0m\u001b[32m(\u001b[0m\u001b[32mмалый\u001b[0m\u001b[32m)\u001b[0m\u001b[32m до 3,9 м'\u001b[0m,\n",
              "            \u001b[33mparticipants\u001b[0m=\u001b[1m[\u001b[0m\n",
              "                \u001b[1;35mParticipant\u001b[0m\u001b[1m(\u001b[0m\n",
              "                    \u001b[33mrole\u001b[0m=\u001b[32m'Водитель'\u001b[0m,\n",
              "                    \u001b[33mgender\u001b[0m=\u001b[32m'Мужской'\u001b[0m,\n",
              "                    \u001b[33mviolations\u001b[0m=\u001b[1m[\u001b[0m\u001b[1m]\u001b[0m,\n",
              "                    \u001b[33mhealth_status\u001b[0m=\u001b[32m'Раненый, находящийся \u001b[0m\u001b[32m(\u001b[0m\u001b[32mнаходившийся\u001b[0m\u001b[32m)\u001b[0m\u001b[32m  на амбулаторном лечении, либо которому по \u001b[0m\n",
              "\u001b[32mхарактеру полученных травм обозначена необходимость амбулаторного лечения \u001b[0m\u001b[32m(\u001b[0m\u001b[32mвне зависимости от его фактического \u001b[0m\n",
              "\u001b[32mпрохождения\u001b[0m\u001b[32m)\u001b[0m\u001b[32m'\u001b[0m,\n",
              "                    \u001b[33myears_of_driving_experience\u001b[0m=\u001b[1;36m2\u001b[0m\n",
              "                \u001b[1m)\u001b[0m\n",
              "            \u001b[1m]\u001b[0m\n",
              "        \u001b[1m)\u001b[0m\n",
              "    \u001b[1m]\u001b[0m,\n",
              "    \u001b[33mdead_count\u001b[0m=\u001b[1;36m0\u001b[0m,\n",
              "    \u001b[33mparticipants\u001b[0m=\u001b[1m[\u001b[0m\u001b[1m]\u001b[0m,\n",
              "    \u001b[33minjured_count\u001b[0m=\u001b[1;36m1\u001b[0m,\n",
              "    \u001b[33mparent_region\u001b[0m=\u001b[32m'Ростовская область'\u001b[0m,\n",
              "    \u001b[33mroad_conditions\u001b[0m=\u001b[1m[\u001b[0m\u001b[32m'Сухое'\u001b[0m\u001b[1m]\u001b[0m,\n",
              "    \u001b[33mparticipants_count\u001b[0m=\u001b[1;36m2\u001b[0m,\n",
              "    \u001b[33mparticipant_categories\u001b[0m=\u001b[1m[\u001b[0m\u001b[32m'Все участники'\u001b[0m\u001b[1m]\u001b[0m\n",
              "\u001b[1m)\u001b[0m\n"
            ]
          },
          "metadata": {},
          "output_type": "display_data"
        }
      ],
      "source": [
        "# load properties from geojson_objects to CarAccident objects\n",
        "car_accidents = []\n",
        "for geojson_object in tqdm(geojson_objects):\n",
        "    for feature in geojson_object['features']:\n",
        "        car_accident = CarAccident(**feature['properties'])\n",
        "        car_accidents.append(car_accident)\n",
        "\n",
        "print(car_accidents[0])"
      ]
    },
    {
      "cell_type": "code",
      "execution_count": 10,
      "metadata": {},
      "outputs": [
        {
          "data": {
            "application/vnd.jupyter.widget-view+json": {
              "model_id": "8d379959aa1c4010a80a49c935435478",
              "version_major": 2,
              "version_minor": 0
            },
            "text/plain": [
              "  0%|          | 0/1254065 [00:00<?, ?it/s]"
            ]
          },
          "metadata": {},
          "output_type": "display_data"
        }
      ],
      "source": [
        "# create a set variable for every list of CarAccident objects\n",
        "tags_set = set()\n",
        "light_set = set()\n",
        "nearby_set = set()\n",
        "region_set = set()\n",
        "scheme_set = set()\n",
        "address_set = set()\n",
        "weather_set = set()\n",
        "category_set = set()\n",
        "severity_set = set()\n",
        "dead_count_set = set()\n",
        "injured_count_set = set()\n",
        "parent_region_set = set()\n",
        "road_conditions_set = set()\n",
        "participants_count_set = set()\n",
        "participant_categories_set = set()\n",
        "\n",
        "participant_role_set = set()\n",
        "participant_gender_set = set()\n",
        "participant_violations_set = set()\n",
        "participant_health_status_set = set()\n",
        "\n",
        "vehicle_year_set = set()\n",
        "vehicle_brand_set = set()\n",
        "vehicle_color_set = set()  # xD\n",
        "vehicle_category_set = set()\n",
        "\n",
        "for accident in tqdm(car_accidents):\n",
        "    tags_set.update(accident.tags)\n",
        "    light_set.update([accident.light])\n",
        "    nearby_set.update(accident.nearby)\n",
        "    region_set.update([accident.region])\n",
        "    scheme_set.update([accident.scheme])\n",
        "    address_set.update([accident.address])\n",
        "    weather_set.update(accident.weather)\n",
        "    category_set.update([accident.category])\n",
        "    severity_set.update([accident.severity])\n",
        "    dead_count_set.update([accident.dead_count])\n",
        "    injured_count_set.update([accident.injured_count])\n",
        "    parent_region_set.update([accident.parent_region])\n",
        "    road_conditions_set.update(accident.road_conditions)\n",
        "    participants_count_set.update([accident.participants_count])\n",
        "    participant_categories_set.update(accident.participant_categories)\n",
        "    [participant_violations_set.update(participant.violations) for vehicle in accident.vehicles for participant in vehicle.participants]\n",
        "    participant_role_set.update(participant.role for vehicle in accident.vehicles for participant in vehicle.participants)\n",
        "    participant_gender_set.update(participant.gender for vehicle in accident.vehicles for participant in vehicle.participants)\n",
        "    participant_health_status_set.update(participant.health_status for vehicle in accident.vehicles for participant in vehicle.participants)\n",
        "    vehicle_year_set.update(str(vehicle.year) for vehicle in accident.vehicles)\n",
        "    vehicle_brand_set.update(vehicle.brand for vehicle in accident.vehicles)\n",
        "    vehicle_color_set.update(vehicle.color for vehicle in accident.vehicles)\n",
        "    vehicle_category_set.update(vehicle.category for vehicle in accident.vehicles)"
      ]
    },
    {
      "cell_type": "code",
      "execution_count": 15,
      "metadata": {},
      "outputs": [],
      "source": [
        "# print(f'Tags: {tags_set}')\n",
        "# print(f'Weather: {weather_set}')\n",
        "# print(f'Participant categories: {participant_categories_set}')\n",
        "# print(f'Road conditions: {road_conditions_set}')\n",
        "# print(f'Participant roles: {participant_violations_set}')\n",
        "# print(f'Vehicle colors: {vehicle_color_set}')\n",
        "\n",
        "with open('sets.txt', 'w+', encoding='utf-8') as f:\n",
        "    f.write(f'tags_set = {tags_set}\\n\\n')\n",
        "    f.write(f'tags_set = {tags_set}\\n\\n')\n",
        "    f.write(f'light_set = {light_set}\\n\\n')\n",
        "    f.write(f'nearby_set = {nearby_set}\\n\\n')\n",
        "    f.write(f'scheme_set = {scheme_set}\\n\\n')\n",
        "    f.write(f'weather_set = {weather_set}\\n\\n')\n",
        "    f.write(f'category_set = {category_set}\\n\\n')\n",
        "    f.write(f'severity_set = {severity_set}\\n\\n')\n",
        "    f.write(f'dead_count_set = {dead_count_set}\\n\\n')\n",
        "    f.write(f'injured_count_set = {injured_count_set}\\n\\n')\n",
        "    f.write(f'road_conditions_set = {road_conditions_set}\\n\\n')\n",
        "    f.write(f'participants_count_set = {participants_count_set}\\n\\n')\n",
        "    f.write(f'participant_categories_set = {participant_categories_set}\\n\\n')\n",
        "    f.write(f'participant_role_set = {participant_role_set}\\n\\n')\n",
        "    f.write(f'participant_gender_set = {participant_gender_set}\\n\\n')\n",
        "    f.write(f'participant_violations_set = {participant_violations_set}\\n\\n')\n",
        "    f.write(f'participant_health_status_set = {participant_health_status_set}\\n\\n')\n",
        "    f.write(f'vehicle_year_set = {vehicle_year_set}\\n\\n')\n",
        "    f.write(f'vehicle_brand_set = {vehicle_brand_set}\\n\\n')\n",
        "    f.write(f'vehicle_color_set = {vehicle_color_set}\\n\\n')\n",
        "    f.write(f'vehicle_category_set = {vehicle_category_set}\\n\\n')"
      ]
    }
  ],
  "metadata": {
    "colab": {
      "provenance": []
    },
    "kernelspec": {
      "display_name": "Python 3",
      "language": "python",
      "name": "python3"
    },
    "language_info": {
      "codemirror_mode": {
        "name": "ipython",
        "version": 3
      },
      "file_extension": ".py",
      "mimetype": "text/x-python",
      "name": "python",
      "nbconvert_exporter": "python",
      "pygments_lexer": "ipython3",
      "version": "3.10.8"
    },
    "vscode": {
      "interpreter": {
        "hash": "b0fa6594d8f4cbf19f97940f81e996739fb7646882a419484c72d19e05852a7e"
      }
    },
    "widgets": {
      "application/vnd.jupyter.widget-state+json": {
        "0a9898d192694bfdb4b22f9f6fc407fa": {
          "model_module": "@jupyter-widgets/controls",
          "model_module_version": "1.5.0",
          "model_name": "HTMLModel",
          "state": {
            "_dom_classes": [],
            "_model_module": "@jupyter-widgets/controls",
            "_model_module_version": "1.5.0",
            "_model_name": "HTMLModel",
            "_view_count": null,
            "_view_module": "@jupyter-widgets/controls",
            "_view_module_version": "1.5.0",
            "_view_name": "HTMLView",
            "description": "",
            "description_tooltip": null,
            "layout": "IPY_MODEL_cba74f5ea320490ebf6ec7c799b4633b",
            "placeholder": "​",
            "style": "IPY_MODEL_b6fb0a4bb4de41a9adbc094105eaee29",
            "value": " 26/85 [01:44&lt;04:34,  4.65s/it]"
          }
        },
        "1cf610b702fc42908e7dbe87108b8e8e": {
          "model_module": "@jupyter-widgets/controls",
          "model_module_version": "1.5.0",
          "model_name": "DescriptionStyleModel",
          "state": {
            "_model_module": "@jupyter-widgets/controls",
            "_model_module_version": "1.5.0",
            "_model_name": "DescriptionStyleModel",
            "_view_count": null,
            "_view_module": "@jupyter-widgets/base",
            "_view_module_version": "1.2.0",
            "_view_name": "StyleView",
            "description_width": ""
          }
        },
        "1de7579f111b49e593f611c2428b6678": {
          "model_module": "@jupyter-widgets/controls",
          "model_module_version": "1.5.0",
          "model_name": "ProgressStyleModel",
          "state": {
            "_model_module": "@jupyter-widgets/controls",
            "_model_module_version": "1.5.0",
            "_model_name": "ProgressStyleModel",
            "_view_count": null,
            "_view_module": "@jupyter-widgets/base",
            "_view_module_version": "1.2.0",
            "_view_name": "StyleView",
            "bar_color": null,
            "description_width": ""
          }
        },
        "252afef2a9b7441aac756e81778a88f3": {
          "model_module": "@jupyter-widgets/base",
          "model_module_version": "1.2.0",
          "model_name": "LayoutModel",
          "state": {
            "_model_module": "@jupyter-widgets/base",
            "_model_module_version": "1.2.0",
            "_model_name": "LayoutModel",
            "_view_count": null,
            "_view_module": "@jupyter-widgets/base",
            "_view_module_version": "1.2.0",
            "_view_name": "LayoutView",
            "align_content": null,
            "align_items": null,
            "align_self": null,
            "border": null,
            "bottom": null,
            "display": null,
            "flex": null,
            "flex_flow": null,
            "grid_area": null,
            "grid_auto_columns": null,
            "grid_auto_flow": null,
            "grid_auto_rows": null,
            "grid_column": null,
            "grid_gap": null,
            "grid_row": null,
            "grid_template_areas": null,
            "grid_template_columns": null,
            "grid_template_rows": null,
            "height": null,
            "justify_content": null,
            "justify_items": null,
            "left": null,
            "margin": null,
            "max_height": null,
            "max_width": null,
            "min_height": null,
            "min_width": null,
            "object_fit": null,
            "object_position": null,
            "order": null,
            "overflow": null,
            "overflow_x": null,
            "overflow_y": null,
            "padding": null,
            "right": null,
            "top": null,
            "visibility": null,
            "width": null
          }
        },
        "3dfa66102da649dab81775c8025597fa": {
          "model_module": "@jupyter-widgets/base",
          "model_module_version": "1.2.0",
          "model_name": "LayoutModel",
          "state": {
            "_model_module": "@jupyter-widgets/base",
            "_model_module_version": "1.2.0",
            "_model_name": "LayoutModel",
            "_view_count": null,
            "_view_module": "@jupyter-widgets/base",
            "_view_module_version": "1.2.0",
            "_view_name": "LayoutView",
            "align_content": null,
            "align_items": null,
            "align_self": null,
            "border": null,
            "bottom": null,
            "display": null,
            "flex": null,
            "flex_flow": null,
            "grid_area": null,
            "grid_auto_columns": null,
            "grid_auto_flow": null,
            "grid_auto_rows": null,
            "grid_column": null,
            "grid_gap": null,
            "grid_row": null,
            "grid_template_areas": null,
            "grid_template_columns": null,
            "grid_template_rows": null,
            "height": null,
            "justify_content": null,
            "justify_items": null,
            "left": null,
            "margin": null,
            "max_height": null,
            "max_width": null,
            "min_height": null,
            "min_width": null,
            "object_fit": null,
            "object_position": null,
            "order": null,
            "overflow": null,
            "overflow_x": null,
            "overflow_y": null,
            "padding": null,
            "right": null,
            "top": null,
            "visibility": null,
            "width": null
          }
        },
        "7e180fbc824848abad153638094a9953": {
          "model_module": "@jupyter-widgets/controls",
          "model_module_version": "1.5.0",
          "model_name": "HTMLModel",
          "state": {
            "_dom_classes": [],
            "_model_module": "@jupyter-widgets/controls",
            "_model_module_version": "1.5.0",
            "_model_name": "HTMLModel",
            "_view_count": null,
            "_view_module": "@jupyter-widgets/controls",
            "_view_module_version": "1.5.0",
            "_view_name": "HTMLView",
            "description": "",
            "description_tooltip": null,
            "layout": "IPY_MODEL_b33e9169e8ae4e52ab0d7b5c959703fa",
            "placeholder": "​",
            "style": "IPY_MODEL_1cf610b702fc42908e7dbe87108b8e8e",
            "value": " 31%"
          }
        },
        "b33e9169e8ae4e52ab0d7b5c959703fa": {
          "model_module": "@jupyter-widgets/base",
          "model_module_version": "1.2.0",
          "model_name": "LayoutModel",
          "state": {
            "_model_module": "@jupyter-widgets/base",
            "_model_module_version": "1.2.0",
            "_model_name": "LayoutModel",
            "_view_count": null,
            "_view_module": "@jupyter-widgets/base",
            "_view_module_version": "1.2.0",
            "_view_name": "LayoutView",
            "align_content": null,
            "align_items": null,
            "align_self": null,
            "border": null,
            "bottom": null,
            "display": null,
            "flex": null,
            "flex_flow": null,
            "grid_area": null,
            "grid_auto_columns": null,
            "grid_auto_flow": null,
            "grid_auto_rows": null,
            "grid_column": null,
            "grid_gap": null,
            "grid_row": null,
            "grid_template_areas": null,
            "grid_template_columns": null,
            "grid_template_rows": null,
            "height": null,
            "justify_content": null,
            "justify_items": null,
            "left": null,
            "margin": null,
            "max_height": null,
            "max_width": null,
            "min_height": null,
            "min_width": null,
            "object_fit": null,
            "object_position": null,
            "order": null,
            "overflow": null,
            "overflow_x": null,
            "overflow_y": null,
            "padding": null,
            "right": null,
            "top": null,
            "visibility": null,
            "width": null
          }
        },
        "b6fb0a4bb4de41a9adbc094105eaee29": {
          "model_module": "@jupyter-widgets/controls",
          "model_module_version": "1.5.0",
          "model_name": "DescriptionStyleModel",
          "state": {
            "_model_module": "@jupyter-widgets/controls",
            "_model_module_version": "1.5.0",
            "_model_name": "DescriptionStyleModel",
            "_view_count": null,
            "_view_module": "@jupyter-widgets/base",
            "_view_module_version": "1.2.0",
            "_view_name": "StyleView",
            "description_width": ""
          }
        },
        "ca0b4e7f71fe4d7b937a70607e173c78": {
          "model_module": "@jupyter-widgets/controls",
          "model_module_version": "1.5.0",
          "model_name": "HBoxModel",
          "state": {
            "_dom_classes": [],
            "_model_module": "@jupyter-widgets/controls",
            "_model_module_version": "1.5.0",
            "_model_name": "HBoxModel",
            "_view_count": null,
            "_view_module": "@jupyter-widgets/controls",
            "_view_module_version": "1.5.0",
            "_view_name": "HBoxView",
            "box_style": "",
            "children": [
              "IPY_MODEL_7e180fbc824848abad153638094a9953",
              "IPY_MODEL_f7a8040ba3394edcac054576deb475fd",
              "IPY_MODEL_0a9898d192694bfdb4b22f9f6fc407fa"
            ],
            "layout": "IPY_MODEL_3dfa66102da649dab81775c8025597fa"
          }
        },
        "cba74f5ea320490ebf6ec7c799b4633b": {
          "model_module": "@jupyter-widgets/base",
          "model_module_version": "1.2.0",
          "model_name": "LayoutModel",
          "state": {
            "_model_module": "@jupyter-widgets/base",
            "_model_module_version": "1.2.0",
            "_model_name": "LayoutModel",
            "_view_count": null,
            "_view_module": "@jupyter-widgets/base",
            "_view_module_version": "1.2.0",
            "_view_name": "LayoutView",
            "align_content": null,
            "align_items": null,
            "align_self": null,
            "border": null,
            "bottom": null,
            "display": null,
            "flex": null,
            "flex_flow": null,
            "grid_area": null,
            "grid_auto_columns": null,
            "grid_auto_flow": null,
            "grid_auto_rows": null,
            "grid_column": null,
            "grid_gap": null,
            "grid_row": null,
            "grid_template_areas": null,
            "grid_template_columns": null,
            "grid_template_rows": null,
            "height": null,
            "justify_content": null,
            "justify_items": null,
            "left": null,
            "margin": null,
            "max_height": null,
            "max_width": null,
            "min_height": null,
            "min_width": null,
            "object_fit": null,
            "object_position": null,
            "order": null,
            "overflow": null,
            "overflow_x": null,
            "overflow_y": null,
            "padding": null,
            "right": null,
            "top": null,
            "visibility": null,
            "width": null
          }
        },
        "f7a8040ba3394edcac054576deb475fd": {
          "model_module": "@jupyter-widgets/controls",
          "model_module_version": "1.5.0",
          "model_name": "FloatProgressModel",
          "state": {
            "_dom_classes": [],
            "_model_module": "@jupyter-widgets/controls",
            "_model_module_version": "1.5.0",
            "_model_name": "FloatProgressModel",
            "_view_count": null,
            "_view_module": "@jupyter-widgets/controls",
            "_view_module_version": "1.5.0",
            "_view_name": "ProgressView",
            "bar_style": "danger",
            "description": "",
            "description_tooltip": null,
            "layout": "IPY_MODEL_252afef2a9b7441aac756e81778a88f3",
            "max": 85,
            "min": 0,
            "orientation": "horizontal",
            "style": "IPY_MODEL_1de7579f111b49e593f611c2428b6678",
            "value": 26
          }
        }
      }
    }
  },
  "nbformat": 4,
  "nbformat_minor": 0
}
